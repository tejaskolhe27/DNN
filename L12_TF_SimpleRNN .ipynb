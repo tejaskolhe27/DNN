{
 "cells": [
  {
   "cell_type": "markdown",
   "metadata": {
    "id": "deSnZmVy02pF"
   },
   "source": [
    "\n",
    "# LECTURE 12\n",
    "\n",
    "## RNN\n"
   ]
  },
  {
   "cell_type": "code",
   "execution_count": 1,
   "metadata": {
    "id": "rt0pfyeA02pK"
   },
   "outputs": [
    {
     "name": "stderr",
     "output_type": "stream",
     "text": [
      "2023-11-30 12:56:19.218274: I tensorflow/core/util/port.cc:113] oneDNN custom operations are on. You may see slightly different numerical results due to floating-point round-off errors from different computation orders. To turn them off, set the environment variable `TF_ENABLE_ONEDNN_OPTS=0`.\n",
      "2023-11-30 12:56:21.749094: E external/local_xla/xla/stream_executor/cuda/cuda_dnn.cc:9261] Unable to register cuDNN factory: Attempting to register factory for plugin cuDNN when one has already been registered\n",
      "2023-11-30 12:56:21.749289: E external/local_xla/xla/stream_executor/cuda/cuda_fft.cc:607] Unable to register cuFFT factory: Attempting to register factory for plugin cuFFT when one has already been registered\n",
      "2023-11-30 12:56:22.243102: E external/local_xla/xla/stream_executor/cuda/cuda_blas.cc:1515] Unable to register cuBLAS factory: Attempting to register factory for plugin cuBLAS when one has already been registered\n",
      "2023-11-30 12:56:22.842679: I tensorflow/core/platform/cpu_feature_guard.cc:182] This TensorFlow binary is optimized to use available CPU instructions in performance-critical operations.\n",
      "To enable the following instructions: AVX2 AVX512F AVX512_VNNI FMA, in other operations, rebuild TensorFlow with the appropriate compiler flags.\n",
      "2023-11-30 12:56:30.490338: W tensorflow/compiler/tf2tensorrt/utils/py_utils.cc:38] TF-TRT Warning: Could not find TensorRT\n"
     ]
    }
   ],
   "source": [
    "###-----------------\n",
    "### Import Libraries\n",
    "###-----------------;\n",
    "\n",
    "import os\n",
    "import numpy as np\n",
    "import pandas as pd\n",
    "import matplotlib.pyplot as plt\n",
    "import tensorflow as tf\n",
    "from collections.abc import Callable\n",
    "from typing import Literal\n",
    "\n",
    "from sklearn import datasets\n",
    "from sklearn.model_selection import train_test_split\n",
    "from sklearn.metrics import accuracy_score, confusion_matrix, classification_report, ConfusionMatrixDisplay\n",
    "from sklearn.preprocessing import StandardScaler\n",
    "\n",
    "%matplotlib inline"
   ]
  },
  {
   "cell_type": "code",
   "execution_count": 50,
   "metadata": {
    "id": "__T9cczP02pL"
   },
   "outputs": [],
   "source": [
    "###----------------\n",
    "### Some parameters\n",
    "###----------------\n",
    "\n",
    "inpDir = '../input'\n",
    "outDir = '../output'\n",
    "\n",
    "RANDOM_STATE = 24 # REMEMBER: to remove at the time of promotion to production\n",
    "np.random.seed(RANDOM_STATE) # Set Random Seed for reproducible  results\n",
    "\n",
    "EPOCHS = 200 # number of epochs\n",
    "ALPHA = 0.01 # learning rate\n",
    "NUM_SAMPLES = 1280 # How many samples we want to generate\n",
    "NOISE = 0.2 # Noise to be introduced in the data\n",
    "TEST_SIZE = 0.2\n",
    "BATCH_SIZE = 32\n",
    "TRAIN_SIZE = 14496\n",
    "\n",
    "# parameters for Matplotlib\n",
    "params = {'legend.fontsize': 'x-large',\n",
    "          'figure.figsize': (15, 8),\n",
    "          'axes.labelsize': 'x-large',\n",
    "          'axes.titlesize':'x-large',\n",
    "          'xtick.labelsize':'x-large',\n",
    "          'ytick.labelsize':'x-large'\n",
    "         }\n",
    "\n",
    "CMAP = 'coolwarm' # plt.cm.Spectral\n",
    "\n",
    "plt.rcParams.update(params)"
   ]
  },
  {
   "cell_type": "markdown",
   "metadata": {
    "id": "Qv1UH37eLOxQ"
   },
   "source": [
    "## Helper Functions"
   ]
  },
  {
   "cell_type": "code",
   "execution_count": 3,
   "metadata": {
    "id": "CqwPimiRLOxQ"
   },
   "outputs": [],
   "source": [
    "###-----------------------------------\n",
    "### Function to plot Decision boundary\n",
    "###-----------------------------------\n",
    "\n",
    "def fn_plot_decision_boundary(pred_func: Callable[[], np.float64], X_tr: np.ndarray, y_tr: np.ndarray, X_ts :  np.ndarray, y_ts:  np.ndarray,):\n",
    "    '''\n",
    "        Attrib:\n",
    "           pred_func : function based on predict method of the classifier\n",
    "           X_tr : train feature matrix\n",
    "           y_tr : train labels\n",
    "           X_ts : test feature matrix\n",
    "           y_ts : test labels\n",
    "       Return:\n",
    "           None\n",
    "    '''\n",
    "\n",
    "    # Set min and max values and give it some padding\n",
    "    xMin, xMax = X_tr[:, 0].min() - .05, X_tr[:, 0].max() + .05\n",
    "    yMin, yMax = X_tr[:, 1].min() - .05, X_tr[:, 1].max() + .05\n",
    "\n",
    "    # grid size for mesh grid\n",
    "    h = 0.01\n",
    "\n",
    "    # Generate a grid of points with distance 'h' between them\n",
    "    xx, yy = np.meshgrid(np.arange(xMin, xMax, h), np.arange(yMin, yMax, h))\n",
    "\n",
    "    # Predict the function value for the whole grid\n",
    "    Z = pred_func(np.c_[xx.ravel(), yy.ravel()])\n",
    "\n",
    "    # Make its shape same as that of xx\n",
    "    Z = Z.reshape(xx.shape)\n",
    "\n",
    "    fig = plt.figure()\n",
    "    ax = fig.add_axes(111)\n",
    "\n",
    "    # Now we have Z value corresponding to each of the combination of xx and yy\n",
    "    # Plot the contour and training examples\n",
    "    ax.contourf(xx, yy, Z, cmap=CMAP) #, alpha = 0.8\n",
    "\n",
    "    # Plotting scatter for train data\n",
    "    ax.scatter(X_tr[:, 0], X_tr[:, 1],\n",
    "               c=np.argmax(y_tr, axis = 1), # y_tr has two columns\n",
    "               s=30, edgecolor='k', cmap=plt.cm.coolwarm)\n",
    "\n",
    "\n",
    "    # Plotting scatter for test data\n",
    "    ax.scatter(X_ts[:, 0], X_ts[:, 1],\n",
    "               c=np.argmax(y_ts, axis = 1), # y_tr has two columns ,\n",
    "                                  s=150, marker = '*',edgecolor='k', cmap=plt.cm.inferno )\n"
   ]
  },
  {
   "cell_type": "markdown",
   "metadata": {
    "id": "7bhVN20X02pN"
   },
   "source": [
    "## Generate Data Set"
   ]
  },
  {
   "cell_type": "code",
   "execution_count": 23,
   "metadata": {
    "id": "o0n2R1BULOxS"
   },
   "outputs": [],
   "source": [
    "data_df=pd.read_csv('weatherHistory.csv')"
   ]
  },
  {
   "cell_type": "code",
   "execution_count": 24,
   "metadata": {
    "colab": {
     "base_uri": "https://localhost:8080/",
     "height": 635
    },
    "id": "lQReZqWHLOxS",
    "outputId": "01356093-3f95-4f78-d1c5-3c1b74d4e637"
   },
   "outputs": [
    {
     "data": {
      "text/html": [
       "<div>\n",
       "<style scoped>\n",
       "    .dataframe tbody tr th:only-of-type {\n",
       "        vertical-align: middle;\n",
       "    }\n",
       "\n",
       "    .dataframe tbody tr th {\n",
       "        vertical-align: top;\n",
       "    }\n",
       "\n",
       "    .dataframe thead th {\n",
       "        text-align: right;\n",
       "    }\n",
       "</style>\n",
       "<table border=\"1\" class=\"dataframe\">\n",
       "  <thead>\n",
       "    <tr style=\"text-align: right;\">\n",
       "      <th></th>\n",
       "      <th>Formatted Date</th>\n",
       "      <th>Summary</th>\n",
       "      <th>Precip Type</th>\n",
       "      <th>Temperature (C)</th>\n",
       "      <th>Apparent Temperature (C)</th>\n",
       "      <th>Humidity</th>\n",
       "      <th>Wind Speed (km/h)</th>\n",
       "      <th>Wind Bearing (degrees)</th>\n",
       "      <th>Visibility (km)</th>\n",
       "      <th>Loud Cover</th>\n",
       "      <th>Pressure (millibars)</th>\n",
       "      <th>Daily Summary</th>\n",
       "    </tr>\n",
       "  </thead>\n",
       "  <tbody>\n",
       "    <tr>\n",
       "      <th>0</th>\n",
       "      <td>2006-04-01 00:00:00.000 +0200</td>\n",
       "      <td>Partly Cloudy</td>\n",
       "      <td>rain</td>\n",
       "      <td>9.472222</td>\n",
       "      <td>7.388889</td>\n",
       "      <td>0.89</td>\n",
       "      <td>14.1197</td>\n",
       "      <td>251.0</td>\n",
       "      <td>15.8263</td>\n",
       "      <td>0.0</td>\n",
       "      <td>1015.13</td>\n",
       "      <td>Partly cloudy throughout the day.</td>\n",
       "    </tr>\n",
       "    <tr>\n",
       "      <th>1</th>\n",
       "      <td>2006-04-01 01:00:00.000 +0200</td>\n",
       "      <td>Partly Cloudy</td>\n",
       "      <td>rain</td>\n",
       "      <td>9.355556</td>\n",
       "      <td>7.227778</td>\n",
       "      <td>0.86</td>\n",
       "      <td>14.2646</td>\n",
       "      <td>259.0</td>\n",
       "      <td>15.8263</td>\n",
       "      <td>0.0</td>\n",
       "      <td>1015.63</td>\n",
       "      <td>Partly cloudy throughout the day.</td>\n",
       "    </tr>\n",
       "    <tr>\n",
       "      <th>2</th>\n",
       "      <td>2006-04-01 02:00:00.000 +0200</td>\n",
       "      <td>Mostly Cloudy</td>\n",
       "      <td>rain</td>\n",
       "      <td>9.377778</td>\n",
       "      <td>9.377778</td>\n",
       "      <td>0.89</td>\n",
       "      <td>3.9284</td>\n",
       "      <td>204.0</td>\n",
       "      <td>14.9569</td>\n",
       "      <td>0.0</td>\n",
       "      <td>1015.94</td>\n",
       "      <td>Partly cloudy throughout the day.</td>\n",
       "    </tr>\n",
       "    <tr>\n",
       "      <th>3</th>\n",
       "      <td>2006-04-01 03:00:00.000 +0200</td>\n",
       "      <td>Partly Cloudy</td>\n",
       "      <td>rain</td>\n",
       "      <td>8.288889</td>\n",
       "      <td>5.944444</td>\n",
       "      <td>0.83</td>\n",
       "      <td>14.1036</td>\n",
       "      <td>269.0</td>\n",
       "      <td>15.8263</td>\n",
       "      <td>0.0</td>\n",
       "      <td>1016.41</td>\n",
       "      <td>Partly cloudy throughout the day.</td>\n",
       "    </tr>\n",
       "    <tr>\n",
       "      <th>4</th>\n",
       "      <td>2006-04-01 04:00:00.000 +0200</td>\n",
       "      <td>Mostly Cloudy</td>\n",
       "      <td>rain</td>\n",
       "      <td>8.755556</td>\n",
       "      <td>6.977778</td>\n",
       "      <td>0.83</td>\n",
       "      <td>11.0446</td>\n",
       "      <td>259.0</td>\n",
       "      <td>15.8263</td>\n",
       "      <td>0.0</td>\n",
       "      <td>1016.51</td>\n",
       "      <td>Partly cloudy throughout the day.</td>\n",
       "    </tr>\n",
       "    <tr>\n",
       "      <th>...</th>\n",
       "      <td>...</td>\n",
       "      <td>...</td>\n",
       "      <td>...</td>\n",
       "      <td>...</td>\n",
       "      <td>...</td>\n",
       "      <td>...</td>\n",
       "      <td>...</td>\n",
       "      <td>...</td>\n",
       "      <td>...</td>\n",
       "      <td>...</td>\n",
       "      <td>...</td>\n",
       "      <td>...</td>\n",
       "    </tr>\n",
       "    <tr>\n",
       "      <th>96448</th>\n",
       "      <td>2016-09-09 19:00:00.000 +0200</td>\n",
       "      <td>Partly Cloudy</td>\n",
       "      <td>rain</td>\n",
       "      <td>26.016667</td>\n",
       "      <td>26.016667</td>\n",
       "      <td>0.43</td>\n",
       "      <td>10.9963</td>\n",
       "      <td>31.0</td>\n",
       "      <td>16.1000</td>\n",
       "      <td>0.0</td>\n",
       "      <td>1014.36</td>\n",
       "      <td>Partly cloudy starting in the morning.</td>\n",
       "    </tr>\n",
       "    <tr>\n",
       "      <th>96449</th>\n",
       "      <td>2016-09-09 20:00:00.000 +0200</td>\n",
       "      <td>Partly Cloudy</td>\n",
       "      <td>rain</td>\n",
       "      <td>24.583333</td>\n",
       "      <td>24.583333</td>\n",
       "      <td>0.48</td>\n",
       "      <td>10.0947</td>\n",
       "      <td>20.0</td>\n",
       "      <td>15.5526</td>\n",
       "      <td>0.0</td>\n",
       "      <td>1015.16</td>\n",
       "      <td>Partly cloudy starting in the morning.</td>\n",
       "    </tr>\n",
       "    <tr>\n",
       "      <th>96450</th>\n",
       "      <td>2016-09-09 21:00:00.000 +0200</td>\n",
       "      <td>Partly Cloudy</td>\n",
       "      <td>rain</td>\n",
       "      <td>22.038889</td>\n",
       "      <td>22.038889</td>\n",
       "      <td>0.56</td>\n",
       "      <td>8.9838</td>\n",
       "      <td>30.0</td>\n",
       "      <td>16.1000</td>\n",
       "      <td>0.0</td>\n",
       "      <td>1015.66</td>\n",
       "      <td>Partly cloudy starting in the morning.</td>\n",
       "    </tr>\n",
       "    <tr>\n",
       "      <th>96451</th>\n",
       "      <td>2016-09-09 22:00:00.000 +0200</td>\n",
       "      <td>Partly Cloudy</td>\n",
       "      <td>rain</td>\n",
       "      <td>21.522222</td>\n",
       "      <td>21.522222</td>\n",
       "      <td>0.60</td>\n",
       "      <td>10.5294</td>\n",
       "      <td>20.0</td>\n",
       "      <td>16.1000</td>\n",
       "      <td>0.0</td>\n",
       "      <td>1015.95</td>\n",
       "      <td>Partly cloudy starting in the morning.</td>\n",
       "    </tr>\n",
       "    <tr>\n",
       "      <th>96452</th>\n",
       "      <td>2016-09-09 23:00:00.000 +0200</td>\n",
       "      <td>Partly Cloudy</td>\n",
       "      <td>rain</td>\n",
       "      <td>20.438889</td>\n",
       "      <td>20.438889</td>\n",
       "      <td>0.61</td>\n",
       "      <td>5.8765</td>\n",
       "      <td>39.0</td>\n",
       "      <td>15.5204</td>\n",
       "      <td>0.0</td>\n",
       "      <td>1016.16</td>\n",
       "      <td>Partly cloudy starting in the morning.</td>\n",
       "    </tr>\n",
       "  </tbody>\n",
       "</table>\n",
       "<p>96453 rows × 12 columns</p>\n",
       "</div>"
      ],
      "text/plain": [
       "                      Formatted Date        Summary Precip Type  \\\n",
       "0      2006-04-01 00:00:00.000 +0200  Partly Cloudy        rain   \n",
       "1      2006-04-01 01:00:00.000 +0200  Partly Cloudy        rain   \n",
       "2      2006-04-01 02:00:00.000 +0200  Mostly Cloudy        rain   \n",
       "3      2006-04-01 03:00:00.000 +0200  Partly Cloudy        rain   \n",
       "4      2006-04-01 04:00:00.000 +0200  Mostly Cloudy        rain   \n",
       "...                              ...            ...         ...   \n",
       "96448  2016-09-09 19:00:00.000 +0200  Partly Cloudy        rain   \n",
       "96449  2016-09-09 20:00:00.000 +0200  Partly Cloudy        rain   \n",
       "96450  2016-09-09 21:00:00.000 +0200  Partly Cloudy        rain   \n",
       "96451  2016-09-09 22:00:00.000 +0200  Partly Cloudy        rain   \n",
       "96452  2016-09-09 23:00:00.000 +0200  Partly Cloudy        rain   \n",
       "\n",
       "       Temperature (C)  Apparent Temperature (C)  Humidity  Wind Speed (km/h)  \\\n",
       "0             9.472222                  7.388889      0.89            14.1197   \n",
       "1             9.355556                  7.227778      0.86            14.2646   \n",
       "2             9.377778                  9.377778      0.89             3.9284   \n",
       "3             8.288889                  5.944444      0.83            14.1036   \n",
       "4             8.755556                  6.977778      0.83            11.0446   \n",
       "...                ...                       ...       ...                ...   \n",
       "96448        26.016667                 26.016667      0.43            10.9963   \n",
       "96449        24.583333                 24.583333      0.48            10.0947   \n",
       "96450        22.038889                 22.038889      0.56             8.9838   \n",
       "96451        21.522222                 21.522222      0.60            10.5294   \n",
       "96452        20.438889                 20.438889      0.61             5.8765   \n",
       "\n",
       "       Wind Bearing (degrees)  Visibility (km)  Loud Cover  \\\n",
       "0                       251.0          15.8263         0.0   \n",
       "1                       259.0          15.8263         0.0   \n",
       "2                       204.0          14.9569         0.0   \n",
       "3                       269.0          15.8263         0.0   \n",
       "4                       259.0          15.8263         0.0   \n",
       "...                       ...              ...         ...   \n",
       "96448                    31.0          16.1000         0.0   \n",
       "96449                    20.0          15.5526         0.0   \n",
       "96450                    30.0          16.1000         0.0   \n",
       "96451                    20.0          16.1000         0.0   \n",
       "96452                    39.0          15.5204         0.0   \n",
       "\n",
       "       Pressure (millibars)                           Daily Summary  \n",
       "0                   1015.13       Partly cloudy throughout the day.  \n",
       "1                   1015.63       Partly cloudy throughout the day.  \n",
       "2                   1015.94       Partly cloudy throughout the day.  \n",
       "3                   1016.41       Partly cloudy throughout the day.  \n",
       "4                   1016.51       Partly cloudy throughout the day.  \n",
       "...                     ...                                     ...  \n",
       "96448               1014.36  Partly cloudy starting in the morning.  \n",
       "96449               1015.16  Partly cloudy starting in the morning.  \n",
       "96450               1015.66  Partly cloudy starting in the morning.  \n",
       "96451               1015.95  Partly cloudy starting in the morning.  \n",
       "96452               1016.16  Partly cloudy starting in the morning.  \n",
       "\n",
       "[96453 rows x 12 columns]"
      ]
     },
     "execution_count": 24,
     "metadata": {},
     "output_type": "execute_result"
    }
   ],
   "source": [
    "data_df"
   ]
  },
  {
   "cell_type": "code",
   "execution_count": 25,
   "metadata": {},
   "outputs": [
    {
     "name": "stdout",
     "output_type": "stream",
     "text": [
      "<class 'pandas.core.frame.DataFrame'>\n",
      "RangeIndex: 96453 entries, 0 to 96452\n",
      "Data columns (total 12 columns):\n",
      " #   Column                    Non-Null Count  Dtype  \n",
      "---  ------                    --------------  -----  \n",
      " 0   Formatted Date            96453 non-null  object \n",
      " 1   Summary                   96453 non-null  object \n",
      " 2   Precip Type               95936 non-null  object \n",
      " 3   Temperature (C)           96453 non-null  float64\n",
      " 4   Apparent Temperature (C)  96453 non-null  float64\n",
      " 5   Humidity                  96453 non-null  float64\n",
      " 6   Wind Speed (km/h)         96453 non-null  float64\n",
      " 7   Wind Bearing (degrees)    96453 non-null  float64\n",
      " 8   Visibility (km)           96453 non-null  float64\n",
      " 9   Loud Cover                96453 non-null  float64\n",
      " 10  Pressure (millibars)      96453 non-null  float64\n",
      " 11  Daily Summary             96453 non-null  object \n",
      "dtypes: float64(8), object(4)\n",
      "memory usage: 8.8+ MB\n"
     ]
    }
   ],
   "source": [
    "data_df.info()"
   ]
  },
  {
   "cell_type": "code",
   "execution_count": 26,
   "metadata": {},
   "outputs": [],
   "source": [
    "data_df['Time'] = pd.to_datetime(data_df['Formatted Date'],utc=True)"
   ]
  },
  {
   "cell_type": "code",
   "execution_count": 27,
   "metadata": {
    "colab": {
     "base_uri": "https://localhost:8080/"
    },
    "id": "TOpXObp6LOxT",
    "outputId": "cfe4fd3d-b4aa-4c70-827a-dafedf3e62bd"
   },
   "outputs": [],
   "source": [
    "data_df.drop('Formatted Date',axis=1,inplace=True)"
   ]
  },
  {
   "cell_type": "code",
   "execution_count": 28,
   "metadata": {},
   "outputs": [
    {
     "data": {
      "text/html": [
       "<div>\n",
       "<style scoped>\n",
       "    .dataframe tbody tr th:only-of-type {\n",
       "        vertical-align: middle;\n",
       "    }\n",
       "\n",
       "    .dataframe tbody tr th {\n",
       "        vertical-align: top;\n",
       "    }\n",
       "\n",
       "    .dataframe thead th {\n",
       "        text-align: right;\n",
       "    }\n",
       "</style>\n",
       "<table border=\"1\" class=\"dataframe\">\n",
       "  <thead>\n",
       "    <tr style=\"text-align: right;\">\n",
       "      <th></th>\n",
       "      <th>Summary</th>\n",
       "      <th>Precip Type</th>\n",
       "      <th>Temperature (C)</th>\n",
       "      <th>Apparent Temperature (C)</th>\n",
       "      <th>Humidity</th>\n",
       "      <th>Wind Speed (km/h)</th>\n",
       "      <th>Wind Bearing (degrees)</th>\n",
       "      <th>Visibility (km)</th>\n",
       "      <th>Loud Cover</th>\n",
       "      <th>Pressure (millibars)</th>\n",
       "      <th>Daily Summary</th>\n",
       "      <th>Time</th>\n",
       "    </tr>\n",
       "  </thead>\n",
       "  <tbody>\n",
       "    <tr>\n",
       "      <th>0</th>\n",
       "      <td>Partly Cloudy</td>\n",
       "      <td>rain</td>\n",
       "      <td>9.472222</td>\n",
       "      <td>7.388889</td>\n",
       "      <td>0.89</td>\n",
       "      <td>14.1197</td>\n",
       "      <td>251.0</td>\n",
       "      <td>15.8263</td>\n",
       "      <td>0.0</td>\n",
       "      <td>1015.13</td>\n",
       "      <td>Partly cloudy throughout the day.</td>\n",
       "      <td>2006-03-31 22:00:00+00:00</td>\n",
       "    </tr>\n",
       "    <tr>\n",
       "      <th>1</th>\n",
       "      <td>Partly Cloudy</td>\n",
       "      <td>rain</td>\n",
       "      <td>9.355556</td>\n",
       "      <td>7.227778</td>\n",
       "      <td>0.86</td>\n",
       "      <td>14.2646</td>\n",
       "      <td>259.0</td>\n",
       "      <td>15.8263</td>\n",
       "      <td>0.0</td>\n",
       "      <td>1015.63</td>\n",
       "      <td>Partly cloudy throughout the day.</td>\n",
       "      <td>2006-03-31 23:00:00+00:00</td>\n",
       "    </tr>\n",
       "    <tr>\n",
       "      <th>2</th>\n",
       "      <td>Mostly Cloudy</td>\n",
       "      <td>rain</td>\n",
       "      <td>9.377778</td>\n",
       "      <td>9.377778</td>\n",
       "      <td>0.89</td>\n",
       "      <td>3.9284</td>\n",
       "      <td>204.0</td>\n",
       "      <td>14.9569</td>\n",
       "      <td>0.0</td>\n",
       "      <td>1015.94</td>\n",
       "      <td>Partly cloudy throughout the day.</td>\n",
       "      <td>2006-04-01 00:00:00+00:00</td>\n",
       "    </tr>\n",
       "    <tr>\n",
       "      <th>3</th>\n",
       "      <td>Partly Cloudy</td>\n",
       "      <td>rain</td>\n",
       "      <td>8.288889</td>\n",
       "      <td>5.944444</td>\n",
       "      <td>0.83</td>\n",
       "      <td>14.1036</td>\n",
       "      <td>269.0</td>\n",
       "      <td>15.8263</td>\n",
       "      <td>0.0</td>\n",
       "      <td>1016.41</td>\n",
       "      <td>Partly cloudy throughout the day.</td>\n",
       "      <td>2006-04-01 01:00:00+00:00</td>\n",
       "    </tr>\n",
       "    <tr>\n",
       "      <th>4</th>\n",
       "      <td>Mostly Cloudy</td>\n",
       "      <td>rain</td>\n",
       "      <td>8.755556</td>\n",
       "      <td>6.977778</td>\n",
       "      <td>0.83</td>\n",
       "      <td>11.0446</td>\n",
       "      <td>259.0</td>\n",
       "      <td>15.8263</td>\n",
       "      <td>0.0</td>\n",
       "      <td>1016.51</td>\n",
       "      <td>Partly cloudy throughout the day.</td>\n",
       "      <td>2006-04-01 02:00:00+00:00</td>\n",
       "    </tr>\n",
       "  </tbody>\n",
       "</table>\n",
       "</div>"
      ],
      "text/plain": [
       "         Summary Precip Type  Temperature (C)  Apparent Temperature (C)  \\\n",
       "0  Partly Cloudy        rain         9.472222                  7.388889   \n",
       "1  Partly Cloudy        rain         9.355556                  7.227778   \n",
       "2  Mostly Cloudy        rain         9.377778                  9.377778   \n",
       "3  Partly Cloudy        rain         8.288889                  5.944444   \n",
       "4  Mostly Cloudy        rain         8.755556                  6.977778   \n",
       "\n",
       "   Humidity  Wind Speed (km/h)  Wind Bearing (degrees)  Visibility (km)  \\\n",
       "0      0.89            14.1197                   251.0          15.8263   \n",
       "1      0.86            14.2646                   259.0          15.8263   \n",
       "2      0.89             3.9284                   204.0          14.9569   \n",
       "3      0.83            14.1036                   269.0          15.8263   \n",
       "4      0.83            11.0446                   259.0          15.8263   \n",
       "\n",
       "   Loud Cover  Pressure (millibars)                      Daily Summary  \\\n",
       "0         0.0               1015.13  Partly cloudy throughout the day.   \n",
       "1         0.0               1015.63  Partly cloudy throughout the day.   \n",
       "2         0.0               1015.94  Partly cloudy throughout the day.   \n",
       "3         0.0               1016.41  Partly cloudy throughout the day.   \n",
       "4         0.0               1016.51  Partly cloudy throughout the day.   \n",
       "\n",
       "                       Time  \n",
       "0 2006-03-31 22:00:00+00:00  \n",
       "1 2006-03-31 23:00:00+00:00  \n",
       "2 2006-04-01 00:00:00+00:00  \n",
       "3 2006-04-01 01:00:00+00:00  \n",
       "4 2006-04-01 02:00:00+00:00  "
      ]
     },
     "execution_count": 28,
     "metadata": {},
     "output_type": "execute_result"
    }
   ],
   "source": [
    "data_df.head()"
   ]
  },
  {
   "cell_type": "code",
   "execution_count": 29,
   "metadata": {
    "colab": {
     "base_uri": "https://localhost:8080/"
    },
    "id": "uuv1k9HtLOxU",
    "outputId": "a5e987b3-7862-4bb6-ee8e-5b4fd0d49e99",
    "scrolled": false
   },
   "outputs": [
    {
     "data": {
      "image/png": "[encoded data removed]",
      "text/plain": [
       "<Figure size 640x480 with 1 Axes>"
      ]
     },
     "metadata": {},
     "output_type": "display_data"
    }
   ],
   "source": [
    "data_df['Time'].plot();"
   ]
  },
  {
   "cell_type": "code",
   "execution_count": 32,
   "metadata": {
    "colab": {
     "base_uri": "https://localhost:8080/"
    },
    "id": "XdvzDO1xLOxV",
    "outputId": "b451c293-f04e-4c73-a1a5-71d4e415ceb2"
   },
   "outputs": [
    {
     "data": {
      "text/html": [
       "<div>\n",
       "<style scoped>\n",
       "    .dataframe tbody tr th:only-of-type {\n",
       "        vertical-align: middle;\n",
       "    }\n",
       "\n",
       "    .dataframe tbody tr th {\n",
       "        vertical-align: top;\n",
       "    }\n",
       "\n",
       "    .dataframe thead th {\n",
       "        text-align: right;\n",
       "    }\n",
       "</style>\n",
       "<table border=\"1\" class=\"dataframe\">\n",
       "  <thead>\n",
       "    <tr style=\"text-align: right;\">\n",
       "      <th></th>\n",
       "      <th>Time</th>\n",
       "      <th>Temperature (C)</th>\n",
       "    </tr>\n",
       "  </thead>\n",
       "  <tbody>\n",
       "    <tr>\n",
       "      <th>0</th>\n",
       "      <td>2005-12-31 23:00:00+00:00</td>\n",
       "      <td>0.577778</td>\n",
       "    </tr>\n",
       "    <tr>\n",
       "      <th>1</th>\n",
       "      <td>2006-01-01 00:00:00+00:00</td>\n",
       "      <td>1.161111</td>\n",
       "    </tr>\n",
       "    <tr>\n",
       "      <th>2</th>\n",
       "      <td>2006-01-01 01:00:00+00:00</td>\n",
       "      <td>1.666667</td>\n",
       "    </tr>\n",
       "    <tr>\n",
       "      <th>3</th>\n",
       "      <td>2006-01-01 02:00:00+00:00</td>\n",
       "      <td>1.711111</td>\n",
       "    </tr>\n",
       "    <tr>\n",
       "      <th>4</th>\n",
       "      <td>2006-01-01 03:00:00+00:00</td>\n",
       "      <td>1.183333</td>\n",
       "    </tr>\n",
       "  </tbody>\n",
       "</table>\n",
       "</div>"
      ],
      "text/plain": [
       "                       Time  Temperature (C)\n",
       "0 2005-12-31 23:00:00+00:00         0.577778\n",
       "1 2006-01-01 00:00:00+00:00         1.161111\n",
       "2 2006-01-01 01:00:00+00:00         1.666667\n",
       "3 2006-01-01 02:00:00+00:00         1.711111\n",
       "4 2006-01-01 03:00:00+00:00         1.183333"
      ]
     },
     "execution_count": 32,
     "metadata": {},
     "output_type": "execute_result"
    }
   ],
   "source": [
    "temp_df = data_df[['Time','Temperature (C)']]\n",
    "temp_df = temp_df.sort_values('Time',axis=0,ascending=True)\n",
    "temp_df = temp_df.reset_index(drop=True)\n",
    "temp_df.head()"
   ]
  },
  {
   "cell_type": "code",
   "execution_count": 34,
   "metadata": {
    "colab": {
     "base_uri": "https://localhost:8080/"
    },
    "id": "LB5Y704vLOxV",
    "outputId": "be8f4f6b-a99f-4cde-afe4-ed7d3f8bebc5"
   },
   "outputs": [
    {
     "data": {
      "image/png": "[encoded data removed]",
      "text/plain": [
       "<Figure size 640x480 with 1 Axes>"
      ]
     },
     "metadata": {},
     "output_type": "display_data"
    }
   ],
   "source": [
    "temp_df['Temperature (C)'].plot();"
   ]
  },
  {
   "cell_type": "code",
   "execution_count": 35,
   "metadata": {},
   "outputs": [
    {
     "data": {
      "text/html": [
       "<div>\n",
       "<style scoped>\n",
       "    .dataframe tbody tr th:only-of-type {\n",
       "        vertical-align: middle;\n",
       "    }\n",
       "\n",
       "    .dataframe tbody tr th {\n",
       "        vertical-align: top;\n",
       "    }\n",
       "\n",
       "    .dataframe thead th {\n",
       "        text-align: right;\n",
       "    }\n",
       "</style>\n",
       "<table border=\"1\" class=\"dataframe\">\n",
       "  <thead>\n",
       "    <tr style=\"text-align: right;\">\n",
       "      <th></th>\n",
       "      <th>Time</th>\n",
       "      <th>temp</th>\n",
       "    </tr>\n",
       "  </thead>\n",
       "  <tbody>\n",
       "    <tr>\n",
       "      <th>0</th>\n",
       "      <td>2005-12-31 23:00:00+00:00</td>\n",
       "      <td>0.577778</td>\n",
       "    </tr>\n",
       "    <tr>\n",
       "      <th>1</th>\n",
       "      <td>2006-01-01 00:00:00+00:00</td>\n",
       "      <td>1.161111</td>\n",
       "    </tr>\n",
       "    <tr>\n",
       "      <th>2</th>\n",
       "      <td>2006-01-01 01:00:00+00:00</td>\n",
       "      <td>1.666667</td>\n",
       "    </tr>\n",
       "    <tr>\n",
       "      <th>3</th>\n",
       "      <td>2006-01-01 02:00:00+00:00</td>\n",
       "      <td>1.711111</td>\n",
       "    </tr>\n",
       "    <tr>\n",
       "      <th>4</th>\n",
       "      <td>2006-01-01 03:00:00+00:00</td>\n",
       "      <td>1.183333</td>\n",
       "    </tr>\n",
       "  </tbody>\n",
       "</table>\n",
       "</div>"
      ],
      "text/plain": [
       "                       Time      temp\n",
       "0 2005-12-31 23:00:00+00:00  0.577778\n",
       "1 2006-01-01 00:00:00+00:00  1.161111\n",
       "2 2006-01-01 01:00:00+00:00  1.666667\n",
       "3 2006-01-01 02:00:00+00:00  1.711111\n",
       "4 2006-01-01 03:00:00+00:00  1.183333"
      ]
     },
     "execution_count": 35,
     "metadata": {},
     "output_type": "execute_result"
    }
   ],
   "source": [
    "temp_df = temp_df.rename({'Temperature (C)': 'temp'}, axis=1)\n",
    "temp_df.head()"
   ]
  },
  {
   "cell_type": "code",
   "execution_count": 36,
   "metadata": {
    "colab": {
     "base_uri": "https://localhost:8080/",
     "height": 87
    },
    "id": "OQDW6uw6LOxW",
    "outputId": "a8b12a3e-e433-48e1-a3ca-cf1ce1bcd667"
   },
   "outputs": [
    {
     "data": {
      "text/html": [
       "<div>\n",
       "<style scoped>\n",
       "    .dataframe tbody tr th:only-of-type {\n",
       "        vertical-align: middle;\n",
       "    }\n",
       "\n",
       "    .dataframe tbody tr th {\n",
       "        vertical-align: top;\n",
       "    }\n",
       "\n",
       "    .dataframe thead th {\n",
       "        text-align: right;\n",
       "    }\n",
       "</style>\n",
       "<table border=\"1\" class=\"dataframe\">\n",
       "  <thead>\n",
       "    <tr style=\"text-align: right;\">\n",
       "      <th></th>\n",
       "      <th>Time</th>\n",
       "      <th>temp</th>\n",
       "    </tr>\n",
       "  </thead>\n",
       "  <tbody>\n",
       "    <tr>\n",
       "      <th>0</th>\n",
       "      <td>2005-12-31 23:00:00+00:00</td>\n",
       "      <td>0.577778</td>\n",
       "    </tr>\n",
       "    <tr>\n",
       "      <th>1</th>\n",
       "      <td>2006-01-01 00:00:00+00:00</td>\n",
       "      <td>1.161111</td>\n",
       "    </tr>\n",
       "    <tr>\n",
       "      <th>2</th>\n",
       "      <td>2006-01-01 01:00:00+00:00</td>\n",
       "      <td>1.666667</td>\n",
       "    </tr>\n",
       "    <tr>\n",
       "      <th>3</th>\n",
       "      <td>2006-01-01 02:00:00+00:00</td>\n",
       "      <td>1.711111</td>\n",
       "    </tr>\n",
       "    <tr>\n",
       "      <th>4</th>\n",
       "      <td>2006-01-01 03:00:00+00:00</td>\n",
       "      <td>1.183333</td>\n",
       "    </tr>\n",
       "  </tbody>\n",
       "</table>\n",
       "</div>"
      ],
      "text/plain": [
       "                       Time      temp\n",
       "0 2005-12-31 23:00:00+00:00  0.577778\n",
       "1 2006-01-01 00:00:00+00:00  1.161111\n",
       "2 2006-01-01 01:00:00+00:00  1.666667\n",
       "3 2006-01-01 02:00:00+00:00  1.711111\n",
       "4 2006-01-01 03:00:00+00:00  1.183333"
      ]
     },
     "execution_count": 36,
     "metadata": {},
     "output_type": "execute_result"
    }
   ],
   "source": [
    "temp_df.reset_index(drop=True, inplace = True)\n",
    "temp_df.head()"
   ]
  },
  {
   "cell_type": "code",
   "execution_count": 37,
   "metadata": {
    "colab": {
     "base_uri": "https://localhost:8080/"
    },
    "id": "wyBwa9KULOxh",
    "outputId": "1c74a88c-bb85-41a0-e1c7-2dca9c7938df"
   },
   "outputs": [
    {
     "data": {
      "text/plain": [
       "(96453, 2)"
      ]
     },
     "execution_count": 37,
     "metadata": {},
     "output_type": "execute_result"
    }
   ],
   "source": [
    "temp_df.shape"
   ]
  },
  {
   "cell_type": "markdown",
   "metadata": {
    "id": "AO0dREm202pj"
   },
   "source": [
    "### Prepare Model:"
   ]
  },
  {
   "cell_type": "code",
   "execution_count": 9,
   "metadata": {},
   "outputs": [],
   "source": [
    "h_units=100\n",
    "\n",
    "input_shape=(1,10000)\n",
    "\n",
    "model = tf.keras.Sequential()\n",
    "\n",
    "model.add(tf.keras.layers.SimpleRNN(units=h_units,\n",
    "                                   input_shape=input_shape,\n",
    "                                   activation='tanh'))\n",
    "\n",
    "model.add(tf.keras.layers.Dense(units=1,\n",
    "                               activation='linear'))"
   ]
  },
  {
   "cell_type": "code",
   "execution_count": 11,
   "metadata": {
    "id": "2SI53Ri2LOxj"
   },
   "outputs": [
    {
     "name": "stdout",
     "output_type": "stream",
     "text": [
      "Model: \"sequential\"\n",
      "_________________________________________________________________\n",
      " Layer (type)                Output Shape              Param #   \n",
      "=================================================================\n",
      " simple_rnn (SimpleRNN)      (None, 100)               1010100   \n",
      "                                                                 \n",
      " dense (Dense)               (None, 1)                 101       \n",
      "                                                                 \n",
      "=================================================================\n",
      "Total params: 1010201 (3.85 MB)\n",
      "Trainable params: 1010201 (3.85 MB)\n",
      "Non-trainable params: 0 (0.00 Byte)\n",
      "_________________________________________________________________\n"
     ]
    }
   ],
   "source": [
    "model.summary()"
   ]
  },
  {
   "cell_type": "code",
   "execution_count": 38,
   "metadata": {
    "id": "_nONOt_ALOxm"
   },
   "outputs": [
    {
     "name": "stdout",
     "output_type": "stream",
     "text": [
      "Shape of Matrix:\n",
      "Wax =  (10000, 100) ; Waa =  (100, 100) ; baa =  (100,) ; Way =  (100, 1) ; bay =  (1,)\n"
     ]
    }
   ],
   "source": [
    "wax = model.get_weights()[0].shape\n",
    "waa = model.get_weights()[1].shape\n",
    "baa = model.get_weights()[2].shape\n",
    "way = model.get_weights()[3].shape\n",
    "bay = model.get_weights()[4].shape\n",
    "\n",
    "print ('Shape of Matrix:')\n",
    "print ('Wax = ', wax,'; Waa = ', waa, '; baa = ', baa,'; Way = ', way,'; bay = ', bay)"
   ]
  },
  {
   "cell_type": "code",
   "execution_count": 39,
   "metadata": {
    "colab": {
     "base_uri": "https://localhost:8080/"
    },
    "id": "H__7hLM0LOxy",
    "outputId": "06c71309-bb11-4e71-beda-ab77ac2232a2"
   },
   "outputs": [],
   "source": [
    "time_step = 24"
   ]
  },
  {
   "cell_type": "code",
   "execution_count": 40,
   "metadata": {
    "id": "oa8WtTI202pn"
   },
   "outputs": [
    {
     "data": {
      "text/html": [
       "<div>\n",
       "<style scoped>\n",
       "    .dataframe tbody tr th:only-of-type {\n",
       "        vertical-align: middle;\n",
       "    }\n",
       "\n",
       "    .dataframe tbody tr th {\n",
       "        vertical-align: top;\n",
       "    }\n",
       "\n",
       "    .dataframe thead th {\n",
       "        text-align: right;\n",
       "    }\n",
       "</style>\n",
       "<table border=\"1\" class=\"dataframe\">\n",
       "  <thead>\n",
       "    <tr style=\"text-align: right;\">\n",
       "      <th></th>\n",
       "      <th>Time</th>\n",
       "      <th>temp</th>\n",
       "    </tr>\n",
       "  </thead>\n",
       "  <tbody>\n",
       "    <tr>\n",
       "      <th>24</th>\n",
       "      <td>2006-01-01 23:00:00+00:00</td>\n",
       "      <td>5.422222</td>\n",
       "    </tr>\n",
       "    <tr>\n",
       "      <th>48</th>\n",
       "      <td>2006-01-02 23:00:00+00:00</td>\n",
       "      <td>1.694444</td>\n",
       "    </tr>\n",
       "    <tr>\n",
       "      <th>72</th>\n",
       "      <td>2006-01-03 23:00:00+00:00</td>\n",
       "      <td>2.200000</td>\n",
       "    </tr>\n",
       "    <tr>\n",
       "      <th>96</th>\n",
       "      <td>2006-01-04 23:00:00+00:00</td>\n",
       "      <td>1.666667</td>\n",
       "    </tr>\n",
       "    <tr>\n",
       "      <th>120</th>\n",
       "      <td>2006-01-05 23:00:00+00:00</td>\n",
       "      <td>1.805556</td>\n",
       "    </tr>\n",
       "  </tbody>\n",
       "</table>\n",
       "</div>"
      ],
      "text/plain": [
       "                         Time      temp\n",
       "24  2006-01-01 23:00:00+00:00  5.422222\n",
       "48  2006-01-02 23:00:00+00:00  1.694444\n",
       "72  2006-01-03 23:00:00+00:00  2.200000\n",
       "96  2006-01-04 23:00:00+00:00  1.666667\n",
       "120 2006-01-05 23:00:00+00:00  1.805556"
      ]
     },
     "execution_count": 40,
     "metadata": {},
     "output_type": "execute_result"
    }
   ],
   "source": [
    "y_idx = np.arange(time_step, temp_df.shape[0], time_step)\n",
    "y_df = temp_df.iloc[y_idx]\n",
    "y_df.head()"
   ]
  },
  {
   "cell_type": "code",
   "execution_count": 41,
   "metadata": {
    "colab": {
     "base_uri": "https://localhost:8080/",
     "height": 206
    },
    "id": "Mtg3XE8JLOx0",
    "outputId": "a4cff2a4-42d1-4e78-a0f8-a9da28ada702"
   },
   "outputs": [
    {
     "data": {
      "text/plain": [
       "array([   24,    48,    72, ..., 96384, 96408, 96432])"
      ]
     },
     "execution_count": 41,
     "metadata": {},
     "output_type": "execute_result"
    }
   ],
   "source": [
    "y_idx"
   ]
  },
  {
   "cell_type": "code",
   "execution_count": 42,
   "metadata": {},
   "outputs": [
    {
     "data": {
      "text/plain": [
       "((4018, 2), 96432)"
      ]
     },
     "execution_count": 42,
     "metadata": {},
     "output_type": "execute_result"
    }
   ],
   "source": [
    "y_df.shape, len(y_df)*time_step"
   ]
  },
  {
   "cell_type": "code",
   "execution_count": 43,
   "metadata": {},
   "outputs": [],
   "source": [
    "X_df = temp_df.iloc[range(len(y_df) * time_step)]"
   ]
  },
  {
   "cell_type": "code",
   "execution_count": 44,
   "metadata": {},
   "outputs": [
    {
     "data": {
      "text/plain": [
       "((96432,), (4018, 2))"
      ]
     },
     "execution_count": 44,
     "metadata": {},
     "output_type": "execute_result"
    }
   ],
   "source": [
    "X_df['temp'].values.shape,y_df.shape"
   ]
  },
  {
   "cell_type": "code",
   "execution_count": 45,
   "metadata": {},
   "outputs": [
    {
     "data": {
      "text/plain": [
       "(4018, 24)"
      ]
     },
     "execution_count": 45,
     "metadata": {},
     "output_type": "execute_result"
    }
   ],
   "source": [
    "X = np.reshape(X_df['temp'].values, (y_df.shape[0], time_step))\n",
    "X.shape"
   ]
  },
  {
   "cell_type": "code",
   "execution_count": 46,
   "metadata": {},
   "outputs": [
    {
     "data": {
      "text/plain": [
       "(4018, 23)"
      ]
     },
     "execution_count": 46,
     "metadata": {},
     "output_type": "execute_result"
    }
   ],
   "source": [
    "X = X[:, :23]\n",
    "X.shape"
   ]
  },
  {
   "cell_type": "code",
   "execution_count": 48,
   "metadata": {},
   "outputs": [
    {
     "data": {
      "text/plain": [
       "(4018, 23, 1)"
      ]
     },
     "execution_count": 48,
     "metadata": {},
     "output_type": "execute_result"
    }
   ],
   "source": [
    "#3D Array\n",
    "X = np.reshape(X, (X.shape[0], X.shape[1], 1))\n",
    "X.shape"
   ]
  },
  {
   "cell_type": "code",
   "execution_count": 51,
   "metadata": {},
   "outputs": [
    {
     "data": {
      "text/plain": [
       "((3214, 23, 1), (804, 23, 1), (3214,), (804,))"
      ]
     },
     "execution_count": 51,
     "metadata": {},
     "output_type": "execute_result"
    }
   ],
   "source": [
    "split = int(y_df.shape[0] * (1-TEST_SIZE))\n",
    "X_train = X[:split]\n",
    "X_test = X[split:]\n",
    "y_train = y_df['temp'].values[:split]\n",
    "y_test = y_df['temp'].values[split:]\n",
    "\n",
    "X_train.shape, X_test.shape, y_train.shape, y_test.shape"
   ]
  },
  {
   "cell_type": "code",
   "execution_count": 52,
   "metadata": {},
   "outputs": [],
   "source": [
    "h_units = 64\n",
    "input_shape=(time_step-1, 1 ) # we are using one feature only.\n",
    "\n",
    "model = tf.keras.models.Sequential()\n",
    "model.add(tf.keras.layers.SimpleRNN(units = h_units, \n",
    "                                    input_shape = input_shape, \n",
    "                                    activation = 'tanh'))\n",
    "\n",
    "model.add(tf.keras.layers.Dense(1, activation = 'linear'))\n",
    "\n",
    "model.compile(loss='mean_squared_error', optimizer='adam', \n",
    "              metrics=[tf.keras.metrics.RootMeanSquaredError()])"
   ]
  },
  {
   "cell_type": "code",
   "execution_count": 53,
   "metadata": {},
   "outputs": [
    {
     "name": "stdout",
     "output_type": "stream",
     "text": [
      "Model: \"sequential_1\"\n",
      "_________________________________________________________________\n",
      " Layer (type)                Output Shape              Param #   \n",
      "=================================================================\n",
      " simple_rnn_1 (SimpleRNN)    (None, 64)                4224      \n",
      "                                                                 \n",
      " dense_1 (Dense)             (None, 1)                 65        \n",
      "                                                                 \n",
      "=================================================================\n",
      "Total params: 4289 (16.75 KB)\n",
      "Trainable params: 4289 (16.75 KB)\n",
      "Non-trainable params: 0 (0.00 Byte)\n",
      "_________________________________________________________________\n"
     ]
    }
   ],
   "source": [
    "model.summary()"
   ]
  },
  {
   "cell_type": "code",
   "execution_count": 54,
   "metadata": {
    "scrolled": true
   },
   "outputs": [
    {
     "name": "stdout",
     "output_type": "stream",
     "text": [
      "Epoch 1/200\n",
      "101/101 [==============================] - 3s 15ms/step - loss: 45.8136 - root_mean_squared_error: 6.7686 - val_loss: 10.5676 - val_root_mean_squared_error: 3.2508\n",
      "Epoch 2/200\n",
      "101/101 [==============================] - 1s 12ms/step - loss: 10.6881 - root_mean_squared_error: 3.2693 - val_loss: 3.9226 - val_root_mean_squared_error: 1.9806\n",
      "Epoch 3/200\n",
      "101/101 [==============================] - 1s 12ms/step - loss: 4.9631 - root_mean_squared_error: 2.2278 - val_loss: 1.9313 - val_root_mean_squared_error: 1.3897\n",
      "Epoch 4/200\n",
      "101/101 [==============================] - 1s 12ms/step - loss: 2.9670 - root_mean_squared_error: 1.7225 - val_loss: 1.2594 - val_root_mean_squared_error: 1.1222\n",
      "Epoch 5/200\n",
      "101/101 [==============================] - 1s 12ms/step - loss: 2.0938 - root_mean_squared_error: 1.4470 - val_loss: 1.0045 - val_root_mean_squared_error: 1.0023\n",
      "Epoch 6/200\n",
      "101/101 [==============================] - 1s 12ms/step - loss: 1.6710 - root_mean_squared_error: 1.2927 - val_loss: 0.8432 - val_root_mean_squared_error: 0.9183\n",
      "Epoch 7/200\n",
      "101/101 [==============================] - 1s 12ms/step - loss: 1.4416 - root_mean_squared_error: 1.2007 - val_loss: 0.9260 - val_root_mean_squared_error: 0.9623\n",
      "Epoch 8/200\n",
      "101/101 [==============================] - 1s 12ms/step - loss: 1.3435 - root_mean_squared_error: 1.1591 - val_loss: 0.7440 - val_root_mean_squared_error: 0.8625\n",
      "Epoch 9/200\n",
      "101/101 [==============================] - 1s 12ms/step - loss: 1.2704 - root_mean_squared_error: 1.1271 - val_loss: 0.8037 - val_root_mean_squared_error: 0.8965\n",
      "Epoch 10/200\n",
      "101/101 [==============================] - 1s 12ms/step - loss: 1.1861 - root_mean_squared_error: 1.0891 - val_loss: 0.7591 - val_root_mean_squared_error: 0.8712\n",
      "Epoch 11/200\n",
      "101/101 [==============================] - 1s 12ms/step - loss: 1.1519 - root_mean_squared_error: 1.0733 - val_loss: 0.7379 - val_root_mean_squared_error: 0.8590\n",
      "Epoch 12/200\n",
      "101/101 [==============================] - 1s 12ms/step - loss: 1.1239 - root_mean_squared_error: 1.0601 - val_loss: 0.7344 - val_root_mean_squared_error: 0.8570\n",
      "Epoch 13/200\n",
      "101/101 [==============================] - 1s 12ms/step - loss: 1.0903 - root_mean_squared_error: 1.0442 - val_loss: 0.7005 - val_root_mean_squared_error: 0.8369\n",
      "Epoch 14/200\n",
      "101/101 [==============================] - 1s 12ms/step - loss: 1.0823 - root_mean_squared_error: 1.0403 - val_loss: 0.6662 - val_root_mean_squared_error: 0.8162\n",
      "Epoch 15/200\n",
      "101/101 [==============================] - 1s 12ms/step - loss: 1.0540 - root_mean_squared_error: 1.0267 - val_loss: 0.6631 - val_root_mean_squared_error: 0.8143\n",
      "Epoch 16/200\n",
      "101/101 [==============================] - 1s 12ms/step - loss: 1.0555 - root_mean_squared_error: 1.0274 - val_loss: 0.6652 - val_root_mean_squared_error: 0.8156\n",
      "Epoch 17/200\n",
      "101/101 [==============================] - 1s 12ms/step - loss: 1.0442 - root_mean_squared_error: 1.0218 - val_loss: 0.6587 - val_root_mean_squared_error: 0.8116\n",
      "Epoch 18/200\n",
      "101/101 [==============================] - 1s 12ms/step - loss: 1.0357 - root_mean_squared_error: 1.0177 - val_loss: 0.7003 - val_root_mean_squared_error: 0.8368\n",
      "Epoch 19/200\n",
      "101/101 [==============================] - 1s 12ms/step - loss: 1.0345 - root_mean_squared_error: 1.0171 - val_loss: 0.6766 - val_root_mean_squared_error: 0.8225\n",
      "Epoch 20/200\n",
      "101/101 [==============================] - 1s 12ms/step - loss: 1.2375 - root_mean_squared_error: 1.1124 - val_loss: 0.8494 - val_root_mean_squared_error: 0.9216\n",
      "Epoch 21/200\n",
      "101/101 [==============================] - 1s 12ms/step - loss: 1.1217 - root_mean_squared_error: 1.0591 - val_loss: 0.7630 - val_root_mean_squared_error: 0.8735\n",
      "Epoch 22/200\n",
      "101/101 [==============================] - 1s 12ms/step - loss: 1.0941 - root_mean_squared_error: 1.0460 - val_loss: 0.6881 - val_root_mean_squared_error: 0.8295\n",
      "Epoch 23/200\n",
      "101/101 [==============================] - 1s 12ms/step - loss: 1.0532 - root_mean_squared_error: 1.0262 - val_loss: 0.8029 - val_root_mean_squared_error: 0.8960\n",
      "Epoch 24/200\n",
      "101/101 [==============================] - 1s 12ms/step - loss: 1.0450 - root_mean_squared_error: 1.0222 - val_loss: 0.7126 - val_root_mean_squared_error: 0.8442\n",
      "Epoch 25/200\n",
      "101/101 [==============================] - 1s 12ms/step - loss: 1.0345 - root_mean_squared_error: 1.0171 - val_loss: 0.6864 - val_root_mean_squared_error: 0.8285\n",
      "Epoch 26/200\n",
      "101/101 [==============================] - 1s 12ms/step - loss: 1.0344 - root_mean_squared_error: 1.0171 - val_loss: 0.6920 - val_root_mean_squared_error: 0.8319\n",
      "Epoch 27/200\n",
      "101/101 [==============================] - 1s 12ms/step - loss: 1.0226 - root_mean_squared_error: 1.0112 - val_loss: 0.7738 - val_root_mean_squared_error: 0.8796\n",
      "Epoch 28/200\n",
      "101/101 [==============================] - 1s 12ms/step - loss: 1.0140 - root_mean_squared_error: 1.0070 - val_loss: 0.6892 - val_root_mean_squared_error: 0.8302\n",
      "Epoch 29/200\n",
      "101/101 [==============================] - 1s 12ms/step - loss: 1.0212 - root_mean_squared_error: 1.0105 - val_loss: 0.6905 - val_root_mean_squared_error: 0.8310\n",
      "Epoch 30/200\n",
      "101/101 [==============================] - 1s 12ms/step - loss: 1.0087 - root_mean_squared_error: 1.0043 - val_loss: 0.6713 - val_root_mean_squared_error: 0.8194\n",
      "Epoch 31/200\n",
      "101/101 [==============================] - 1s 12ms/step - loss: 1.0119 - root_mean_squared_error: 1.0059 - val_loss: 0.6740 - val_root_mean_squared_error: 0.8210\n",
      "Epoch 32/200\n",
      "101/101 [==============================] - 1s 12ms/step - loss: 1.0148 - root_mean_squared_error: 1.0074 - val_loss: 0.6691 - val_root_mean_squared_error: 0.8180\n",
      "Epoch 33/200\n",
      "101/101 [==============================] - 1s 12ms/step - loss: 0.9919 - root_mean_squared_error: 0.9960 - val_loss: 0.6878 - val_root_mean_squared_error: 0.8293\n",
      "Epoch 34/200\n",
      "101/101 [==============================] - 1s 12ms/step - loss: 0.9903 - root_mean_squared_error: 0.9952 - val_loss: 0.6777 - val_root_mean_squared_error: 0.8232\n",
      "Epoch 35/200\n",
      "101/101 [==============================] - 1s 11ms/step - loss: 0.9858 - root_mean_squared_error: 0.9929 - val_loss: 0.6552 - val_root_mean_squared_error: 0.8095\n",
      "Epoch 36/200\n",
      "101/101 [==============================] - 1s 12ms/step - loss: 0.9835 - root_mean_squared_error: 0.9917 - val_loss: 0.7118 - val_root_mean_squared_error: 0.8437\n",
      "Epoch 37/200\n",
      "101/101 [==============================] - 1s 12ms/step - loss: 0.9852 - root_mean_squared_error: 0.9926 - val_loss: 0.6702 - val_root_mean_squared_error: 0.8187\n",
      "Epoch 38/200\n",
      "101/101 [==============================] - 1s 12ms/step - loss: 1.0096 - root_mean_squared_error: 1.0048 - val_loss: 0.6922 - val_root_mean_squared_error: 0.8320\n",
      "Epoch 39/200\n",
      "101/101 [==============================] - 1s 12ms/step - loss: 0.9934 - root_mean_squared_error: 0.9967 - val_loss: 0.6889 - val_root_mean_squared_error: 0.8300\n",
      "Epoch 40/200\n",
      "101/101 [==============================] - 1s 12ms/step - loss: 1.0010 - root_mean_squared_error: 1.0005 - val_loss: 0.6736 - val_root_mean_squared_error: 0.8207\n",
      "Epoch 41/200\n",
      "101/101 [==============================] - 1s 12ms/step - loss: 0.9770 - root_mean_squared_error: 0.9884 - val_loss: 0.6715 - val_root_mean_squared_error: 0.8195\n",
      "Epoch 42/200\n",
      "101/101 [==============================] - 1s 12ms/step - loss: 0.9794 - root_mean_squared_error: 0.9897 - val_loss: 0.6900 - val_root_mean_squared_error: 0.8307\n",
      "Epoch 43/200\n",
      "101/101 [==============================] - 1s 12ms/step - loss: 0.9911 - root_mean_squared_error: 0.9955 - val_loss: 0.6664 - val_root_mean_squared_error: 0.8164\n",
      "Epoch 44/200\n",
      "101/101 [==============================] - 1s 12ms/step - loss: 0.9872 - root_mean_squared_error: 0.9936 - val_loss: 0.6966 - val_root_mean_squared_error: 0.8346\n",
      "Epoch 45/200\n",
      "101/101 [==============================] - 1s 12ms/step - loss: 0.9844 - root_mean_squared_error: 0.9922 - val_loss: 0.6993 - val_root_mean_squared_error: 0.8362\n",
      "Epoch 46/200\n",
      "101/101 [==============================] - 1s 12ms/step - loss: 0.9717 - root_mean_squared_error: 0.9857 - val_loss: 0.6906 - val_root_mean_squared_error: 0.8310\n",
      "Epoch 47/200\n",
      "101/101 [==============================] - 1s 12ms/step - loss: 0.9757 - root_mean_squared_error: 0.9878 - val_loss: 0.7150 - val_root_mean_squared_error: 0.8456\n"
     ]
    },
    {
     "name": "stdout",
     "output_type": "stream",
     "text": [
      "Epoch 48/200\n",
      "101/101 [==============================] - 1s 12ms/step - loss: 0.9768 - root_mean_squared_error: 0.9884 - val_loss: 0.7394 - val_root_mean_squared_error: 0.8599\n",
      "Epoch 49/200\n",
      "101/101 [==============================] - 1s 12ms/step - loss: 1.0543 - root_mean_squared_error: 1.0268 - val_loss: 0.7206 - val_root_mean_squared_error: 0.8489\n",
      "Epoch 50/200\n",
      "101/101 [==============================] - 1s 12ms/step - loss: 1.0760 - root_mean_squared_error: 1.0373 - val_loss: 0.7640 - val_root_mean_squared_error: 0.8741\n",
      "Epoch 51/200\n",
      "101/101 [==============================] - 1s 12ms/step - loss: 1.0998 - root_mean_squared_error: 1.0487 - val_loss: 0.7048 - val_root_mean_squared_error: 0.8395\n",
      "Epoch 52/200\n",
      "101/101 [==============================] - 1s 12ms/step - loss: 1.0367 - root_mean_squared_error: 1.0182 - val_loss: 0.7034 - val_root_mean_squared_error: 0.8387\n",
      "Epoch 53/200\n",
      "101/101 [==============================] - 1s 12ms/step - loss: 1.0080 - root_mean_squared_error: 1.0040 - val_loss: 0.7085 - val_root_mean_squared_error: 0.8417\n",
      "Epoch 54/200\n",
      "101/101 [==============================] - 1s 12ms/step - loss: 1.0204 - root_mean_squared_error: 1.0101 - val_loss: 0.6764 - val_root_mean_squared_error: 0.8224\n",
      "Epoch 55/200\n",
      "101/101 [==============================] - 1s 11ms/step - loss: 1.0099 - root_mean_squared_error: 1.0050 - val_loss: 0.7097 - val_root_mean_squared_error: 0.8425\n",
      "Epoch 56/200\n",
      "101/101 [==============================] - 1s 12ms/step - loss: 1.0152 - root_mean_squared_error: 1.0076 - val_loss: 0.6977 - val_root_mean_squared_error: 0.8353\n",
      "Epoch 57/200\n",
      "101/101 [==============================] - 1s 12ms/step - loss: 1.0037 - root_mean_squared_error: 1.0018 - val_loss: 0.7496 - val_root_mean_squared_error: 0.8658\n",
      "Epoch 58/200\n",
      "101/101 [==============================] - 1s 12ms/step - loss: 1.0124 - root_mean_squared_error: 1.0062 - val_loss: 0.6740 - val_root_mean_squared_error: 0.8210\n",
      "Epoch 59/200\n",
      "101/101 [==============================] - 1s 12ms/step - loss: 0.9829 - root_mean_squared_error: 0.9914 - val_loss: 0.6769 - val_root_mean_squared_error: 0.8227\n",
      "Epoch 60/200\n",
      "101/101 [==============================] - 1s 12ms/step - loss: 0.9840 - root_mean_squared_error: 0.9920 - val_loss: 0.6949 - val_root_mean_squared_error: 0.8336\n",
      "Epoch 61/200\n",
      "101/101 [==============================] - 1s 12ms/step - loss: 0.9898 - root_mean_squared_error: 0.9949 - val_loss: 0.6783 - val_root_mean_squared_error: 0.8236\n",
      "Epoch 62/200\n",
      "101/101 [==============================] - 1s 12ms/step - loss: 0.9969 - root_mean_squared_error: 0.9985 - val_loss: 0.7297 - val_root_mean_squared_error: 0.8542\n",
      "Epoch 63/200\n",
      "101/101 [==============================] - 1s 12ms/step - loss: 0.9773 - root_mean_squared_error: 0.9886 - val_loss: 0.6797 - val_root_mean_squared_error: 0.8245\n",
      "Epoch 64/200\n",
      "101/101 [==============================] - 1s 12ms/step - loss: 0.9829 - root_mean_squared_error: 0.9914 - val_loss: 0.6778 - val_root_mean_squared_error: 0.8233\n",
      "Epoch 65/200\n",
      "101/101 [==============================] - 1s 12ms/step - loss: 0.9728 - root_mean_squared_error: 0.9863 - val_loss: 0.6976 - val_root_mean_squared_error: 0.8352\n",
      "Epoch 66/200\n",
      "101/101 [==============================] - 1s 12ms/step - loss: 0.9919 - root_mean_squared_error: 0.9959 - val_loss: 0.7365 - val_root_mean_squared_error: 0.8582\n",
      "Epoch 67/200\n",
      "101/101 [==============================] - 1s 12ms/step - loss: 0.9872 - root_mean_squared_error: 0.9936 - val_loss: 0.6904 - val_root_mean_squared_error: 0.8309\n",
      "Epoch 68/200\n",
      "101/101 [==============================] - 1s 12ms/step - loss: 0.9866 - root_mean_squared_error: 0.9933 - val_loss: 0.6963 - val_root_mean_squared_error: 0.8345\n",
      "Epoch 69/200\n",
      "101/101 [==============================] - 1s 12ms/step - loss: 0.9730 - root_mean_squared_error: 0.9864 - val_loss: 0.6849 - val_root_mean_squared_error: 0.8276\n",
      "Epoch 70/200\n",
      "101/101 [==============================] - 1s 12ms/step - loss: 0.9750 - root_mean_squared_error: 0.9874 - val_loss: 0.7523 - val_root_mean_squared_error: 0.8674\n",
      "Epoch 71/200\n",
      "101/101 [==============================] - 1s 12ms/step - loss: 0.9772 - root_mean_squared_error: 0.9885 - val_loss: 0.6678 - val_root_mean_squared_error: 0.8172\n",
      "Epoch 72/200\n",
      "101/101 [==============================] - 1s 12ms/step - loss: 0.9845 - root_mean_squared_error: 0.9922 - val_loss: 0.6738 - val_root_mean_squared_error: 0.8208\n",
      "Epoch 73/200\n",
      "101/101 [==============================] - 1s 12ms/step - loss: 0.9765 - root_mean_squared_error: 0.9882 - val_loss: 0.6766 - val_root_mean_squared_error: 0.8226\n",
      "Epoch 74/200\n",
      "101/101 [==============================] - 1s 12ms/step - loss: 0.9645 - root_mean_squared_error: 0.9821 - val_loss: 0.7258 - val_root_mean_squared_error: 0.8519\n",
      "Epoch 75/200\n",
      "101/101 [==============================] - 1s 12ms/step - loss: 0.9931 - root_mean_squared_error: 0.9965 - val_loss: 0.7062 - val_root_mean_squared_error: 0.8404\n",
      "Epoch 76/200\n",
      "101/101 [==============================] - 1s 12ms/step - loss: 0.9892 - root_mean_squared_error: 0.9946 - val_loss: 0.6686 - val_root_mean_squared_error: 0.8177\n",
      "Epoch 77/200\n",
      "101/101 [==============================] - 1s 12ms/step - loss: 0.9803 - root_mean_squared_error: 0.9901 - val_loss: 0.6652 - val_root_mean_squared_error: 0.8156\n",
      "Epoch 78/200\n",
      "101/101 [==============================] - 1s 12ms/step - loss: 1.0057 - root_mean_squared_error: 1.0028 - val_loss: 0.6805 - val_root_mean_squared_error: 0.8249\n",
      "Epoch 79/200\n",
      "101/101 [==============================] - 1s 12ms/step - loss: 0.9820 - root_mean_squared_error: 0.9910 - val_loss: 0.7343 - val_root_mean_squared_error: 0.8569\n",
      "Epoch 80/200\n",
      "101/101 [==============================] - 1s 12ms/step - loss: 0.9846 - root_mean_squared_error: 0.9923 - val_loss: 0.7188 - val_root_mean_squared_error: 0.8478\n",
      "Epoch 81/200\n",
      "101/101 [==============================] - 1s 12ms/step - loss: 0.9747 - root_mean_squared_error: 0.9873 - val_loss: 0.6846 - val_root_mean_squared_error: 0.8274\n",
      "Epoch 82/200\n",
      "101/101 [==============================] - 1s 12ms/step - loss: 0.9721 - root_mean_squared_error: 0.9860 - val_loss: 0.6690 - val_root_mean_squared_error: 0.8179\n",
      "Epoch 83/200\n",
      "101/101 [==============================] - 1s 12ms/step - loss: 0.9620 - root_mean_squared_error: 0.9808 - val_loss: 0.7074 - val_root_mean_squared_error: 0.8411\n",
      "Epoch 84/200\n",
      "101/101 [==============================] - 1s 12ms/step - loss: 0.9579 - root_mean_squared_error: 0.9787 - val_loss: 0.6949 - val_root_mean_squared_error: 0.8336\n",
      "Epoch 85/200\n",
      "101/101 [==============================] - 1s 12ms/step - loss: 0.9704 - root_mean_squared_error: 0.9851 - val_loss: 0.6702 - val_root_mean_squared_error: 0.8186\n",
      "Epoch 86/200\n",
      "101/101 [==============================] - 1s 12ms/step - loss: 0.9886 - root_mean_squared_error: 0.9943 - val_loss: 0.6853 - val_root_mean_squared_error: 0.8278\n",
      "Epoch 87/200\n",
      "101/101 [==============================] - 1s 12ms/step - loss: 0.9846 - root_mean_squared_error: 0.9923 - val_loss: 0.7499 - val_root_mean_squared_error: 0.8659\n",
      "Epoch 88/200\n",
      "101/101 [==============================] - 1s 12ms/step - loss: 0.9903 - root_mean_squared_error: 0.9952 - val_loss: 0.6675 - val_root_mean_squared_error: 0.8170\n",
      "Epoch 89/200\n",
      "101/101 [==============================] - 1s 12ms/step - loss: 0.9888 - root_mean_squared_error: 0.9944 - val_loss: 0.6619 - val_root_mean_squared_error: 0.8136\n",
      "Epoch 90/200\n",
      "101/101 [==============================] - 1s 11ms/step - loss: 0.9667 - root_mean_squared_error: 0.9832 - val_loss: 0.6749 - val_root_mean_squared_error: 0.8215\n",
      "Epoch 91/200\n",
      "101/101 [==============================] - 1s 12ms/step - loss: 0.9725 - root_mean_squared_error: 0.9861 - val_loss: 0.6872 - val_root_mean_squared_error: 0.8290\n",
      "Epoch 92/200\n",
      "101/101 [==============================] - 1s 12ms/step - loss: 0.9610 - root_mean_squared_error: 0.9803 - val_loss: 0.6685 - val_root_mean_squared_error: 0.8176\n",
      "Epoch 93/200\n",
      "101/101 [==============================] - 1s 11ms/step - loss: 0.9675 - root_mean_squared_error: 0.9836 - val_loss: 0.7224 - val_root_mean_squared_error: 0.8499\n",
      "Epoch 94/200\n",
      "101/101 [==============================] - 1s 12ms/step - loss: 0.9620 - root_mean_squared_error: 0.9808 - val_loss: 0.6792 - val_root_mean_squared_error: 0.8241\n"
     ]
    },
    {
     "name": "stdout",
     "output_type": "stream",
     "text": [
      "Epoch 95/200\n",
      "101/101 [==============================] - 1s 12ms/step - loss: 0.9622 - root_mean_squared_error: 0.9809 - val_loss: 0.6725 - val_root_mean_squared_error: 0.8201\n",
      "Epoch 96/200\n",
      "101/101 [==============================] - 1s 12ms/step - loss: 0.9659 - root_mean_squared_error: 0.9828 - val_loss: 0.6645 - val_root_mean_squared_error: 0.8152\n",
      "Epoch 97/200\n",
      "101/101 [==============================] - 1s 12ms/step - loss: 0.9596 - root_mean_squared_error: 0.9796 - val_loss: 0.6650 - val_root_mean_squared_error: 0.8155\n",
      "Epoch 98/200\n",
      "101/101 [==============================] - 1s 12ms/step - loss: 0.9655 - root_mean_squared_error: 0.9826 - val_loss: 0.6682 - val_root_mean_squared_error: 0.8175\n",
      "Epoch 99/200\n",
      "101/101 [==============================] - 1s 12ms/step - loss: 0.9534 - root_mean_squared_error: 0.9764 - val_loss: 0.6734 - val_root_mean_squared_error: 0.8206\n",
      "Epoch 100/200\n",
      "101/101 [==============================] - 1s 11ms/step - loss: 0.9533 - root_mean_squared_error: 0.9764 - val_loss: 0.6656 - val_root_mean_squared_error: 0.8159\n",
      "Epoch 101/200\n",
      "101/101 [==============================] - 1s 12ms/step - loss: 0.9405 - root_mean_squared_error: 0.9698 - val_loss: 0.6956 - val_root_mean_squared_error: 0.8340\n",
      "Epoch 102/200\n",
      "101/101 [==============================] - 1s 12ms/step - loss: 0.9496 - root_mean_squared_error: 0.9745 - val_loss: 0.6691 - val_root_mean_squared_error: 0.8180\n",
      "Epoch 103/200\n",
      "101/101 [==============================] - 1s 12ms/step - loss: 1.2157 - root_mean_squared_error: 1.1026 - val_loss: 0.8011 - val_root_mean_squared_error: 0.8950\n",
      "Epoch 104/200\n",
      "101/101 [==============================] - 1s 12ms/step - loss: 1.0437 - root_mean_squared_error: 1.0216 - val_loss: 0.7109 - val_root_mean_squared_error: 0.8432\n",
      "Epoch 105/200\n",
      "101/101 [==============================] - 1s 12ms/step - loss: 1.0657 - root_mean_squared_error: 1.0323 - val_loss: 0.8467 - val_root_mean_squared_error: 0.9202\n",
      "Epoch 106/200\n",
      "101/101 [==============================] - 1s 12ms/step - loss: 1.0524 - root_mean_squared_error: 1.0259 - val_loss: 0.7350 - val_root_mean_squared_error: 0.8573\n",
      "Epoch 107/200\n",
      "101/101 [==============================] - 1s 12ms/step - loss: 1.0147 - root_mean_squared_error: 1.0073 - val_loss: 0.6919 - val_root_mean_squared_error: 0.8318\n",
      "Epoch 108/200\n",
      "101/101 [==============================] - 1s 12ms/step - loss: 1.0075 - root_mean_squared_error: 1.0037 - val_loss: 0.7098 - val_root_mean_squared_error: 0.8425\n",
      "Epoch 109/200\n",
      "101/101 [==============================] - 1s 12ms/step - loss: 0.9837 - root_mean_squared_error: 0.9918 - val_loss: 0.7330 - val_root_mean_squared_error: 0.8561\n",
      "Epoch 110/200\n",
      "101/101 [==============================] - 1s 12ms/step - loss: 0.9638 - root_mean_squared_error: 0.9817 - val_loss: 0.7348 - val_root_mean_squared_error: 0.8572\n",
      "Epoch 111/200\n",
      "101/101 [==============================] - 1s 12ms/step - loss: 0.9744 - root_mean_squared_error: 0.9871 - val_loss: 0.7034 - val_root_mean_squared_error: 0.8387\n",
      "Epoch 112/200\n",
      "101/101 [==============================] - 1s 12ms/step - loss: 0.9607 - root_mean_squared_error: 0.9801 - val_loss: 0.7114 - val_root_mean_squared_error: 0.8434\n",
      "Epoch 113/200\n",
      "101/101 [==============================] - 1s 12ms/step - loss: 0.9775 - root_mean_squared_error: 0.9887 - val_loss: 0.7024 - val_root_mean_squared_error: 0.8381\n",
      "Epoch 114/200\n",
      "101/101 [==============================] - 1s 12ms/step - loss: 0.9518 - root_mean_squared_error: 0.9756 - val_loss: 0.6915 - val_root_mean_squared_error: 0.8316\n",
      "Epoch 115/200\n",
      "101/101 [==============================] - 1s 12ms/step - loss: 0.9486 - root_mean_squared_error: 0.9740 - val_loss: 0.7028 - val_root_mean_squared_error: 0.8383\n",
      "Epoch 116/200\n",
      "101/101 [==============================] - 1s 12ms/step - loss: 0.9418 - root_mean_squared_error: 0.9704 - val_loss: 0.6886 - val_root_mean_squared_error: 0.8298\n",
      "Epoch 117/200\n",
      "101/101 [==============================] - 1s 12ms/step - loss: 0.9423 - root_mean_squared_error: 0.9707 - val_loss: 0.6851 - val_root_mean_squared_error: 0.8277\n",
      "Epoch 118/200\n",
      "101/101 [==============================] - 1s 12ms/step - loss: 0.9492 - root_mean_squared_error: 0.9743 - val_loss: 0.7087 - val_root_mean_squared_error: 0.8418\n",
      "Epoch 119/200\n",
      "101/101 [==============================] - 1s 12ms/step - loss: 0.9610 - root_mean_squared_error: 0.9803 - val_loss: 0.6829 - val_root_mean_squared_error: 0.8264\n",
      "Epoch 120/200\n",
      "101/101 [==============================] - 1s 12ms/step - loss: 0.9510 - root_mean_squared_error: 0.9752 - val_loss: 0.6757 - val_root_mean_squared_error: 0.8220\n",
      "Epoch 121/200\n",
      "101/101 [==============================] - 1s 12ms/step - loss: 0.9480 - root_mean_squared_error: 0.9737 - val_loss: 0.7036 - val_root_mean_squared_error: 0.8388\n",
      "Epoch 122/200\n",
      "101/101 [==============================] - 1s 12ms/step - loss: 0.9423 - root_mean_squared_error: 0.9707 - val_loss: 0.6832 - val_root_mean_squared_error: 0.8266\n",
      "Epoch 123/200\n",
      "101/101 [==============================] - 1s 12ms/step - loss: 0.9427 - root_mean_squared_error: 0.9709 - val_loss: 0.7089 - val_root_mean_squared_error: 0.8420\n",
      "Epoch 124/200\n",
      "101/101 [==============================] - 1s 12ms/step - loss: 0.9341 - root_mean_squared_error: 0.9665 - val_loss: 0.6884 - val_root_mean_squared_error: 0.8297\n",
      "Epoch 125/200\n",
      "101/101 [==============================] - 1s 12ms/step - loss: 0.9317 - root_mean_squared_error: 0.9653 - val_loss: 0.7183 - val_root_mean_squared_error: 0.8475\n",
      "Epoch 126/200\n",
      "101/101 [==============================] - 1s 12ms/step - loss: 0.9364 - root_mean_squared_error: 0.9677 - val_loss: 0.6892 - val_root_mean_squared_error: 0.8302\n",
      "Epoch 127/200\n",
      "101/101 [==============================] - 1s 12ms/step - loss: 0.9275 - root_mean_squared_error: 0.9630 - val_loss: 0.6922 - val_root_mean_squared_error: 0.8320\n",
      "Epoch 128/200\n",
      "101/101 [==============================] - 1s 12ms/step - loss: 0.9350 - root_mean_squared_error: 0.9670 - val_loss: 0.7178 - val_root_mean_squared_error: 0.8473\n",
      "Epoch 129/200\n",
      "101/101 [==============================] - 1s 12ms/step - loss: 0.9200 - root_mean_squared_error: 0.9592 - val_loss: 0.7406 - val_root_mean_squared_error: 0.8606\n",
      "Epoch 130/200\n",
      "101/101 [==============================] - 1s 12ms/step - loss: 0.9329 - root_mean_squared_error: 0.9659 - val_loss: 0.6968 - val_root_mean_squared_error: 0.8348\n",
      "Epoch 131/200\n",
      "101/101 [==============================] - 1s 12ms/step - loss: 0.9359 - root_mean_squared_error: 0.9674 - val_loss: 0.7385 - val_root_mean_squared_error: 0.8594\n",
      "Epoch 132/200\n",
      "101/101 [==============================] - 1s 12ms/step - loss: 0.9441 - root_mean_squared_error: 0.9716 - val_loss: 0.6959 - val_root_mean_squared_error: 0.8342\n",
      "Epoch 133/200\n",
      "101/101 [==============================] - 1s 12ms/step - loss: 0.9345 - root_mean_squared_error: 0.9667 - val_loss: 0.7623 - val_root_mean_squared_error: 0.8731\n",
      "Epoch 134/200\n",
      "101/101 [==============================] - 1s 12ms/step - loss: 0.9425 - root_mean_squared_error: 0.9708 - val_loss: 0.7264 - val_root_mean_squared_error: 0.8523\n",
      "Epoch 135/200\n",
      "101/101 [==============================] - 1s 12ms/step - loss: 0.9281 - root_mean_squared_error: 0.9634 - val_loss: 0.6917 - val_root_mean_squared_error: 0.8317\n",
      "Epoch 136/200\n",
      "101/101 [==============================] - 1s 12ms/step - loss: 0.9292 - root_mean_squared_error: 0.9640 - val_loss: 0.7290 - val_root_mean_squared_error: 0.8538\n",
      "Epoch 137/200\n",
      "101/101 [==============================] - 1s 12ms/step - loss: 0.9386 - root_mean_squared_error: 0.9688 - val_loss: 0.7112 - val_root_mean_squared_error: 0.8433\n",
      "Epoch 138/200\n",
      "101/101 [==============================] - 1s 12ms/step - loss: 0.9251 - root_mean_squared_error: 0.9618 - val_loss: 0.7036 - val_root_mean_squared_error: 0.8388\n",
      "Epoch 139/200\n",
      "101/101 [==============================] - 1s 12ms/step - loss: 0.9184 - root_mean_squared_error: 0.9583 - val_loss: 0.6784 - val_root_mean_squared_error: 0.8237\n",
      "Epoch 140/200\n",
      "101/101 [==============================] - 1s 12ms/step - loss: 0.9241 - root_mean_squared_error: 0.9613 - val_loss: 0.7064 - val_root_mean_squared_error: 0.8405\n",
      "Epoch 141/200\n"
     ]
    },
    {
     "name": "stdout",
     "output_type": "stream",
     "text": [
      "101/101 [==============================] - 1s 12ms/step - loss: 0.9141 - root_mean_squared_error: 0.9561 - val_loss: 0.7243 - val_root_mean_squared_error: 0.8511\n",
      "Epoch 142/200\n",
      "101/101 [==============================] - 1s 12ms/step - loss: 0.9126 - root_mean_squared_error: 0.9553 - val_loss: 0.7336 - val_root_mean_squared_error: 0.8565\n",
      "Epoch 143/200\n",
      "101/101 [==============================] - 1s 12ms/step - loss: 0.9168 - root_mean_squared_error: 0.9575 - val_loss: 0.7728 - val_root_mean_squared_error: 0.8791\n",
      "Epoch 144/200\n",
      "101/101 [==============================] - 1s 12ms/step - loss: 0.9340 - root_mean_squared_error: 0.9664 - val_loss: 0.7189 - val_root_mean_squared_error: 0.8479\n",
      "Epoch 145/200\n",
      "101/101 [==============================] - 1s 12ms/step - loss: 0.9287 - root_mean_squared_error: 0.9637 - val_loss: 0.7626 - val_root_mean_squared_error: 0.8733\n",
      "Epoch 146/200\n",
      "101/101 [==============================] - 1s 12ms/step - loss: 0.9564 - root_mean_squared_error: 0.9780 - val_loss: 0.7845 - val_root_mean_squared_error: 0.8857\n",
      "Epoch 147/200\n",
      "101/101 [==============================] - 1s 12ms/step - loss: 0.9343 - root_mean_squared_error: 0.9666 - val_loss: 0.6890 - val_root_mean_squared_error: 0.8301\n",
      "Epoch 148/200\n",
      "101/101 [==============================] - 1s 12ms/step - loss: 0.9514 - root_mean_squared_error: 0.9754 - val_loss: 0.7444 - val_root_mean_squared_error: 0.8628\n",
      "Epoch 149/200\n",
      "101/101 [==============================] - 1s 12ms/step - loss: 0.9196 - root_mean_squared_error: 0.9590 - val_loss: 0.7288 - val_root_mean_squared_error: 0.8537\n",
      "Epoch 150/200\n",
      "101/101 [==============================] - 1s 12ms/step - loss: 0.9154 - root_mean_squared_error: 0.9567 - val_loss: 0.7199 - val_root_mean_squared_error: 0.8484\n",
      "Epoch 151/200\n",
      "101/101 [==============================] - 1s 12ms/step - loss: 0.9107 - root_mean_squared_error: 0.9543 - val_loss: 0.6876 - val_root_mean_squared_error: 0.8292\n",
      "Epoch 152/200\n",
      "101/101 [==============================] - 1s 12ms/step - loss: 0.9132 - root_mean_squared_error: 0.9556 - val_loss: 0.7360 - val_root_mean_squared_error: 0.8579\n",
      "Epoch 153/200\n",
      "101/101 [==============================] - 1s 12ms/step - loss: 0.9073 - root_mean_squared_error: 0.9525 - val_loss: 0.7002 - val_root_mean_squared_error: 0.8368\n",
      "Epoch 154/200\n",
      "101/101 [==============================] - 1s 12ms/step - loss: 0.9082 - root_mean_squared_error: 0.9530 - val_loss: 0.6988 - val_root_mean_squared_error: 0.8360\n",
      "Epoch 155/200\n",
      "101/101 [==============================] - 1s 12ms/step - loss: 0.9052 - root_mean_squared_error: 0.9514 - val_loss: 0.7304 - val_root_mean_squared_error: 0.8546\n",
      "Epoch 156/200\n",
      "101/101 [==============================] - 1s 12ms/step - loss: 0.9067 - root_mean_squared_error: 0.9522 - val_loss: 0.6972 - val_root_mean_squared_error: 0.8350\n",
      "Epoch 157/200\n",
      "101/101 [==============================] - 1s 12ms/step - loss: 0.9136 - root_mean_squared_error: 0.9558 - val_loss: 0.6963 - val_root_mean_squared_error: 0.8344\n",
      "Epoch 158/200\n",
      "101/101 [==============================] - 1s 12ms/step - loss: 0.8962 - root_mean_squared_error: 0.9467 - val_loss: 0.7734 - val_root_mean_squared_error: 0.8794\n",
      "Epoch 159/200\n",
      "101/101 [==============================] - 1s 12ms/step - loss: 0.8980 - root_mean_squared_error: 0.9476 - val_loss: 0.7412 - val_root_mean_squared_error: 0.8609\n",
      "Epoch 160/200\n",
      "101/101 [==============================] - 1s 12ms/step - loss: 0.9437 - root_mean_squared_error: 0.9715 - val_loss: 0.7641 - val_root_mean_squared_error: 0.8741\n",
      "Epoch 161/200\n",
      "101/101 [==============================] - 1s 12ms/step - loss: 0.9263 - root_mean_squared_error: 0.9625 - val_loss: 0.7837 - val_root_mean_squared_error: 0.8853\n",
      "Epoch 162/200\n",
      "101/101 [==============================] - 1s 12ms/step - loss: 0.9706 - root_mean_squared_error: 0.9852 - val_loss: 0.7612 - val_root_mean_squared_error: 0.8725\n",
      "Epoch 163/200\n",
      "101/101 [==============================] - 1s 12ms/step - loss: 0.9776 - root_mean_squared_error: 0.9887 - val_loss: 0.7780 - val_root_mean_squared_error: 0.8820\n",
      "Epoch 164/200\n",
      "101/101 [==============================] - 1s 12ms/step - loss: 0.9367 - root_mean_squared_error: 0.9678 - val_loss: 0.7366 - val_root_mean_squared_error: 0.8583\n",
      "Epoch 165/200\n",
      "101/101 [==============================] - 1s 12ms/step - loss: 0.9317 - root_mean_squared_error: 0.9652 - val_loss: 0.6901 - val_root_mean_squared_error: 0.8307\n",
      "Epoch 166/200\n",
      "101/101 [==============================] - 1s 12ms/step - loss: 0.9275 - root_mean_squared_error: 0.9631 - val_loss: 0.6930 - val_root_mean_squared_error: 0.8325\n",
      "Epoch 167/200\n",
      "101/101 [==============================] - 1s 12ms/step - loss: 0.9240 - root_mean_squared_error: 0.9612 - val_loss: 0.7355 - val_root_mean_squared_error: 0.8576\n",
      "Epoch 168/200\n",
      "101/101 [==============================] - 1s 12ms/step - loss: 0.9420 - root_mean_squared_error: 0.9706 - val_loss: 0.7123 - val_root_mean_squared_error: 0.8440\n",
      "Epoch 169/200\n",
      "101/101 [==============================] - 1s 12ms/step - loss: 0.9425 - root_mean_squared_error: 0.9708 - val_loss: 0.7028 - val_root_mean_squared_error: 0.8384\n",
      "Epoch 170/200\n",
      "101/101 [==============================] - 1s 12ms/step - loss: 0.9450 - root_mean_squared_error: 0.9721 - val_loss: 0.7169 - val_root_mean_squared_error: 0.8467\n",
      "Epoch 171/200\n",
      "101/101 [==============================] - 1s 12ms/step - loss: 0.9191 - root_mean_squared_error: 0.9587 - val_loss: 0.7032 - val_root_mean_squared_error: 0.8386\n",
      "Epoch 172/200\n",
      "101/101 [==============================] - 1s 12ms/step - loss: 0.9380 - root_mean_squared_error: 0.9685 - val_loss: 0.6957 - val_root_mean_squared_error: 0.8341\n",
      "Epoch 173/200\n",
      "101/101 [==============================] - 1s 12ms/step - loss: 0.9405 - root_mean_squared_error: 0.9698 - val_loss: 0.7133 - val_root_mean_squared_error: 0.8446\n",
      "Epoch 174/200\n",
      "101/101 [==============================] - 1s 12ms/step - loss: 0.9503 - root_mean_squared_error: 0.9748 - val_loss: 0.7011 - val_root_mean_squared_error: 0.8373\n",
      "Epoch 175/200\n",
      "101/101 [==============================] - 1s 12ms/step - loss: 0.9449 - root_mean_squared_error: 0.9721 - val_loss: 0.7201 - val_root_mean_squared_error: 0.8486\n",
      "Epoch 176/200\n",
      "101/101 [==============================] - 1s 12ms/step - loss: 0.9115 - root_mean_squared_error: 0.9547 - val_loss: 0.7233 - val_root_mean_squared_error: 0.8505\n",
      "Epoch 177/200\n",
      "101/101 [==============================] - 1s 12ms/step - loss: 0.9521 - root_mean_squared_error: 0.9758 - val_loss: 0.7080 - val_root_mean_squared_error: 0.8414\n",
      "Epoch 178/200\n",
      "101/101 [==============================] - 1s 12ms/step - loss: 0.9071 - root_mean_squared_error: 0.9524 - val_loss: 0.6889 - val_root_mean_squared_error: 0.8300\n",
      "Epoch 179/200\n",
      "101/101 [==============================] - 1s 12ms/step - loss: 0.9133 - root_mean_squared_error: 0.9557 - val_loss: 0.7006 - val_root_mean_squared_error: 0.8370\n",
      "Epoch 180/200\n",
      "101/101 [==============================] - 1s 12ms/step - loss: 0.9026 - root_mean_squared_error: 0.9500 - val_loss: 0.7107 - val_root_mean_squared_error: 0.8431\n",
      "Epoch 181/200\n",
      "101/101 [==============================] - 1s 12ms/step - loss: 0.9060 - root_mean_squared_error: 0.9519 - val_loss: 0.7143 - val_root_mean_squared_error: 0.8452\n",
      "Epoch 182/200\n",
      "101/101 [==============================] - 1s 12ms/step - loss: 0.8867 - root_mean_squared_error: 0.9416 - val_loss: 0.7310 - val_root_mean_squared_error: 0.8550\n",
      "Epoch 183/200\n",
      "101/101 [==============================] - 1s 12ms/step - loss: 0.9169 - root_mean_squared_error: 0.9576 - val_loss: 0.7213 - val_root_mean_squared_error: 0.8493\n",
      "Epoch 184/200\n",
      "101/101 [==============================] - 1s 12ms/step - loss: 0.9230 - root_mean_squared_error: 0.9607 - val_loss: 0.7211 - val_root_mean_squared_error: 0.8492\n",
      "Epoch 185/200\n",
      "101/101 [==============================] - 1s 12ms/step - loss: 0.9049 - root_mean_squared_error: 0.9513 - val_loss: 0.6943 - val_root_mean_squared_error: 0.8333\n",
      "Epoch 186/200\n",
      "101/101 [==============================] - 1s 12ms/step - loss: 0.8916 - root_mean_squared_error: 0.9443 - val_loss: 0.7124 - val_root_mean_squared_error: 0.8440\n",
      "Epoch 187/200\n"
     ]
    },
    {
     "name": "stdout",
     "output_type": "stream",
     "text": [
      "101/101 [==============================] - 1s 12ms/step - loss: 0.8886 - root_mean_squared_error: 0.9427 - val_loss: 0.7441 - val_root_mean_squared_error: 0.8626\n",
      "Epoch 188/200\n",
      "101/101 [==============================] - 1s 12ms/step - loss: 0.8821 - root_mean_squared_error: 0.9392 - val_loss: 0.7258 - val_root_mean_squared_error: 0.8520\n",
      "Epoch 189/200\n",
      "101/101 [==============================] - 1s 12ms/step - loss: 0.8878 - root_mean_squared_error: 0.9422 - val_loss: 0.7100 - val_root_mean_squared_error: 0.8426\n",
      "Epoch 190/200\n",
      "101/101 [==============================] - 1s 12ms/step - loss: 0.8954 - root_mean_squared_error: 0.9463 - val_loss: 0.7492 - val_root_mean_squared_error: 0.8655\n",
      "Epoch 191/200\n",
      "101/101 [==============================] - 1s 12ms/step - loss: 0.8813 - root_mean_squared_error: 0.9388 - val_loss: 0.7057 - val_root_mean_squared_error: 0.8400\n",
      "Epoch 192/200\n",
      "101/101 [==============================] - 1s 12ms/step - loss: 0.8843 - root_mean_squared_error: 0.9404 - val_loss: 0.7270 - val_root_mean_squared_error: 0.8527\n",
      "Epoch 193/200\n",
      "101/101 [==============================] - 1s 12ms/step - loss: 0.8746 - root_mean_squared_error: 0.9352 - val_loss: 0.8110 - val_root_mean_squared_error: 0.9006\n",
      "Epoch 194/200\n",
      "101/101 [==============================] - 1s 12ms/step - loss: 0.8807 - root_mean_squared_error: 0.9385 - val_loss: 0.7184 - val_root_mean_squared_error: 0.8476\n",
      "Epoch 195/200\n",
      "101/101 [==============================] - 1s 12ms/step - loss: 0.8610 - root_mean_squared_error: 0.9279 - val_loss: 0.7176 - val_root_mean_squared_error: 0.8471\n",
      "Epoch 196/200\n",
      "101/101 [==============================] - 1s 12ms/step - loss: 0.8564 - root_mean_squared_error: 0.9254 - val_loss: 0.7547 - val_root_mean_squared_error: 0.8687\n",
      "Epoch 197/200\n",
      "101/101 [==============================] - 1s 12ms/step - loss: 0.8556 - root_mean_squared_error: 0.9250 - val_loss: 0.7474 - val_root_mean_squared_error: 0.8646\n",
      "Epoch 198/200\n",
      "101/101 [==============================] - 1s 12ms/step - loss: 0.8439 - root_mean_squared_error: 0.9187 - val_loss: 0.7520 - val_root_mean_squared_error: 0.8672\n",
      "Epoch 199/200\n",
      "101/101 [==============================] - 1s 12ms/step - loss: 0.8632 - root_mean_squared_error: 0.9291 - val_loss: 0.8261 - val_root_mean_squared_error: 0.9089\n",
      "Epoch 200/200\n",
      "101/101 [==============================] - 1s 12ms/step - loss: 0.8770 - root_mean_squared_error: 0.9365 - val_loss: 0.7264 - val_root_mean_squared_error: 0.8523\n"
     ]
    }
   ],
   "source": [
    "history = model.fit(X_train, y_train,\n",
    "                    epochs=EPOCHS, \n",
    "                    validation_data=(X_test, y_test),\n",
    "                    batch_size= BATCH_SIZE, \n",
    "                    verbose=1)"
   ]
  },
  {
   "cell_type": "code",
   "execution_count": 56,
   "metadata": {},
   "outputs": [],
   "source": [
    "###-----------------------------------\n",
    "### Function to plot Loss Curve\n",
    "###-----------------------------------\n",
    "\n",
    "def plot_tf_hist(hist_df):\n",
    "    '''\n",
    "    Args:\n",
    "      hist_df : pandas Dataframe with four columns\n",
    "                For 'x' values, we will use index\n",
    "    '''\n",
    "    fig, axes = plt.subplots(1,2 , figsize = (15,6))\n",
    "\n",
    "    # properties  matplotlib.patch.Patch \n",
    "    props = dict(boxstyle='round', facecolor='aqua', alpha=0.4)\n",
    "    facecolor = 'cyan'\n",
    "    fontsize=12\n",
    "    \n",
    "    # Get columns by index to eliminate any column naming error\n",
    "    y1 = hist_df.columns[0]\n",
    "    y2 = hist_df.columns[1]\n",
    "    y3 = hist_df.columns[2]\n",
    "    y4 = hist_df.columns[3]\n",
    "\n",
    "    # Where was min loss\n",
    "    best = hist_df[hist_df[y3] == hist_df[y3].min()]\n",
    "    \n",
    "    ax = axes[0]\n",
    "\n",
    "    hist_df.plot(y = [y1,y3], ax = ax, colormap=CMAP)\n",
    "\n",
    "\n",
    "    # little beautification\n",
    "    txtFmt = \"{}: \\n  train: {:6.4f}\\n   test: {:6.4f}\"\n",
    "    txtstr = txtFmt.format(y1.capitalize(),\n",
    "                           hist_df.iloc[-1][y1],\n",
    "                           hist_df.iloc[-1][y3]) #text to plot\n",
    "    \n",
    "    # place a text box in upper middle in axes coords\n",
    "    ax.text(0.3, 0.95, txtstr, transform=ax.transAxes, fontsize=fontsize,\n",
    "            verticalalignment='top', bbox=props)\n",
    "\n",
    "    # Mark arrow at lowest\n",
    "    ax.annotate(f'Min: {best[y3].to_numpy()[0]:6.4f}', # text to print\n",
    "                xy=(best.index.to_numpy(), best[y3].to_numpy()[0]), # Arrow start\n",
    "                xytext=(best.index.to_numpy()-1, best[y3].to_numpy()[0]), # location of text \n",
    "                fontsize=fontsize, va='bottom', ha='right',bbox=props, # beautification of text\n",
    "                arrowprops=dict(facecolor=facecolor, shrink=0.05)) # arrow\n",
    "\n",
    "    # Draw vertical line at best value\n",
    "    ax.axvline(x = best.index.to_numpy(), color = 'green', linestyle='-.', lw = 3);\n",
    "\n",
    "    ax.set_xlabel(\"Epochs\")\n",
    "    ax.set_ylabel(y1.capitalize())\n",
    "    ax.set_title('Errors')\n",
    "    ax.grid();\n",
    "    ax.legend(loc = 'upper left') # model legend to upper left\n",
    "\n",
    "    ax = axes[1]\n",
    "\n",
    "    hist_df.plot( y = [y2, y4], ax = ax, colormap=CMAP)\n",
    "    \n",
    "    # little beautification\n",
    "    txtFmt = \"{}: \\n  train: {:6.4f}\\n  test:  {:6.4f}\"\n",
    "    txtstr = txtFmt.format(y2.capitalize(),\n",
    "                           hist_df.iloc[-1][y2],\n",
    "                           hist_df.iloc[-1][y4]) #text to plot\n",
    "\n",
    "    # place a text box in upper middle in axes coords\n",
    "    ax.text(0.3, 0.2, txtstr, transform=ax.transAxes, fontsize=fontsize,\n",
    "            verticalalignment='top', bbox=props)\n",
    "\n",
    "    # Mark arrow at lowest\n",
    "    ax.annotate(f'Best: {best[y4].to_numpy()[0]:6.4f}', # text to print\n",
    "                xy=(best.index.to_numpy(), best[y4].to_numpy()[0]), # Arrow start\n",
    "                xytext=(best.index.to_numpy()-1, best[y4].to_numpy()[0]), # location of text \n",
    "                fontsize=fontsize, va='bottom', ha='right',bbox=props, # beautification of text\n",
    "                arrowprops=dict(facecolor=facecolor, shrink=0.05)) # arrow\n",
    "    \n",
    "    \n",
    "    # Draw vertical line at best value\n",
    "    ax.axvline(x = best.index.to_numpy(), color = 'green', linestyle='-.', lw = 3);\n",
    "\n",
    "    ax.set_xlabel(\"Epochs\")\n",
    "    ax.set_ylabel(y2.capitalize())\n",
    "    ax.grid()\n",
    "    ax.legend(loc = 'lower left')\n",
    "    \n",
    "    plt.tight_layout()"
   ]
  },
  {
   "cell_type": "code",
   "execution_count": 57,
   "metadata": {},
   "outputs": [
    {
     "data": {
      "image/png": "[encoded data removed]",
      "text/plain": [
       "<Figure size 1500x600 with 2 Axes>"
      ]
     },
     "metadata": {},
     "output_type": "display_data"
    }
   ],
   "source": [
    "hist_df = pd.DataFrame(history.history)\n",
    "hist_df = hist_df.rename({'root_mean_squared_error': 'rmse', 'val_root_mean_squared_error' : 'val_rmse'}, axis=1)\n",
    "\n",
    "\n",
    "plot_tf_hist(hist_df)"
   ]
  },
  {
   "cell_type": "code",
   "execution_count": 58,
   "metadata": {},
   "outputs": [
    {
     "name": "stdout",
     "output_type": "stream",
     "text": [
      "101/101 [==============================] - 1s 5ms/step\n",
      "26/26 [==============================] - 0s 5ms/step\n"
     ]
    }
   ],
   "source": [
    "# make predictions\n",
    "y_train_pred = model.predict(X_train)\n",
    "y_test_pred = model.predict(X_test)\n",
    "y_pred = np.append(y_train_pred, y_test_pred)"
   ]
  },
  {
   "cell_type": "code",
   "execution_count": 60,
   "metadata": {},
   "outputs": [
    {
     "data": {
      "text/html": [
       "<div>\n",
       "<style scoped>\n",
       "    .dataframe tbody tr th:only-of-type {\n",
       "        vertical-align: middle;\n",
       "    }\n",
       "\n",
       "    .dataframe tbody tr th {\n",
       "        vertical-align: top;\n",
       "    }\n",
       "\n",
       "    .dataframe thead th {\n",
       "        text-align: right;\n",
       "    }\n",
       "</style>\n",
       "<table border=\"1\" class=\"dataframe\">\n",
       "  <thead>\n",
       "    <tr style=\"text-align: right;\">\n",
       "      <th></th>\n",
       "      <th>Time</th>\n",
       "      <th>temp</th>\n",
       "      <th>pred</th>\n",
       "    </tr>\n",
       "  </thead>\n",
       "  <tbody>\n",
       "    <tr>\n",
       "      <th>24</th>\n",
       "      <td>2006-01-01</td>\n",
       "      <td>5.422222</td>\n",
       "      <td>5.301651</td>\n",
       "    </tr>\n",
       "    <tr>\n",
       "      <th>48</th>\n",
       "      <td>2006-01-02</td>\n",
       "      <td>1.694444</td>\n",
       "      <td>1.640493</td>\n",
       "    </tr>\n",
       "    <tr>\n",
       "      <th>72</th>\n",
       "      <td>2006-01-03</td>\n",
       "      <td>2.200000</td>\n",
       "      <td>2.002794</td>\n",
       "    </tr>\n",
       "    <tr>\n",
       "      <th>96</th>\n",
       "      <td>2006-01-04</td>\n",
       "      <td>1.666667</td>\n",
       "      <td>1.913822</td>\n",
       "    </tr>\n",
       "    <tr>\n",
       "      <th>120</th>\n",
       "      <td>2006-01-05</td>\n",
       "      <td>1.805556</td>\n",
       "      <td>2.236354</td>\n",
       "    </tr>\n",
       "  </tbody>\n",
       "</table>\n",
       "</div>"
      ],
      "text/plain": [
       "           Time      temp      pred\n",
       "24   2006-01-01  5.422222  5.301651\n",
       "48   2006-01-02  1.694444  1.640493\n",
       "72   2006-01-03  2.200000  2.002794\n",
       "96   2006-01-04  1.666667  1.913822\n",
       "120  2006-01-05  1.805556  2.236354"
      ]
     },
     "execution_count": 60,
     "metadata": {},
     "output_type": "execute_result"
    }
   ],
   "source": [
    "res_df = y_df.copy()\n",
    "res_df['pred'] = y_pred\n",
    "res_df['Time'] = res_df['Time'].dt.date\n",
    "res_df.head()"
   ]
  },
  {
   "cell_type": "code",
   "execution_count": 61,
   "metadata": {},
   "outputs": [
    {
     "data": {
      "text/html": [
       "<div>\n",
       "<style scoped>\n",
       "    .dataframe tbody tr th:only-of-type {\n",
       "        vertical-align: middle;\n",
       "    }\n",
       "\n",
       "    .dataframe tbody tr th {\n",
       "        vertical-align: top;\n",
       "    }\n",
       "\n",
       "    .dataframe thead th {\n",
       "        text-align: right;\n",
       "    }\n",
       "</style>\n",
       "<table border=\"1\" class=\"dataframe\">\n",
       "  <thead>\n",
       "    <tr style=\"text-align: right;\">\n",
       "      <th></th>\n",
       "      <th>Time</th>\n",
       "      <th>temp</th>\n",
       "      <th>pred</th>\n",
       "    </tr>\n",
       "  </thead>\n",
       "  <tbody>\n",
       "    <tr>\n",
       "      <th>96336</th>\n",
       "      <td>2016-12-27</td>\n",
       "      <td>-1.627778</td>\n",
       "      <td>-1.226269</td>\n",
       "    </tr>\n",
       "    <tr>\n",
       "      <th>96360</th>\n",
       "      <td>2016-12-28</td>\n",
       "      <td>-1.677778</td>\n",
       "      <td>-1.379504</td>\n",
       "    </tr>\n",
       "    <tr>\n",
       "      <th>96384</th>\n",
       "      <td>2016-12-29</td>\n",
       "      <td>-1.727778</td>\n",
       "      <td>-1.548686</td>\n",
       "    </tr>\n",
       "    <tr>\n",
       "      <th>96408</th>\n",
       "      <td>2016-12-30</td>\n",
       "      <td>-1.777778</td>\n",
       "      <td>-1.689212</td>\n",
       "    </tr>\n",
       "    <tr>\n",
       "      <th>96432</th>\n",
       "      <td>2016-12-31</td>\n",
       "      <td>-1.822222</td>\n",
       "      <td>-1.776951</td>\n",
       "    </tr>\n",
       "  </tbody>\n",
       "</table>\n",
       "</div>"
      ],
      "text/plain": [
       "             Time      temp      pred\n",
       "96336  2016-12-27 -1.627778 -1.226269\n",
       "96360  2016-12-28 -1.677778 -1.379504\n",
       "96384  2016-12-29 -1.727778 -1.548686\n",
       "96408  2016-12-30 -1.777778 -1.689212\n",
       "96432  2016-12-31 -1.822222 -1.776951"
      ]
     },
     "execution_count": 61,
     "metadata": {},
     "output_type": "execute_result"
    }
   ],
   "source": [
    "res_df.tail()"
   ]
  },
  {
   "cell_type": "code",
   "execution_count": 63,
   "metadata": {},
   "outputs": [
    {
     "data": {
      "image/png": "[encoded data removed]",
      "text/plain": [
       "<Figure size 1500x600 with 1 Axes>"
      ]
     },
     "metadata": {},
     "output_type": "display_data"
    }
   ],
   "source": [
    "fig, ax = plt.subplots(figsize = (15,6))\n",
    "\n",
    "res_df.plot(x='Time', y=['temp','pred'], ax = ax);\n",
    "\n",
    "ax.vlines(res_df.iloc[X_train.shape[0]]['Time'], \n",
    "          res_df['temp'].min(), \n",
    "          res_df['temp'].max(), color = 'k', \n",
    "          linewidth=3.0, zorder=10, alpha =0.8)\n",
    "\n",
    "ax.grid()"
   ]
  },
  {
   "cell_type": "code",
   "execution_count": null,
   "metadata": {
    "id": "82uougPALOx4"
   },
   "outputs": [],
   "source": []
  }
 ],
 "metadata": {
  "accelerator": "GPU",
  "colab": {
   "provenance": []
  },
  "kernelspec": {
   "display_name": "Python 3 (ipykernel)",
   "language": "python",
   "name": "python3"
  },
  "language_info": {
   "codemirror_mode": {
    "name": "ipython",
    "version": 3
   },
   "file_extension": ".py",
   "mimetype": "text/x-python",
   "name": "python",
   "nbconvert_exporter": "python",
   "pygments_lexer": "ipython3",
   "version": "3.11.5"
  }
 },
 "nbformat": 4,
 "nbformat_minor": 1
}
