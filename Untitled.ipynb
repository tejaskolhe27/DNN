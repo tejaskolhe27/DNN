{
 "cells": [
  {
   "cell_type": "code",
   "execution_count": 1,
   "id": "42784fce",
   "metadata": {},
   "outputs": [
    {
     "name": "stderr",
     "output_type": "stream",
     "text": [
      "2023-12-02 11:56:52.995359: I tensorflow/core/util/port.cc:113] oneDNN custom operations are on. You may see slightly different numerical results due to floating-point round-off errors from different computation orders. To turn them off, set the environment variable `TF_ENABLE_ONEDNN_OPTS=0`.\n",
      "2023-12-02 11:56:53.046724: E external/local_xla/xla/stream_executor/cuda/cuda_dnn.cc:9261] Unable to register cuDNN factory: Attempting to register factory for plugin cuDNN when one has already been registered\n",
      "2023-12-02 11:56:53.046758: E external/local_xla/xla/stream_executor/cuda/cuda_fft.cc:607] Unable to register cuFFT factory: Attempting to register factory for plugin cuFFT when one has already been registered\n",
      "2023-12-02 11:56:53.047856: E external/local_xla/xla/stream_executor/cuda/cuda_blas.cc:1515] Unable to register cuBLAS factory: Attempting to register factory for plugin cuBLAS when one has already been registered\n",
      "2023-12-02 11:56:53.055257: I tensorflow/core/platform/cpu_feature_guard.cc:182] This TensorFlow binary is optimized to use available CPU instructions in performance-critical operations.\n",
      "To enable the following instructions: AVX2 AVX512F AVX512_VNNI FMA, in other operations, rebuild TensorFlow with the appropriate compiler flags.\n",
      "2023-12-02 11:56:54.296899: W tensorflow/compiler/tf2tensorrt/utils/py_utils.cc:38] TF-TRT Warning: Could not find TensorRT\n"
     ]
    }
   ],
   "source": [
    "###-----------------\n",
    "### Import Libraries\n",
    "###-----------------;\n",
    "\n",
    "import os\n",
    "import numpy as np\n",
    "import pandas as pd\n",
    "import matplotlib.pyplot as plt\n",
    "import tensorflow as tf\n",
    "from collections.abc import Callable\n",
    "from typing import Literal\n",
    "\n",
    "from sklearn import datasets\n",
    "from sklearn.model_selection import train_test_split\n",
    "from sklearn.metrics import accuracy_score, confusion_matrix, classification_report, ConfusionMatrixDisplay\n",
    "from sklearn.preprocessing import StandardScaler\n",
    "\n",
    "\n",
    "import warnings as w\n",
    "w.filterwarnings('ignore')\n",
    "%matplotlib inline"
   ]
  },
  {
   "cell_type": "code",
   "execution_count": 2,
   "id": "2cf380be",
   "metadata": {},
   "outputs": [],
   "source": [
    "###----------------\n",
    "### Some parameters\n",
    "###----------------\n",
    "\n",
    "inpDir = '../input'\n",
    "outDir = '../output'\n",
    "modelDir = '../model'\n",
    "subDir = '../subdir'\n",
    "\n",
    "RANDOM_STATE = 24 # REMEMBER: to remove at the time of promotion to production\n",
    "np.random.seed(RANDOM_STATE) # Set Random Seed for reproducible  results\n",
    "\n",
    "EPOCHS = 10 # number of epochs\n",
    "ALPHA = 0.01 # learning rate\n",
    "NUM_SAMPLES = 1280 # How many samples we want to generate\n",
    "NOISE = 0.2 # Noise to be introduced in the data\n",
    "TEST_SIZE = 0.3\n",
    "BATCH_SIZE = 32\n",
    "TRAIN_SIZE = 14496\n",
    "\n",
    "# parameters for Matplotlib\n",
    "params = {'legend.fontsize': 'x-large',\n",
    "          'figure.figsize': (15, 8),\n",
    "          'axes.labelsize': 'x-large',\n",
    "          'axes.titlesize':'x-large',\n",
    "          'xtick.labelsize':'x-large',\n",
    "          'ytick.labelsize':'x-large'\n",
    "         }\n",
    "\n",
    "CMAP = 'coolwarm' # plt.cm.Spectral\n",
    "\n",
    "plt.rcParams.update(params)"
   ]
  },
  {
   "cell_type": "code",
   "execution_count": 3,
   "id": "db9c5a5e",
   "metadata": {},
   "outputs": [
    {
     "data": {
      "text/plain": [
       "1115395"
      ]
     },
     "execution_count": 3,
     "metadata": {},
     "output_type": "execute_result"
    }
   ],
   "source": [
    "text = open('../DNN/DNN_Sep2023/input/shakespeare.txt','rb').read().decode(encoding='utf-8')\n",
    "len(text)"
   ]
  },
  {
   "cell_type": "code",
   "execution_count": 4,
   "id": "d01be21c",
   "metadata": {},
   "outputs": [
    {
     "data": {
      "text/plain": [
       "\"First Citizen:\\nBefore we proceed any further, hear me speak.\\n\\nAll:\\nSpeak, speak.\\n\\nFirst Citizen:\\nYou are all resolved rather to die than to famish?\\n\\nAll:\\nResolved. resolved.\\n\\nFirst Citizen:\\nFirst, you know Caius Marcius is chief enemy to the people.\\n\\nAll:\\nWe know't, we know't.\\n\\nFirst Citizen:\\nLet us\""
      ]
     },
     "execution_count": 4,
     "metadata": {},
     "output_type": "execute_result"
    }
   ],
   "source": [
    "text[:300] # character in sentence "
   ]
  },
  {
   "cell_type": "code",
   "execution_count": 5,
   "id": "450c513d",
   "metadata": {},
   "outputs": [],
   "source": [
    "## To Generate Vocanulary of Unique Characters "
   ]
  },
  {
   "cell_type": "code",
   "execution_count": 6,
   "id": "20a9d1bd",
   "metadata": {},
   "outputs": [
    {
     "data": {
      "text/plain": [
       "65"
      ]
     },
     "execution_count": 6,
     "metadata": {},
     "output_type": "execute_result"
    }
   ],
   "source": [
    "vocab = sorted(set(text))\n",
    "len(vocab)"
   ]
  },
  {
   "cell_type": "code",
   "execution_count": 7,
   "id": "97a1cd63",
   "metadata": {},
   "outputs": [
    {
     "data": {
      "text/plain": [
       "['\\n', ' ', '!', '$', '&', \"'\", ',', '-', '.', '3']"
      ]
     },
     "execution_count": 7,
     "metadata": {},
     "output_type": "execute_result"
    }
   ],
   "source": [
    "vocab[:10]"
   ]
  },
  {
   "cell_type": "code",
   "execution_count": 8,
   "id": "eb4dd66b",
   "metadata": {},
   "outputs": [
    {
     "data": {
      "text/plain": [
       "{'\\n': 0,\n",
       " ' ': 1,\n",
       " '!': 2,\n",
       " '$': 3,\n",
       " '&': 4,\n",
       " \"'\": 5,\n",
       " ',': 6,\n",
       " '-': 7,\n",
       " '.': 8,\n",
       " '3': 9,\n",
       " ':': 10,\n",
       " ';': 11,\n",
       " '?': 12,\n",
       " 'A': 13,\n",
       " 'B': 14,\n",
       " 'C': 15,\n",
       " 'D': 16,\n",
       " 'E': 17,\n",
       " 'F': 18,\n",
       " 'G': 19,\n",
       " 'H': 20,\n",
       " 'I': 21,\n",
       " 'J': 22,\n",
       " 'K': 23,\n",
       " 'L': 24,\n",
       " 'M': 25,\n",
       " 'N': 26,\n",
       " 'O': 27,\n",
       " 'P': 28,\n",
       " 'Q': 29,\n",
       " 'R': 30,\n",
       " 'S': 31,\n",
       " 'T': 32,\n",
       " 'U': 33,\n",
       " 'V': 34,\n",
       " 'W': 35,\n",
       " 'X': 36,\n",
       " 'Y': 37,\n",
       " 'Z': 38,\n",
       " 'a': 39,\n",
       " 'b': 40,\n",
       " 'c': 41,\n",
       " 'd': 42,\n",
       " 'e': 43,\n",
       " 'f': 44,\n",
       " 'g': 45,\n",
       " 'h': 46,\n",
       " 'i': 47,\n",
       " 'j': 48,\n",
       " 'k': 49,\n",
       " 'l': 50,\n",
       " 'm': 51,\n",
       " 'n': 52,\n",
       " 'o': 53,\n",
       " 'p': 54,\n",
       " 'q': 55,\n",
       " 'r': 56,\n",
       " 's': 57,\n",
       " 't': 58,\n",
       " 'u': 59,\n",
       " 'v': 60,\n",
       " 'w': 61,\n",
       " 'x': 62,\n",
       " 'y': 63,\n",
       " 'z': 64}"
      ]
     },
     "execution_count": 8,
     "metadata": {},
     "output_type": "execute_result"
    }
   ],
   "source": [
    "char2idx = {u:i for i,u in enumerate(vocab)}\n",
    "char2idx"
   ]
  },
  {
   "cell_type": "code",
   "execution_count": 9,
   "id": "5b508987",
   "metadata": {},
   "outputs": [
    {
     "data": {
      "text/plain": [
       "array(['\\n', ' ', '!', '$', '&', \"'\", ',', '-', '.', '3', ':', ';', '?',\n",
       "       'A', 'B', 'C', 'D', 'E', 'F', 'G', 'H', 'I', 'J', 'K', 'L', 'M',\n",
       "       'N', 'O', 'P', 'Q', 'R', 'S', 'T', 'U', 'V', 'W', 'X', 'Y', 'Z',\n",
       "       'a', 'b', 'c', 'd', 'e', 'f', 'g', 'h', 'i', 'j', 'k', 'l', 'm',\n",
       "       'n', 'o', 'p', 'q', 'r', 's', 't', 'u', 'v', 'w', 'x', 'y', 'z'],\n",
       "      dtype='<U1')"
      ]
     },
     "execution_count": 9,
     "metadata": {},
     "output_type": "execute_result"
    }
   ],
   "source": [
    "idx2char = np.array(vocab)\n",
    "idx2char"
   ]
  },
  {
   "cell_type": "code",
   "execution_count": 10,
   "id": "b80830c8",
   "metadata": {},
   "outputs": [
    {
     "data": {
      "text/plain": [
       "(1115395,)"
      ]
     },
     "execution_count": 10,
     "metadata": {},
     "output_type": "execute_result"
    }
   ],
   "source": [
    "# using made dictionary above to convert char to int \n",
    "\n",
    "text_as_int = np.array([char2idx[c] for c in text])\n",
    "text_as_int.shape"
   ]
  },
  {
   "cell_type": "code",
   "execution_count": 11,
   "id": "074bcb1c",
   "metadata": {},
   "outputs": [
    {
     "data": {
      "text/plain": [
       "array([18, 47, 56, ...,  8,  0,  0])"
      ]
     },
     "execution_count": 11,
     "metadata": {},
     "output_type": "execute_result"
    }
   ],
   "source": [
    "text_as_int"
   ]
  },
  {
   "cell_type": "code",
   "execution_count": 12,
   "id": "4886211c",
   "metadata": {},
   "outputs": [
    {
     "data": {
      "text/plain": [
       "'First Citi'"
      ]
     },
     "execution_count": 12,
     "metadata": {},
     "output_type": "execute_result"
    }
   ],
   "source": [
    "text[:10]"
   ]
  },
  {
   "cell_type": "code",
   "execution_count": 13,
   "id": "5e35f752",
   "metadata": {},
   "outputs": [
    {
     "data": {
      "text/plain": [
       "('F', 'i')"
      ]
     },
     "execution_count": 13,
     "metadata": {},
     "output_type": "execute_result"
    }
   ],
   "source": [
    "idx2char[18],idx2char[47],"
   ]
  },
  {
   "cell_type": "code",
   "execution_count": 14,
   "id": "bf6bb1bb",
   "metadata": {},
   "outputs": [
    {
     "name": "stderr",
     "output_type": "stream",
     "text": [
      "IOPub data rate exceeded.\n",
      "The notebook server will temporarily stop sending output\n",
      "to the client in order to avoid crashing it.\n",
      "To change this limit, set the config variable\n",
      "`--NotebookApp.iopub_data_rate_limit`.\n",
      "\n",
      "Current values:\n",
      "NotebookApp.iopub_data_rate_limit=1000000.0 (bytes/sec)\n",
      "NotebookApp.rate_limit_window=3.0 (secs)\n",
      "\n"
     ]
    }
   ],
   "source": [
    "# converting input_int_data to tensor \n",
    "dataset = tf.data.Dataset.from_tensor_slices(text_as_int)\n",
    "print(list(dataset.as_numpy_iterator()))"
   ]
  },
  {
   "cell_type": "code",
   "execution_count": 15,
   "id": "6f32139a",
   "metadata": {},
   "outputs": [
    {
     "data": {
      "text/plain": [
       "11043"
      ]
     },
     "execution_count": 15,
     "metadata": {},
     "output_type": "execute_result"
    }
   ],
   "source": [
    "seq_length = 100\n",
    "example_per_epoch = len(text) // (seq_length + 1)\n",
    "example_per_epoch"
   ]
  },
  {
   "cell_type": "code",
   "execution_count": 16,
   "id": "146ae490",
   "metadata": {},
   "outputs": [
    {
     "name": "stdout",
     "output_type": "stream",
     "text": [
      "18 | F\n",
      "47 | i\n",
      "56 | r\n",
      "57 | s\n",
      "58 | t\n",
      "1 |  \n",
      "15 | C\n",
      "47 | i\n",
      "58 | t\n",
      "47 | i\n"
     ]
    }
   ],
   "source": [
    "for i in dataset.take(10):\n",
    "    print(i.numpy(),'|',idx2char[i.numpy()])"
   ]
  },
  {
   "cell_type": "code",
   "execution_count": 17,
   "id": "1b06e06c",
   "metadata": {},
   "outputs": [
    {
     "name": "stdout",
     "output_type": "stream",
     "text": [
      "tf.Tensor(\n",
      "[18 47 56 57 58  1 15 47 58 47 64 43 52 10  0 14 43 44 53 56 43  1 61 43\n",
      "  1 54 56 53 41 43 43 42  1 39 52 63  1 44 59 56 58 46 43 56  6  1 46 43\n",
      " 39 56  1 51 43  1 57 54 43 39 49  8  0  0 13 50 50 10  0 31 54 43 39 49\n",
      "  6  1 57 54 43 39 49  8  0  0 18 47 56 57 58  1 15 47 58 47 64 43 52 10\n",
      "  0 37 53 59  1], shape=(101,), dtype=int64)\n",
      "\n",
      "\n",
      "'First Citizen:\\nBefore we proceed any further, hear me speak.\\n\\nAll:\\nSpeak, speak.\\n\\nFirst Citizen:\\nYou '\n",
      "\n",
      "\n",
      "tf.Tensor(\n",
      "[39 56 43  1 39 50 50  1 56 43 57 53 50 60 43 42  1 56 39 58 46 43 56  1\n",
      " 58 53  1 42 47 43  1 58 46 39 52  1 58 53  1 44 39 51 47 57 46 12  0  0\n",
      " 13 50 50 10  0 30 43 57 53 50 60 43 42  8  1 56 43 57 53 50 60 43 42  8\n",
      "  0  0 18 47 56 57 58  1 15 47 58 47 64 43 52 10  0 18 47 56 57 58  6  1\n",
      " 63 53 59  1 49], shape=(101,), dtype=int64)\n",
      "\n",
      "\n",
      "'are all resolved rather to die than to famish?\\n\\nAll:\\nResolved. resolved.\\n\\nFirst Citizen:\\nFirst, you k'\n",
      "\n",
      "\n"
     ]
    }
   ],
   "source": [
    "sequences = dataset.batch(seq_length+1,drop_remainder=True) # convert to batch \n",
    "for item in sequences.take(2):\n",
    "    print(item)\n",
    "    print('\\n')\n",
    "    print(repr(''.join(idx2char[item.numpy()] ) ) ) # text index values and convert to char \n",
    "    print('\\n')"
   ]
  },
  {
   "cell_type": "code",
   "execution_count": 18,
   "id": "46c53652",
   "metadata": {},
   "outputs": [
    {
     "data": {
      "text/plain": [
       "<_MapDataset element_spec=(TensorSpec(shape=(100,), dtype=tf.int64, name=None), TensorSpec(shape=(100,), dtype=tf.int64, name=None))>"
      ]
     },
     "execution_count": 18,
     "metadata": {},
     "output_type": "execute_result"
    }
   ],
   "source": [
    "def fn_split_X_y(seq): # bring in sequence of length 101 \n",
    "    \n",
    "    input_text = seq[:-1] # input is first 100 char \n",
    "    output_text = seq[1:] # output is last 100 char \n",
    "    \n",
    "    return input_text,output_text\n",
    "\n",
    "dataset = sequences.map(fn_split_X_y)\n",
    "dataset"
   ]
  },
  {
   "cell_type": "code",
   "execution_count": 19,
   "id": "8b112382",
   "metadata": {},
   "outputs": [
    {
     "name": "stdout",
     "output_type": "stream",
     "text": [
      "'First Citizen:\\nBefore we proceed any further, hear me speak.\\n\\nAll:\\nSpeak, speak.\\n\\nFirst Citizen:\\nYou'\n",
      "'irst Citizen:\\nBefore we proceed any further, hear me speak.\\n\\nAll:\\nSpeak, speak.\\n\\nFirst Citizen:\\nYou '\n",
      "____________________________________________________________________________________________________\n",
      "'are all resolved rather to die than to famish?\\n\\nAll:\\nResolved. resolved.\\n\\nFirst Citizen:\\nFirst, you '\n",
      "'re all resolved rather to die than to famish?\\n\\nAll:\\nResolved. resolved.\\n\\nFirst Citizen:\\nFirst, you k'\n",
      "____________________________________________________________________________________________________\n"
     ]
    }
   ],
   "source": [
    "for X,y in dataset.take (2):\n",
    "    print(repr(''.join(idx2char[X.numpy()] ) ) ) # X data \n",
    "    print(repr(''.join(idx2char[y.numpy()] ) ) ) # y data\n",
    "    print('_'*100)\n",
    "    \n",
    "    # input is strating with first char \n",
    "    # output is starting with second char \n",
    "    #------------------\n",
    "    # input is strating with first char \n",
    "    # output is starting with second char \n",
    "    "
   ]
  },
  {
   "cell_type": "code",
   "execution_count": 20,
   "id": "72f63a01",
   "metadata": {},
   "outputs": [
    {
     "data": {
      "text/plain": [
       "<_BatchDataset element_spec=(TensorSpec(shape=(64, 100), dtype=tf.int64, name=None), TensorSpec(shape=(64, 100), dtype=tf.int64, name=None))>"
      ]
     },
     "execution_count": 20,
     "metadata": {},
     "output_type": "execute_result"
    }
   ],
   "source": [
    "BUFFER_SIZE = 10000\n",
    "BATCH_SIZE = 64 \n",
    "dataset = dataset.shuffle(BUFFER_SIZE).batch(BATCH_SIZE,drop_remainder=True)\n",
    "dataset  "
   ]
  },
  {
   "cell_type": "code",
   "execution_count": 21,
   "id": "18ae3cc7",
   "metadata": {},
   "outputs": [],
   "source": [
    "vocab_size = len(vocab)\n",
    "\n",
    "embedding_dim = 256\n",
    "\n",
    "rnn_units = 1024 \n",
    "\n",
    "# Model Building \n",
    "\n",
    "\"\"\"\n",
    "\n",
    "1.build model using tf.keras \n",
    "2.Embedding to reduce diamensionality of input \n",
    "3.2nd hidden is GPU Unit \n",
    "\n",
    "\"\"\"\n",
    "\n",
    "\n",
    "def build_model(vocab_size,\n",
    "                embedding_dim,\n",
    "               rnn_unit,\n",
    "               batch_size = BATCH_SIZE):\n",
    "    \n",
    "    model = tf.keras.Sequential([\n",
    "        \n",
    "        # Embedding will reduce vocab size to 256 \n",
    "        \n",
    "        tf.keras.layers.Embedding(vocab_size,\n",
    "                                  embedding_dim,\n",
    "                                 batch_input_shape = (batch_size,None)),\n",
    "        \n",
    "        # GRU unit are used to sequence prediction problem \n",
    "        \n",
    "        tf.keras.layers.GRU(rnn_units,\n",
    "                            return_sequences=True,\n",
    "                           stateful=True,\n",
    "                           recurrent_initializer='glorot_uniform'),\n",
    "        \n",
    "        \n",
    "        \n",
    "        tf.keras.layers.Dense(vocab_size)\n",
    "        \n",
    "    ])\n",
    "    \n",
    "    return model \n",
    "    \n",
    "model = build_model(vocab_size,\n",
    "                   embedding_dim,\n",
    "                   rnn_units)\n"
   ]
  },
  {
   "cell_type": "code",
   "execution_count": 22,
   "id": "46fac7a0",
   "metadata": {},
   "outputs": [
    {
     "name": "stdout",
     "output_type": "stream",
     "text": [
      "Model: \"sequential\"\n",
      "_________________________________________________________________\n",
      " Layer (type)                Output Shape              Param #   \n",
      "=================================================================\n",
      " embedding (Embedding)       (64, None, 256)           16640     \n",
      "                                                                 \n",
      " gru (GRU)                   (64, None, 1024)          3938304   \n",
      "                                                                 \n",
      " dense (Dense)               (64, None, 65)            66625     \n",
      "                                                                 \n",
      "=================================================================\n",
      "Total params: 4021569 (15.34 MB)\n",
      "Trainable params: 4021569 (15.34 MB)\n",
      "Non-trainable params: 0 (0.00 Byte)\n",
      "_________________________________________________________________\n"
     ]
    }
   ],
   "source": [
    "model.summary()"
   ]
  },
  {
   "cell_type": "code",
   "execution_count": 23,
   "id": "89cf5abf",
   "metadata": {},
   "outputs": [],
   "source": [
    "# prediction without training (i.e we haven't used tf.compile )\n",
    "\n",
    "for X,y in dataset.take(2):\n",
    "    y_pred = model(X)"
   ]
  },
  {
   "cell_type": "code",
   "execution_count": 24,
   "id": "7ef44878",
   "metadata": {},
   "outputs": [
    {
     "data": {
      "text/plain": [
       "TensorShape([64, 100, 65])"
      ]
     },
     "execution_count": 24,
     "metadata": {},
     "output_type": "execute_result"
    }
   ],
   "source": [
    "y_pred.shape"
   ]
  },
  {
   "cell_type": "code",
   "execution_count": 28,
   "id": "50254081",
   "metadata": {},
   "outputs": [],
   "source": [
    "loss_fn = tf.losses.SparseCategoricalCrossentropy(from_logits=True)\n",
    "model.compile(optimizer='adam',loss=loss_fn)"
   ]
  },
  {
   "cell_type": "code",
   "execution_count": 29,
   "id": "06651ca3",
   "metadata": {},
   "outputs": [],
   "source": [
    "cktPtPath = os.path.join(modelDir,subDir)\n",
    "\n",
    "chkPtPrefix = os.path.join(cktPtPath,'chkpt_(epoch)')\n",
    "\n",
    "checkpoint_callback = tf.keras.callbacks.ModelCheckpoint(filepath=chkPtPrefix,\n",
    "                                                         save_weights_only=True)"
   ]
  },
  {
   "cell_type": "code",
   "execution_count": 30,
   "id": "431c3868",
   "metadata": {},
   "outputs": [
    {
     "name": "stdout",
     "output_type": "stream",
     "text": [
      "Epoch 1/10\n",
      "172/172 [==============================] - 230s 1s/step - loss: 2.6672\n",
      "Epoch 2/10\n",
      "172/172 [==============================] - 228s 1s/step - loss: 1.9575\n",
      "Epoch 3/10\n",
      "172/172 [==============================] - 228s 1s/step - loss: 1.6894\n",
      "Epoch 4/10\n",
      "172/172 [==============================] - 228s 1s/step - loss: 1.5423\n",
      "Epoch 5/10\n",
      "172/172 [==============================] - 228s 1s/step - loss: 1.4547\n",
      "Epoch 6/10\n",
      "172/172 [==============================] - 228s 1s/step - loss: 1.3961\n",
      "Epoch 7/10\n",
      "172/172 [==============================] - 228s 1s/step - loss: 1.3506\n",
      "Epoch 8/10\n",
      "172/172 [==============================] - 228s 1s/step - loss: 1.3119\n",
      "Epoch 9/10\n",
      "172/172 [==============================] - 229s 1s/step - loss: 1.2782\n",
      "Epoch 10/10\n",
      "172/172 [==============================] - 230s 1s/step - loss: 1.2463\n"
     ]
    }
   ],
   "source": [
    "hist = model.fit(dataset,epochs=EPOCHS,callbacks=[checkpoint_callback])"
   ]
  },
  {
   "cell_type": "code",
   "execution_count": 34,
   "id": "89ac4d22",
   "metadata": {},
   "outputs": [
    {
     "data": {
      "text/plain": [
       "'../model/../subdir/chkpt_(epoch)'"
      ]
     },
     "execution_count": 34,
     "metadata": {},
     "output_type": "execute_result"
    }
   ],
   "source": [
    "tf.train.latest_checkpoint(cktPtPath)"
   ]
  },
  {
   "cell_type": "code",
   "execution_count": 38,
   "id": "d786534c",
   "metadata": {},
   "outputs": [
    {
     "name": "stdout",
     "output_type": "stream",
     "text": [
      "Model: \"sequential_3\"\n",
      "_________________________________________________________________\n",
      " Layer (type)                Output Shape              Param #   \n",
      "=================================================================\n",
      " embedding_3 (Embedding)     (1, None, 256)            16640     \n",
      "                                                                 \n",
      " gru_3 (GRU)                 (1, None, 1024)           3938304   \n",
      "                                                                 \n",
      " dense_3 (Dense)             (1, None, 65)             66625     \n",
      "                                                                 \n",
      "=================================================================\n",
      "Total params: 4021569 (15.34 MB)\n",
      "Trainable params: 4021569 (15.34 MB)\n",
      "Non-trainable params: 0 (0.00 Byte)\n",
      "_________________________________________________________________\n"
     ]
    }
   ],
   "source": [
    "model = build_model(vocab_size,\n",
    "                    embedding_dim,\n",
    "                    rnn_units,\n",
    "                    batch_size=1)\n",
    "\n",
    "\n",
    "model.load_weights(tf.train.latest_checkpoint(cktPtPath))\n",
    "model.summary()"
   ]
  },
  {
   "cell_type": "code",
   "execution_count": 39,
   "id": "c5e1d574",
   "metadata": {},
   "outputs": [
    {
     "name": "stdout",
     "output_type": "stream",
     "text": [
      "Model: \"sequential_3\"\n",
      "_________________________________________________________________\n",
      " Layer (type)                Output Shape              Param #   \n",
      "=================================================================\n",
      " embedding_3 (Embedding)     (1, None, 256)            16640     \n",
      "                                                                 \n",
      " gru_3 (GRU)                 (1, None, 1024)           3938304   \n",
      "                                                                 \n",
      " dense_3 (Dense)             (1, None, 65)             66625     \n",
      "                                                                 \n",
      "=================================================================\n",
      "Total params: 4021569 (15.34 MB)\n",
      "Trainable params: 4021569 (15.34 MB)\n",
      "Non-trainable params: 0 (0.00 Byte)\n",
      "_________________________________________________________________\n"
     ]
    }
   ],
   "source": [
    "model.build(tf.TensorShape([1,None] ) ) \n",
    "model.summary()"
   ]
  },
  {
   "cell_type": "code",
   "execution_count": 49,
   "id": "28a88a2e",
   "metadata": {},
   "outputs": [],
   "source": [
    "def gen_text(model,start_string):\n",
    "    num_generate  = 10000\n",
    "    \n",
    "    input_eval = [char2idx[c] for c in start_string]\n",
    "    \n",
    "    print(f'Input :{start_string} | {input_eval}')\n",
    "    \n",
    "    input_eval = tf.expand_dims(input_eval,0)\n",
    "    \n",
    "    text_generated = []\n",
    "    \n",
    "    temperature = 1,0\n",
    "    model.reset_states()\n",
    "    \n",
    "    for i in range(num_generate):\n",
    "        \n",
    "        prediction = model(input_eval)\n",
    "        \n",
    "        prediction = tf.squeeze(prediction,0)\n",
    "        \n",
    "        prediction_td = tf.random.categorical(prediction,\n",
    "                                              num_samples=1)[-1,0].numpy()\n",
    "        \n",
    "        input_eval= tf.expand_dims([prediction_td],0)\n",
    "        text_generated.append(idx2char[prediction_td])\n",
    "        \n",
    "    return start_string + ''.join(text_generated) \n",
    "        "
   ]
  },
  {
   "cell_type": "code",
   "execution_count": 50,
   "id": "ad19b612",
   "metadata": {},
   "outputs": [
    {
     "name": "stdout",
     "output_type": "stream",
     "text": [
      "Input :ROMEO: | [30, 27, 25, 17, 27, 10]\n",
      "ROMEO:\n",
      "Hardy and I know no furnish'd king in good temporan.\n",
      "Meethought the queen than twn to his men:\n",
      "Harry! Believe me I could sell that\n",
      "I not thanks. But! what art thou unst?\n",
      "My prince, Climase! and he look'd ask'd, how or we pick?\n",
      "\n",
      "BUCKINGHAM:\n",
      "Be record in sight;\n",
      "But shall we so apoar him with unhorimany,\n",
      "You had been been, that did leave him whither\n",
      "About with our saffle sentenced with the hose would have heard\n",
      "Than be together, and Edward be long a name\n",
      "To Norfold.\n",
      "\n",
      "TYRRELL:\n",
      "'Twould you never seem and lies up;\n",
      "Set, would have here so do due love to Rome.\n",
      "\n",
      "LUCETHBY BOLINGBROKE:\n",
      "Nay, give as me to me.\n",
      "Were forced, Turn lanus, whose vile ways free arrivy with an end,\n",
      "Thought's away from which he childers knew;\n",
      "Do't artations by me that would\n",
      "But every up pale can bale part, whose guilty hands. Buy, as I will full of idle wings:\n",
      "Commend me not a king!\n",
      "\n",
      "ANGELO:\n",
      "Nay, come, gentlemen, alone.\n",
      "Thou shouldst slisy, and leave up this joy\n",
      "How the lady side? by my Pairehel! know 'tis a news\n",
      "Of malice himself a traitor, when the her\n",
      "enemy, and arrops against it?\n",
      "\n",
      "GLOUCESTER:\n",
      "\n",
      "CAMILLO:\n",
      "Nay, for either were in sproad,\n",
      "To God as Elgianso substy are mind\n",
      "When thou still'st of this world observite.\n",
      "\n",
      "SICINIUS:\n",
      "The ground makes Marig Hurdsmand, what man thinks,\n",
      "Nor her and leave as fresh worthy friend,\n",
      "My hope they made o'erwish'd your heart\n",
      "That that we revenging 'twixt up?\n",
      "\n",
      "GLOUCESTER:\n",
      "\n",
      "LADY CAPULET:\n",
      "Ay, many gays Surripor: mere's son and wounded so?\n",
      "\n",
      "BUCKINGHAM:\n",
      "Thou pleasure in his one: fair queen of my sovereign?\n",
      "\n",
      "Pars: what you will be well?\n",
      "We must be a most glory, being a man, and leave the\n",
      "time wronghation, and the pursuing lies?\n",
      "Here horse: but what I am supply thee to king,\n",
      "Of all at Glease.\n",
      "\n",
      "AUFIDIUS:\n",
      "Why, sir? where is this?\n",
      "\n",
      "QUEEN MARGARET:\n",
      "As 'twink'd with fearful tongue.\n",
      "\n",
      "SICINIUS:\n",
      "Very semm a cut as misbed;\n",
      "the doubt of love Is yours and wailot did bear us well,\n",
      "Which offendue,\n",
      "Myself that will you were better, patience,\n",
      "Provoke it, weep, murty I never fortune\n",
      "\n",
      "DUKE VINCENTIO:\n",
      "The time bay spoils appearer:\n",
      "Is a thought I do hate his colour ours,\n",
      "If he had rather of a CQUENEN:\n",
      "No other harm of Clarence, to rorchall naws on\n",
      "When he die, eag burnt Paulinabe, and soul their loved with my brother s pe.\n",
      "\n",
      "OXFORD:\n",
      "Go, sit, more gow now again! farewell, like to pay as hither and\n",
      "one bloodge from me aloose my secord,\n",
      "And I know to be a great grubting. Hark! why, then?\n",
      "He is, who should she war in this officer.\n",
      "\n",
      "MENENIUS:\n",
      "Let more than I clookly as if thou livest's;\n",
      "And I was been a man is pity; and were as le\n",
      "Served up in hot? any a grey attendants,\n",
      "As if the burncher with mouths, or sill: thou crapes\n",
      "'Moughatidy and foul wrongs,\n",
      "Ere ne'er been dread.\n",
      "\n",
      "VALERIA:\n",
      "But methinks.\n",
      "\n",
      "Shepherd: where is he?\n",
      "\n",
      "Second Citizen:\n",
      "Let them think of son and flay the violatter\n",
      "That is in such legs and Claudio be,\n",
      "Thine by thy brothers is a slip a discontent.\n",
      "\n",
      "HENRY III:\n",
      "I'll think'd wonders, and on an enemy\n",
      "Doth kiss your breast, and virtuous and predarious,\n",
      "The good country's to die withs is newbroke\n",
      "Divome angry ballading, to till I\n",
      "more said, do whose hand\n",
      "selver men my sorrow. And live\n",
      "Good Pad as a world to do, have spoken carliou like palms.\n",
      "Evile their inflyand greatest daughter cursing fire thine men\n",
      "Are come to speak, say who comes.\n",
      "\n",
      "All:\n",
      "And I'll be within his, and leaves the deventure look up in this\n",
      "And hat trouble he us.\n",
      "\n",
      "COMINIUS:\n",
      "It is to sal, and Tarky in hands:\n",
      "As Norfolk, let's much, that are more press'd people\n",
      "Against a nuke, and all her in all profits the town.\n",
      "\n",
      "QUEEN MARGARET:\n",
      "I ad a slue-denger to the faithful: must mine with child and hanging.\n",
      "\n",
      "MENENIUS:\n",
      "Nay, let's!\n",
      "O delight hostulate found them awey and hopsing.\n",
      "\n",
      "SICINIUS:\n",
      "Be joy'd faced. Look of my pleasure.\n",
      "\n",
      "LEONTES:\n",
      "I said, and that, withul shame?\n",
      "They have:\n",
      "And what would thou the ins will die: on the\n",
      "suspect, what fam as thy hand,\n",
      "But thought\n",
      "A pensove blood at Satisfall!\n",
      "\n",
      "OXFORD:\n",
      "Take that Warwick, to worth me with im:\n",
      "My protheit day,\n",
      "To choose a parally account to me,\n",
      "And I that miserable, at an envy of greatings,\n",
      "Why, all usuaress.\n",
      "\n",
      "ROMEO:\n",
      "It is a gail than Rame I said.\n",
      "\n",
      "QUEEN MARGARET:\n",
      "But you apparel and the dedend impetite\n",
      "IS, if we may ne'er swotned against ize of away.\n",
      "\n",
      "LIONTES:\n",
      "Grace cousin, but I d call a\n",
      "raze and grantful: rather that our friends are noble Montague,\n",
      "So soon the provost, and a man Warwick rank;\n",
      "now by the king on things and propheties.\n",
      "\n",
      "ASCIAN:\n",
      "We can now ad unlawful souls, and hope to kill?\n",
      "\n",
      "LADY CAPULET:\n",
      "Why, then thou art a\n",
      "worthys? strew thy heart,\n",
      "Therefore and Clarence do at good sit and\n",
      "the sea-cive at least;\n",
      "But whetholy Harry, an a great keeping of the\n",
      "dozen of their e,\n",
      "And by hang pass of special, hurt mine inoun\n",
      "They are past apace:' and bountle agest nor sun\n",
      "And brave her on the presence of my legst to bed,\n",
      "And thou the king was now to sit; is it now his son he says,\n",
      "That any hand of consulling part, as he,\n",
      "Was well fought was full of something earth,\n",
      "Whose should desprising ir good upon my stay,\n",
      "Pulse queen, go with sweet sons, if I\n",
      "lent so music,\n",
      "Unleose pups to kill the reason\n",
      "Revenge on this fall upon Richmond,\n",
      "For 'twixt your rank nature but never queen,\n",
      "To make the night clareforted her, calls unwillingly\n",
      "And being one of the ill-warned vints to his pardon!\n",
      "This is her masters: would enter holy faith.\n",
      "Be said I would be with him.\n",
      "Is this hand match'd to Gloucester, your murders\n",
      "Whose vouces are breast.\n",
      "\n",
      "HENRY BOLINGBROKE:\n",
      "Ay, but that the dekers be hatting then between us in ore a followers mouse.'\n",
      "\n",
      "MENENIUS:\n",
      "What man you say how well too,\n",
      "Who oar'd and valoud to cross's thee!\n",
      "\n",
      "ANGELO:\n",
      "Could say where is my Jove.\n",
      "\n",
      "ANGELO:\n",
      "Yet like corsort Walting.\n",
      "Nay, what tale itrue for you,\n",
      "That would have his subject'd with that madam:\n",
      "His warping to the anciand Of wieds.\n",
      "\n",
      "KING EDWARD IV:\n",
      "O plain lag, where be the honour\n",
      "Whom I had cannot curn it were coming king\n",
      "Farewell gold, and this new happy desires\n",
      "set upon a man may be in ode and tears and roots:\n",
      "To punitunall pity of a lords:\n",
      "Be King that so many women.\n",
      "\n",
      "CORIOLANUS:\n",
      "A wars, so here more\n",
      "Than that Calubal or apt her when thy blood such unished:\n",
      "Shall we are a man born. Hark-thou post in question lie, and every puild\n",
      "You have a sull.\n",
      "\n",
      "KING RICHARD III:\n",
      "My gracious lord, is ever I wonged the sunisher,\n",
      "But that I have forgiveness and thus then,\n",
      "and to suffle in this. But are conviced:\n",
      "Be potit impoutch'd with Lovel, but to me to know how I had lived in what gracious bawd!\n",
      "\n",
      "QUEEN MARGARET:\n",
      "Fie, fie! fie is put at thy brother Madam,\n",
      "And efter up to sovereign of carty of being mine add\n",
      "the effection of the rabels shalt begr broken'd,\n",
      "You have capt of life, beike thou wert us in a worse than thorsworn of young marks,\n",
      "That Antent will bring you in queen's stones. Nay,\n",
      "court but do it not: but you are old knick, nor I found\n",
      "\n",
      "GLOUCESTER:\n",
      "Welcome, sir; and that is safety would tell her beauty are younty.\n",
      "\n",
      "ANGELO:\n",
      "Peep, my soul within my wife the wife where cames to be the yoker\n",
      "floces back at very sake.\n",
      "\n",
      "DUKE VINCENTIO:\n",
      "I'll dely not they argument ere new in thee again.\n",
      "\n",
      "LADY CAPULET:\n",
      "We will, for never may be a care gutts upon this, I\n",
      "Pry with him! He has last love\n",
      "O, place into my demanted but\n",
      "torn.\n",
      "\n",
      "LORD FITZWATER:\n",
      "Greasons to be home: boint away on; 'tis\n",
      "next to this love, and like a divine.\n",
      "\n",
      "LEONTES:\n",
      "And gaze it impose? dan! were it knowledge for your grace.\n",
      "\n",
      "CAMPLIOL:\n",
      "Neighing awhy-d so? Nextom seen,\n",
      "And 'twere pardonn'd us all agosts;\n",
      "If this he traitors had been in goodness?\n",
      "This is the tribunes of you to you\n",
      "Shall not now, go by that palter.\n",
      "\n",
      "KING RICHARD III:\n",
      "The same brands rain from off me in mine.\n",
      "\n",
      "LORD ROSS:\n",
      "Say this is to's well: haply is't you go and all praying of them,\n",
      "Have provided the nemead of age can\n",
      "make coop't like a party or his power: your sights with thy bace;\n",
      "And, were I are got gallant a parbos.\n",
      "\n",
      "DUKE VINCENTIO:\n",
      "Come, cousid, besides, forch?\n",
      "\n",
      "SLY:\n",
      "Richard! Come, Warwick, provide we fly,\n",
      "Since reford the uncle Blunt, fail, dishonour may\n",
      "When he would tell you so.\n",
      "\n",
      "TRANIO:\n",
      "\n",
      "SAMP:\n",
      "Of purgosion, as you bort is near.\n",
      "\n",
      "ISABELLA:\n",
      "O, ha' every colourt; to good, but by mome water.\n",
      "\n",
      "HORTENSIO:\n",
      "Give me this, then lack mouth askarve the hardent prosperous were.\n",
      "\n",
      "MENENIUS:\n",
      "I' thy high? why, I'll weeks feel inever breathes\n",
      "To whose kisses foolish's sore Gloucester, the\n",
      "Lord Garbon me with such a samily of;\n",
      "Until thou shalt way.\n",
      "\n",
      "PETRUCHIO:\n",
      "Perputuoan thou art this sword and cherish'd lack:\n",
      "Nor never appthy mark in a crown, sir.\n",
      "\n",
      "BENVOLIO:\n",
      "Tut, they do no:\n",
      "What news I will never maid atspectionly\n",
      "Are leaves the rude prove an in a stranger and mine own indeed.\n",
      "\n",
      "QUEEN MARGARET:\n",
      "A foe of conscience, were he good say we have spoke a penitent.\n",
      "\n",
      "CLIFFORD:\n",
      "Why, you grow'ary to him.\n",
      "\n",
      "DUKE VINCENTIO:\n",
      "We would tell me when thy tarrels ones.\n",
      "\n",
      "DUKE VINCENTIO:\n",
      "We were full o'er-reverence of the door.\n",
      "\n",
      "HORTENSIO:\n",
      "Why, thou art desyer in me:\n",
      "Signior Lafes, as thoo Polsep and a wonder down.\n",
      "\n",
      "KING HENRY VI:\n",
      "Why call, what makes me no parage:\n",
      "The devil't promise of their helmed of this.\n",
      "Hark ye no blow, what fall'n us elsewhating,\n",
      "Sweet slues, and tell it offront now.\n",
      "\n",
      "GREMIO:\n",
      "I have shook on thy wives, and terridle the deep,\n",
      "And kiss my man's lasber: Rumes thou art be so be sounding;\n",
      "And now thou shalt be thine. You hear?\n",
      "\n",
      "CORIOLANUS:\n",
      "I warrant her shipp'd;\n",
      "And thou so high, mill intill it with full were yours.\n",
      "Nay, not a gallant sun.\n",
      "\n",
      "KING EDWARD IV:\n",
      "Wro, voul your grace man give to love in Rome are alters\n",
      "deny men clush, I warrant fell little manifes:\n",
      "The lamb, a better pains as took the morning's all;\n",
      "And this we devised; some other, to be serve\n",
      "To guess, till a bit of wall's marriest.\n",
      "\n",
      "LEONTES:\n",
      "Thou husbands nor think unto me,\n",
      "Take unto my master, poor hire! the heavy heart the block,\n",
      "Which eled you hence within him; always all. But boy, to mectick, which I\n",
      "Natcart belong to slaughter'd away?\n",
      "\n",
      "LORD FIRZZWATHORYOLIZABETH:\n",
      "By good men add out right: who have hope to man\n",
      "Uncame good marck.\n",
      "\n",
      "COMINIUS:\n",
      "Ay, any mouth and Sie, no breasts:\n",
      "Yet that the king doth thank it.\n",
      "\n",
      "YORK:\n",
      "So shore a\n"
     ]
    }
   ],
   "source": [
    "print(gen_text(model,start_string='ROMEO:'))"
   ]
  },
  {
   "cell_type": "code",
   "execution_count": null,
   "id": "4ac4bebc",
   "metadata": {},
   "outputs": [],
   "source": []
  }
 ],
 "metadata": {
  "kernelspec": {
   "display_name": "Python 3 (ipykernel)",
   "language": "python",
   "name": "python3"
  },
  "language_info": {
   "codemirror_mode": {
    "name": "ipython",
    "version": 3
   },
   "file_extension": ".py",
   "mimetype": "text/x-python",
   "name": "python",
   "nbconvert_exporter": "python",
   "pygments_lexer": "ipython3",
   "version": "3.11.5"
  }
 },
 "nbformat": 4,
 "nbformat_minor": 5
}
