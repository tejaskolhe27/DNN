{
 "cells": [
  {
   "cell_type": "markdown",
   "metadata": {
    "id": "Nzc5Ua0-E_mo"
   },
   "source": [
    "---\n",
    "\n",
    "## Assignment 06\n",
    "\n",
    "---\n",
    "\n",
    "**Name:** Atharva Neelesh Tejale\n",
    "\n",
    "**PRN:** 230940128007"
   ]
  },
  {
   "cell_type": "markdown",
   "metadata": {
    "id": "deSnZmVy02pF"
   },
   "source": [
    "\n",
    "\n",
    "\n",
    "### Neural Network with :\n",
    "\n",
    "- **FIFA Dataset**\n",
    "- One hidden layer\n",
    "- **multi-class**\n",
    "- ADAM\n",
    "- Mini Batch\n",
    "- L2 Regularization\n",
    "- ${Swish}$ Activation Function\n"
   ]
  },
  {
   "cell_type": "code",
   "execution_count": null,
   "metadata": {
    "id": "rt0pfyeA02pK"
   },
   "outputs": [],
   "source": [
    "###-----------------\n",
    "### Import Libraries\n",
    "###-----------------\n",
    "\n",
    "import os\n",
    "import numpy as np\n",
    "import pandas as pd\n",
    "import matplotlib.pyplot as plt\n",
    "\n",
    "from collections.abc import Callable\n",
    "from typing import Literal\n",
    "\n",
    "from sklearn import datasets\n",
    "from sklearn.model_selection import train_test_split\n",
    "from sklearn.metrics import accuracy_score, confusion_matrix, classification_report, ConfusionMatrixDisplay\n",
    "from sklearn.preprocessing import StandardScaler\n",
    "\n",
    "%matplotlib inline"
   ]
  },
  {
   "cell_type": "code",
   "execution_count": null,
   "metadata": {
    "id": "__T9cczP02pL"
   },
   "outputs": [],
   "source": [
    "###----------------\n",
    "### Some parameters\n",
    "###----------------\n",
    "\n",
    "inpDir = '../../input'\n",
    "outDir = '../output'\n",
    "subDir = 'fifa_2019'\n",
    "\n",
    "RANDOM_STATE = 24 # REMEMBER: to remove at the time of promotion to production\n",
    "np.random.seed(RANDOM_STATE) # Set Random Seed for reproducible  results\n",
    "\n",
    "EPOCHS = 10001 #number of epochs\n",
    "ALPHA = 0.001 # learning rate\n",
    "NUM_SAMPLES = 1280 # How many samples we want to generate\n",
    "NOISE = 0.2 # Noise to be introduced in the data\n",
    "TEST_SIZE = 0.2\n",
    "LAMBDA=0.001\n",
    "\n",
    "# parameters for Matplotlib\n",
    "params = {'legend.fontsize': 'x-large',\n",
    "          'figure.figsize': (15, 8),\n",
    "          'axes.labelsize': 'x-large',\n",
    "          'axes.titlesize':'x-large',\n",
    "          'xtick.labelsize':'x-large',\n",
    "          'ytick.labelsize':'x-large'\n",
    "         }\n",
    "\n",
    "CMAP = 'coolwarm' # plt.cm.Spectral\n",
    "\n",
    "plt.rcParams.update(params)"
   ]
  },
  {
   "cell_type": "code",
   "execution_count": null,
   "metadata": {
    "id": "LXZ37P4G02pP",
    "outputId": "ec706818-f4c5-4e1e-ef25-fd7125bd2250"
   },
   "outputs": [
    {
     "data": {
      "text/html": [
       "<div>\n",
       "<style scoped>\n",
       "    .dataframe tbody tr th:only-of-type {\n",
       "        vertical-align: middle;\n",
       "    }\n",
       "\n",
       "    .dataframe tbody tr th {\n",
       "        vertical-align: top;\n",
       "    }\n",
       "\n",
       "    .dataframe thead th {\n",
       "        text-align: right;\n",
       "    }\n",
       "</style>\n",
       "<table border=\"1\" class=\"dataframe\">\n",
       "  <thead>\n",
       "    <tr style=\"text-align: right;\">\n",
       "      <th></th>\n",
       "      <th>Unnamed: 0</th>\n",
       "      <th>ID</th>\n",
       "      <th>Name</th>\n",
       "      <th>Age</th>\n",
       "      <th>Photo</th>\n",
       "      <th>Nationality</th>\n",
       "      <th>Flag</th>\n",
       "      <th>Overall</th>\n",
       "      <th>Potential</th>\n",
       "      <th>Club</th>\n",
       "      <th>...</th>\n",
       "      <th>Composure</th>\n",
       "      <th>Marking</th>\n",
       "      <th>StandingTackle</th>\n",
       "      <th>SlidingTackle</th>\n",
       "      <th>GKDiving</th>\n",
       "      <th>GKHandling</th>\n",
       "      <th>GKKicking</th>\n",
       "      <th>GKPositioning</th>\n",
       "      <th>GKReflexes</th>\n",
       "      <th>Release Clause</th>\n",
       "    </tr>\n",
       "  </thead>\n",
       "  <tbody>\n",
       "    <tr>\n",
       "      <th>0</th>\n",
       "      <td>0</td>\n",
       "      <td>158023</td>\n",
       "      <td>L. Messi</td>\n",
       "      <td>31</td>\n",
       "      <td>https://cdn.sofifa.org/players/4/19/158023.png</td>\n",
       "      <td>Argentina</td>\n",
       "      <td>https://cdn.sofifa.org/flags/52.png</td>\n",
       "      <td>94</td>\n",
       "      <td>94</td>\n",
       "      <td>FC Barcelona</td>\n",
       "      <td>...</td>\n",
       "      <td>96.0</td>\n",
       "      <td>33.0</td>\n",
       "      <td>28.0</td>\n",
       "      <td>26.0</td>\n",
       "      <td>6.0</td>\n",
       "      <td>11.0</td>\n",
       "      <td>15.0</td>\n",
       "      <td>14.0</td>\n",
       "      <td>8.0</td>\n",
       "      <td>€226.5M</td>\n",
       "    </tr>\n",
       "    <tr>\n",
       "      <th>1</th>\n",
       "      <td>1</td>\n",
       "      <td>20801</td>\n",
       "      <td>Cristiano Ronaldo</td>\n",
       "      <td>33</td>\n",
       "      <td>https://cdn.sofifa.org/players/4/19/20801.png</td>\n",
       "      <td>Portugal</td>\n",
       "      <td>https://cdn.sofifa.org/flags/38.png</td>\n",
       "      <td>94</td>\n",
       "      <td>94</td>\n",
       "      <td>Juventus</td>\n",
       "      <td>...</td>\n",
       "      <td>95.0</td>\n",
       "      <td>28.0</td>\n",
       "      <td>31.0</td>\n",
       "      <td>23.0</td>\n",
       "      <td>7.0</td>\n",
       "      <td>11.0</td>\n",
       "      <td>15.0</td>\n",
       "      <td>14.0</td>\n",
       "      <td>11.0</td>\n",
       "      <td>€127.1M</td>\n",
       "    </tr>\n",
       "    <tr>\n",
       "      <th>2</th>\n",
       "      <td>2</td>\n",
       "      <td>190871</td>\n",
       "      <td>Neymar Jr</td>\n",
       "      <td>26</td>\n",
       "      <td>https://cdn.sofifa.org/players/4/19/190871.png</td>\n",
       "      <td>Brazil</td>\n",
       "      <td>https://cdn.sofifa.org/flags/54.png</td>\n",
       "      <td>92</td>\n",
       "      <td>93</td>\n",
       "      <td>Paris Saint-Germain</td>\n",
       "      <td>...</td>\n",
       "      <td>94.0</td>\n",
       "      <td>27.0</td>\n",
       "      <td>24.0</td>\n",
       "      <td>33.0</td>\n",
       "      <td>9.0</td>\n",
       "      <td>9.0</td>\n",
       "      <td>15.0</td>\n",
       "      <td>15.0</td>\n",
       "      <td>11.0</td>\n",
       "      <td>€228.1M</td>\n",
       "    </tr>\n",
       "    <tr>\n",
       "      <th>3</th>\n",
       "      <td>3</td>\n",
       "      <td>193080</td>\n",
       "      <td>De Gea</td>\n",
       "      <td>27</td>\n",
       "      <td>https://cdn.sofifa.org/players/4/19/193080.png</td>\n",
       "      <td>Spain</td>\n",
       "      <td>https://cdn.sofifa.org/flags/45.png</td>\n",
       "      <td>91</td>\n",
       "      <td>93</td>\n",
       "      <td>Manchester United</td>\n",
       "      <td>...</td>\n",
       "      <td>68.0</td>\n",
       "      <td>15.0</td>\n",
       "      <td>21.0</td>\n",
       "      <td>13.0</td>\n",
       "      <td>90.0</td>\n",
       "      <td>85.0</td>\n",
       "      <td>87.0</td>\n",
       "      <td>88.0</td>\n",
       "      <td>94.0</td>\n",
       "      <td>€138.6M</td>\n",
       "    </tr>\n",
       "    <tr>\n",
       "      <th>4</th>\n",
       "      <td>4</td>\n",
       "      <td>192985</td>\n",
       "      <td>K. De Bruyne</td>\n",
       "      <td>27</td>\n",
       "      <td>https://cdn.sofifa.org/players/4/19/192985.png</td>\n",
       "      <td>Belgium</td>\n",
       "      <td>https://cdn.sofifa.org/flags/7.png</td>\n",
       "      <td>91</td>\n",
       "      <td>92</td>\n",
       "      <td>Manchester City</td>\n",
       "      <td>...</td>\n",
       "      <td>88.0</td>\n",
       "      <td>68.0</td>\n",
       "      <td>58.0</td>\n",
       "      <td>51.0</td>\n",
       "      <td>15.0</td>\n",
       "      <td>13.0</td>\n",
       "      <td>5.0</td>\n",
       "      <td>10.0</td>\n",
       "      <td>13.0</td>\n",
       "      <td>€196.4M</td>\n",
       "    </tr>\n",
       "  </tbody>\n",
       "</table>\n",
       "<p>5 rows × 89 columns</p>\n",
       "</div>"
      ],
      "text/plain": [
       "   Unnamed: 0      ID               Name  Age  \\\n",
       "0           0  158023           L. Messi   31   \n",
       "1           1   20801  Cristiano Ronaldo   33   \n",
       "2           2  190871          Neymar Jr   26   \n",
       "3           3  193080             De Gea   27   \n",
       "4           4  192985       K. De Bruyne   27   \n",
       "\n",
       "                                            Photo Nationality  \\\n",
       "0  https://cdn.sofifa.org/players/4/19/158023.png   Argentina   \n",
       "1   https://cdn.sofifa.org/players/4/19/20801.png    Portugal   \n",
       "2  https://cdn.sofifa.org/players/4/19/190871.png      Brazil   \n",
       "3  https://cdn.sofifa.org/players/4/19/193080.png       Spain   \n",
       "4  https://cdn.sofifa.org/players/4/19/192985.png     Belgium   \n",
       "\n",
       "                                  Flag  Overall  Potential  \\\n",
       "0  https://cdn.sofifa.org/flags/52.png       94         94   \n",
       "1  https://cdn.sofifa.org/flags/38.png       94         94   \n",
       "2  https://cdn.sofifa.org/flags/54.png       92         93   \n",
       "3  https://cdn.sofifa.org/flags/45.png       91         93   \n",
       "4   https://cdn.sofifa.org/flags/7.png       91         92   \n",
       "\n",
       "                  Club  ... Composure Marking StandingTackle  SlidingTackle  \\\n",
       "0         FC Barcelona  ...      96.0    33.0           28.0           26.0   \n",
       "1             Juventus  ...      95.0    28.0           31.0           23.0   \n",
       "2  Paris Saint-Germain  ...      94.0    27.0           24.0           33.0   \n",
       "3    Manchester United  ...      68.0    15.0           21.0           13.0   \n",
       "4      Manchester City  ...      88.0    68.0           58.0           51.0   \n",
       "\n",
       "  GKDiving  GKHandling  GKKicking  GKPositioning GKReflexes Release Clause  \n",
       "0      6.0        11.0       15.0           14.0        8.0        €226.5M  \n",
       "1      7.0        11.0       15.0           14.0       11.0        €127.1M  \n",
       "2      9.0         9.0       15.0           15.0       11.0        €228.1M  \n",
       "3     90.0        85.0       87.0           88.0       94.0        €138.6M  \n",
       "4     15.0        13.0        5.0           10.0       13.0        €196.4M  \n",
       "\n",
       "[5 rows x 89 columns]"
      ]
     },
     "execution_count": 3,
     "metadata": {},
     "output_type": "execute_result"
    }
   ],
   "source": [
    "data_df = pd.read_csv('fifa_2019.csv')\n",
    "data_df.head()"
   ]
  },
  {
   "cell_type": "code",
   "execution_count": null,
   "metadata": {
    "id": "PD5vFuyzE_mv",
    "outputId": "3a931ea4-adbe-4feb-f8e5-f341d6a00836"
   },
   "outputs": [
    {
     "data": {
      "text/plain": [
       "Unnamed: 0           0\n",
       "ID                   0\n",
       "Name                 0\n",
       "Age                  0\n",
       "Photo                0\n",
       "                  ... \n",
       "GKHandling          48\n",
       "GKKicking           48\n",
       "GKPositioning       48\n",
       "GKReflexes          48\n",
       "Release Clause    1564\n",
       "Length: 89, dtype: int64"
      ]
     },
     "execution_count": 5,
     "metadata": {},
     "output_type": "execute_result"
    }
   ],
   "source": [
    "data_df.isnull().sum()"
   ]
  },
  {
   "cell_type": "code",
   "execution_count": null,
   "metadata": {
    "id": "hbtksjPbE_mv",
    "outputId": "a5347963-28a1-480d-99f8-e10262fd07bf"
   },
   "outputs": [
    {
     "data": {
      "text/plain": [
       "(18147, 89)"
      ]
     },
     "execution_count": 6,
     "metadata": {},
     "output_type": "execute_result"
    }
   ],
   "source": [
    "data_df = data_df [data_df['Position'].notnull()]\n",
    "data_df.shape"
   ]
  },
  {
   "cell_type": "code",
   "execution_count": null,
   "metadata": {
    "id": "sFQEu1RLE_mv",
    "outputId": "2edaed3d-96e7-4e8a-c1b1-b0dd15f59458"
   },
   "outputs": [
    {
     "data": {
      "text/plain": [
       "Index(['Unnamed: 0', 'ID', 'Name', 'Age', 'Photo', 'Nationality', 'Flag',\n",
       "       'Overall', 'Potential', 'Club', 'Club Logo', 'Value', 'Wage', 'Special',\n",
       "       'Preferred Foot', 'International Reputation', 'Weak Foot',\n",
       "       'Skill Moves', 'Work Rate', 'Body Type', 'Real Face', 'Position',\n",
       "       'Jersey Number', 'Joined', 'Loaned From', 'Contract Valid Until',\n",
       "       'Height', 'Weight', 'LS', 'ST', 'RS', 'LW', 'LF', 'CF', 'RF', 'RW',\n",
       "       'LAM', 'CAM', 'RAM', 'LM', 'LCM', 'CM', 'RCM', 'RM', 'LWB', 'LDM',\n",
       "       'CDM', 'RDM', 'RWB', 'LB', 'LCB', 'CB', 'RCB', 'RB', 'Crossing',\n",
       "       'Finishing', 'HeadingAccuracy', 'ShortPassing', 'Volleys', 'Dribbling',\n",
       "       'Curve', 'FKAccuracy', 'LongPassing', 'BallControl', 'Acceleration',\n",
       "       'SprintSpeed', 'Agility', 'Reactions', 'Balance', 'ShotPower',\n",
       "       'Jumping', 'Stamina', 'Strength', 'LongShots', 'Aggression',\n",
       "       'Interceptions', 'Positioning', 'Vision', 'Penalties', 'Composure',\n",
       "       'Marking', 'StandingTackle', 'SlidingTackle', 'GKDiving', 'GKHandling',\n",
       "       'GKKicking', 'GKPositioning', 'GKReflexes', 'Release Clause'],\n",
       "      dtype='object')"
      ]
     },
     "execution_count": 7,
     "metadata": {},
     "output_type": "execute_result"
    }
   ],
   "source": [
    "data_df.columns"
   ]
  },
  {
   "cell_type": "code",
   "execution_count": null,
   "metadata": {
    "id": "Ac2nvI5JE_mw",
    "outputId": "204aab1e-7c80-42df-cb53-7f4ccdeaf18e"
   },
   "outputs": [
    {
     "data": {
      "text/plain": [
       "\"['Name', 'Age', 'Photo', 'Nationality', 'Flag',\\n       'Overall', 'Potential', 'Club', 'Club Logo', 'Value', 'Wage', 'Special',\\n       'Preferred Foot', 'International Reputation', 'Weak Foot',\\n       'Skill Moves', 'Work Rate', 'Body Type', 'Real Face', ,\\n       'Jersey Number', 'Joined', 'Loaned From', 'Contract Valid Until',\\n       'Height', 'Weight', 'LS', 'ST', 'RS', 'LW', 'LF', 'CF', 'RF', 'RW',\\n       'LAM', 'CAM', 'RAM', 'LM', 'LCM', 'CM', 'RCM', 'RM', 'LWB', 'LDM',\\n       'CDM', 'RDM', 'RWB', 'LB', 'LCB', 'CB', 'RCB', 'RB', 'Crossing',\\n       , ,  'Release Clause']\""
      ]
     },
     "execution_count": 8,
     "metadata": {},
     "output_type": "execute_result"
    }
   ],
   "source": [
    "rel_columns = ['Position','Finishing',  'HeadingAccuracy', 'ShortPassing', 'Volleys', 'Dribbling',\n",
    "       'Curve', 'FKAccuracy', 'LongPassing', 'BallControl', 'Acceleration',\n",
    "       'SprintSpeed', 'Agility', 'Reactions', 'Balance', 'ShotPower',\n",
    "       'Jumping', 'Stamina', 'Strength', 'LongShots', 'Aggression',\n",
    "       'Interceptions', 'Positioning', 'Vision', 'Penalties', 'Composure',\n",
    "       'Marking', 'StandingTackle', 'SlidingTackle', 'GKDiving', 'GKHandling',\n",
    "       'GKKicking', 'GKPositioning', 'GKReflexes']\n",
    "\n",
    "\"\"\"['Name', 'Age', 'Photo', 'Nationality', 'Flag',\n",
    "       'Overall', 'Potential', 'Club', 'Club Logo', 'Value', 'Wage', 'Special',\n",
    "       'Preferred Foot', 'International Reputation', 'Weak Foot',\n",
    "       'Skill Moves', 'Work Rate', 'Body Type', 'Real Face', ,\n",
    "       'Jersey Number', 'Joined', 'Loaned From', 'Contract Valid Until',\n",
    "       'Height', 'Weight', 'LS', 'ST', 'RS', 'LW', 'LF', 'CF', 'RF', 'RW',\n",
    "       'LAM', 'CAM', 'RAM', 'LM', 'LCM', 'CM', 'RCM', 'RM', 'LWB', 'LDM',\n",
    "       'CDM', 'RDM', 'RWB', 'LB', 'LCB', 'CB', 'RCB', 'RB', 'Crossing',\n",
    "       , ,  'Release Clause']\"\"\""
   ]
  },
  {
   "cell_type": "code",
   "execution_count": null,
   "metadata": {
    "id": "27tQZt10E_mx",
    "outputId": "7ce90f35-0190-4eb6-80ee-374257a9dd85"
   },
   "outputs": [
    {
     "data": {
      "text/html": [
       "<div>\n",
       "<style scoped>\n",
       "    .dataframe tbody tr th:only-of-type {\n",
       "        vertical-align: middle;\n",
       "    }\n",
       "\n",
       "    .dataframe tbody tr th {\n",
       "        vertical-align: top;\n",
       "    }\n",
       "\n",
       "    .dataframe thead th {\n",
       "        text-align: right;\n",
       "    }\n",
       "</style>\n",
       "<table border=\"1\" class=\"dataframe\">\n",
       "  <thead>\n",
       "    <tr style=\"text-align: right;\">\n",
       "      <th></th>\n",
       "      <th>Position</th>\n",
       "      <th>Finishing</th>\n",
       "      <th>HeadingAccuracy</th>\n",
       "      <th>ShortPassing</th>\n",
       "      <th>Volleys</th>\n",
       "      <th>Dribbling</th>\n",
       "      <th>Curve</th>\n",
       "      <th>FKAccuracy</th>\n",
       "      <th>LongPassing</th>\n",
       "      <th>BallControl</th>\n",
       "      <th>...</th>\n",
       "      <th>Penalties</th>\n",
       "      <th>Composure</th>\n",
       "      <th>Marking</th>\n",
       "      <th>StandingTackle</th>\n",
       "      <th>SlidingTackle</th>\n",
       "      <th>GKDiving</th>\n",
       "      <th>GKHandling</th>\n",
       "      <th>GKKicking</th>\n",
       "      <th>GKPositioning</th>\n",
       "      <th>GKReflexes</th>\n",
       "    </tr>\n",
       "  </thead>\n",
       "  <tbody>\n",
       "    <tr>\n",
       "      <th>0</th>\n",
       "      <td>RF</td>\n",
       "      <td>95.0</td>\n",
       "      <td>70.0</td>\n",
       "      <td>90.0</td>\n",
       "      <td>86.0</td>\n",
       "      <td>97.0</td>\n",
       "      <td>93.0</td>\n",
       "      <td>94.0</td>\n",
       "      <td>87.0</td>\n",
       "      <td>96.0</td>\n",
       "      <td>...</td>\n",
       "      <td>75.0</td>\n",
       "      <td>96.0</td>\n",
       "      <td>33.0</td>\n",
       "      <td>28.0</td>\n",
       "      <td>26.0</td>\n",
       "      <td>6.0</td>\n",
       "      <td>11.0</td>\n",
       "      <td>15.0</td>\n",
       "      <td>14.0</td>\n",
       "      <td>8.0</td>\n",
       "    </tr>\n",
       "    <tr>\n",
       "      <th>1</th>\n",
       "      <td>ST</td>\n",
       "      <td>94.0</td>\n",
       "      <td>89.0</td>\n",
       "      <td>81.0</td>\n",
       "      <td>87.0</td>\n",
       "      <td>88.0</td>\n",
       "      <td>81.0</td>\n",
       "      <td>76.0</td>\n",
       "      <td>77.0</td>\n",
       "      <td>94.0</td>\n",
       "      <td>...</td>\n",
       "      <td>85.0</td>\n",
       "      <td>95.0</td>\n",
       "      <td>28.0</td>\n",
       "      <td>31.0</td>\n",
       "      <td>23.0</td>\n",
       "      <td>7.0</td>\n",
       "      <td>11.0</td>\n",
       "      <td>15.0</td>\n",
       "      <td>14.0</td>\n",
       "      <td>11.0</td>\n",
       "    </tr>\n",
       "    <tr>\n",
       "      <th>2</th>\n",
       "      <td>LW</td>\n",
       "      <td>87.0</td>\n",
       "      <td>62.0</td>\n",
       "      <td>84.0</td>\n",
       "      <td>84.0</td>\n",
       "      <td>96.0</td>\n",
       "      <td>88.0</td>\n",
       "      <td>87.0</td>\n",
       "      <td>78.0</td>\n",
       "      <td>95.0</td>\n",
       "      <td>...</td>\n",
       "      <td>81.0</td>\n",
       "      <td>94.0</td>\n",
       "      <td>27.0</td>\n",
       "      <td>24.0</td>\n",
       "      <td>33.0</td>\n",
       "      <td>9.0</td>\n",
       "      <td>9.0</td>\n",
       "      <td>15.0</td>\n",
       "      <td>15.0</td>\n",
       "      <td>11.0</td>\n",
       "    </tr>\n",
       "    <tr>\n",
       "      <th>3</th>\n",
       "      <td>GK</td>\n",
       "      <td>13.0</td>\n",
       "      <td>21.0</td>\n",
       "      <td>50.0</td>\n",
       "      <td>13.0</td>\n",
       "      <td>18.0</td>\n",
       "      <td>21.0</td>\n",
       "      <td>19.0</td>\n",
       "      <td>51.0</td>\n",
       "      <td>42.0</td>\n",
       "      <td>...</td>\n",
       "      <td>40.0</td>\n",
       "      <td>68.0</td>\n",
       "      <td>15.0</td>\n",
       "      <td>21.0</td>\n",
       "      <td>13.0</td>\n",
       "      <td>90.0</td>\n",
       "      <td>85.0</td>\n",
       "      <td>87.0</td>\n",
       "      <td>88.0</td>\n",
       "      <td>94.0</td>\n",
       "    </tr>\n",
       "    <tr>\n",
       "      <th>4</th>\n",
       "      <td>RCM</td>\n",
       "      <td>82.0</td>\n",
       "      <td>55.0</td>\n",
       "      <td>92.0</td>\n",
       "      <td>82.0</td>\n",
       "      <td>86.0</td>\n",
       "      <td>85.0</td>\n",
       "      <td>83.0</td>\n",
       "      <td>91.0</td>\n",
       "      <td>91.0</td>\n",
       "      <td>...</td>\n",
       "      <td>79.0</td>\n",
       "      <td>88.0</td>\n",
       "      <td>68.0</td>\n",
       "      <td>58.0</td>\n",
       "      <td>51.0</td>\n",
       "      <td>15.0</td>\n",
       "      <td>13.0</td>\n",
       "      <td>5.0</td>\n",
       "      <td>10.0</td>\n",
       "      <td>13.0</td>\n",
       "    </tr>\n",
       "  </tbody>\n",
       "</table>\n",
       "<p>5 rows × 34 columns</p>\n",
       "</div>"
      ],
      "text/plain": [
       "  Position  Finishing  HeadingAccuracy  ShortPassing  Volleys  Dribbling  \\\n",
       "0       RF       95.0             70.0          90.0     86.0       97.0   \n",
       "1       ST       94.0             89.0          81.0     87.0       88.0   \n",
       "2       LW       87.0             62.0          84.0     84.0       96.0   \n",
       "3       GK       13.0             21.0          50.0     13.0       18.0   \n",
       "4      RCM       82.0             55.0          92.0     82.0       86.0   \n",
       "\n",
       "   Curve  FKAccuracy  LongPassing  BallControl  ...  Penalties  Composure  \\\n",
       "0   93.0        94.0         87.0         96.0  ...       75.0       96.0   \n",
       "1   81.0        76.0         77.0         94.0  ...       85.0       95.0   \n",
       "2   88.0        87.0         78.0         95.0  ...       81.0       94.0   \n",
       "3   21.0        19.0         51.0         42.0  ...       40.0       68.0   \n",
       "4   85.0        83.0         91.0         91.0  ...       79.0       88.0   \n",
       "\n",
       "   Marking  StandingTackle  SlidingTackle  GKDiving  GKHandling  GKKicking  \\\n",
       "0     33.0            28.0           26.0       6.0        11.0       15.0   \n",
       "1     28.0            31.0           23.0       7.0        11.0       15.0   \n",
       "2     27.0            24.0           33.0       9.0         9.0       15.0   \n",
       "3     15.0            21.0           13.0      90.0        85.0       87.0   \n",
       "4     68.0            58.0           51.0      15.0        13.0        5.0   \n",
       "\n",
       "   GKPositioning  GKReflexes  \n",
       "0           14.0         8.0  \n",
       "1           14.0        11.0  \n",
       "2           15.0        11.0  \n",
       "3           88.0        94.0  \n",
       "4           10.0        13.0  \n",
       "\n",
       "[5 rows x 34 columns]"
      ]
     },
     "execution_count": 9,
     "metadata": {},
     "output_type": "execute_result"
    }
   ],
   "source": [
    "data_df = data_df[rel_columns]\n",
    "data_df.head()"
   ]
  },
  {
   "cell_type": "code",
   "execution_count": null,
   "metadata": {
    "id": "WFF1vIuoE_mz",
    "outputId": "5598a338-a1cb-4af3-e5bf-a0a009352164"
   },
   "outputs": [
    {
     "data": {
      "text/plain": [
       "Position           0\n",
       "Finishing          0\n",
       "HeadingAccuracy    0\n",
       "ShortPassing       0\n",
       "Volleys            0\n",
       "Dribbling          0\n",
       "Curve              0\n",
       "FKAccuracy         0\n",
       "LongPassing        0\n",
       "BallControl        0\n",
       "Acceleration       0\n",
       "SprintSpeed        0\n",
       "Agility            0\n",
       "Reactions          0\n",
       "Balance            0\n",
       "ShotPower          0\n",
       "Jumping            0\n",
       "Stamina            0\n",
       "Strength           0\n",
       "LongShots          0\n",
       "Aggression         0\n",
       "Interceptions      0\n",
       "Positioning        0\n",
       "Vision             0\n",
       "Penalties          0\n",
       "Composure          0\n",
       "Marking            0\n",
       "StandingTackle     0\n",
       "SlidingTackle      0\n",
       "GKDiving           0\n",
       "GKHandling         0\n",
       "GKKicking          0\n",
       "GKPositioning      0\n",
       "GKReflexes         0\n",
       "dtype: int64"
      ]
     },
     "execution_count": 10,
     "metadata": {},
     "output_type": "execute_result"
    }
   ],
   "source": [
    "data_df.isna().sum()"
   ]
  },
  {
   "cell_type": "code",
   "execution_count": null,
   "metadata": {
    "id": "qwYhloTBE_mz",
    "outputId": "c178d66a-dc22-425c-e53b-7d94eadd0845"
   },
   "outputs": [
    {
     "data": {
      "text/plain": [
       "array(['RF', 'ST', 'LW', 'GK', 'RCM', 'LF', 'RS', 'RCB', 'LCM', 'CB',\n",
       "       'LDM', 'CAM', 'CDM', 'LS', 'LCB', 'RM', 'LAM', 'LM', 'LB', 'RDM',\n",
       "       'RW', 'CM', 'RB', 'RAM', 'CF', 'RWB', 'LWB'], dtype=object)"
      ]
     },
     "execution_count": 11,
     "metadata": {},
     "output_type": "execute_result"
    }
   ],
   "source": [
    "data_df.Position.unique()"
   ]
  },
  {
   "cell_type": "code",
   "execution_count": null,
   "metadata": {
    "id": "Kokq02EIE_mz"
   },
   "outputs": [],
   "source": [
    "goalkeeper = 'GK'\n",
    "\n",
    "forward = [ 'ST', 'LW', 'RW', 'LF', 'RF', 'RS', 'LS', 'CF']\n",
    "midfielders = ['CM', 'RCM', 'LCM', 'CDM', 'RDM', 'LDM', 'CAM', 'LAM', 'RAM', 'RM', 'LM']\n",
    "defence = ['CB', 'RCB', 'LCB', 'LWB', 'RWB', 'LB',  'RB']"
   ]
  },
  {
   "cell_type": "code",
   "execution_count": null,
   "metadata": {
    "id": "4DwXsrZcE_mz"
   },
   "outputs": [],
   "source": [
    "data_df.loc[data_df['Position'] == 'GK' ,          'Position'] = 0\n",
    "\n",
    "data_df.loc[data_df['Position'].isin(defence) ,    'Position'] = 1\n",
    "\n",
    "data_df.loc[data_df['Position'].isin(midfielders), 'Position'] = 2\n",
    "\n",
    "data_df.loc[data_df['Position'].isin(forward) ,    'Position'] = 3\n",
    "\n",
    "data_df['Position'] =pd.to_numeric(data_df['Position'], downcast='integer')"
   ]
  },
  {
   "cell_type": "code",
   "execution_count": null,
   "metadata": {
    "id": "pNJu8y-rE_mz",
    "outputId": "b8d54dbe-8315-420b-be6a-604f1f2e3672"
   },
   "outputs": [
    {
     "data": {
      "text/html": [
       "<div>\n",
       "<style scoped>\n",
       "    .dataframe tbody tr th:only-of-type {\n",
       "        vertical-align: middle;\n",
       "    }\n",
       "\n",
       "    .dataframe tbody tr th {\n",
       "        vertical-align: top;\n",
       "    }\n",
       "\n",
       "    .dataframe thead th {\n",
       "        text-align: right;\n",
       "    }\n",
       "</style>\n",
       "<table border=\"1\" class=\"dataframe\">\n",
       "  <thead>\n",
       "    <tr style=\"text-align: right;\">\n",
       "      <th></th>\n",
       "      <th>Position</th>\n",
       "      <th>Finishing</th>\n",
       "      <th>HeadingAccuracy</th>\n",
       "      <th>ShortPassing</th>\n",
       "      <th>Volleys</th>\n",
       "      <th>Dribbling</th>\n",
       "      <th>Curve</th>\n",
       "      <th>FKAccuracy</th>\n",
       "      <th>LongPassing</th>\n",
       "      <th>BallControl</th>\n",
       "      <th>...</th>\n",
       "      <th>Penalties</th>\n",
       "      <th>Composure</th>\n",
       "      <th>Marking</th>\n",
       "      <th>StandingTackle</th>\n",
       "      <th>SlidingTackle</th>\n",
       "      <th>GKDiving</th>\n",
       "      <th>GKHandling</th>\n",
       "      <th>GKKicking</th>\n",
       "      <th>GKPositioning</th>\n",
       "      <th>GKReflexes</th>\n",
       "    </tr>\n",
       "  </thead>\n",
       "  <tbody>\n",
       "    <tr>\n",
       "      <th>0</th>\n",
       "      <td>3</td>\n",
       "      <td>95.0</td>\n",
       "      <td>70.0</td>\n",
       "      <td>90.0</td>\n",
       "      <td>86.0</td>\n",
       "      <td>97.0</td>\n",
       "      <td>93.0</td>\n",
       "      <td>94.0</td>\n",
       "      <td>87.0</td>\n",
       "      <td>96.0</td>\n",
       "      <td>...</td>\n",
       "      <td>75.0</td>\n",
       "      <td>96.0</td>\n",
       "      <td>33.0</td>\n",
       "      <td>28.0</td>\n",
       "      <td>26.0</td>\n",
       "      <td>6.0</td>\n",
       "      <td>11.0</td>\n",
       "      <td>15.0</td>\n",
       "      <td>14.0</td>\n",
       "      <td>8.0</td>\n",
       "    </tr>\n",
       "    <tr>\n",
       "      <th>1</th>\n",
       "      <td>3</td>\n",
       "      <td>94.0</td>\n",
       "      <td>89.0</td>\n",
       "      <td>81.0</td>\n",
       "      <td>87.0</td>\n",
       "      <td>88.0</td>\n",
       "      <td>81.0</td>\n",
       "      <td>76.0</td>\n",
       "      <td>77.0</td>\n",
       "      <td>94.0</td>\n",
       "      <td>...</td>\n",
       "      <td>85.0</td>\n",
       "      <td>95.0</td>\n",
       "      <td>28.0</td>\n",
       "      <td>31.0</td>\n",
       "      <td>23.0</td>\n",
       "      <td>7.0</td>\n",
       "      <td>11.0</td>\n",
       "      <td>15.0</td>\n",
       "      <td>14.0</td>\n",
       "      <td>11.0</td>\n",
       "    </tr>\n",
       "    <tr>\n",
       "      <th>2</th>\n",
       "      <td>3</td>\n",
       "      <td>87.0</td>\n",
       "      <td>62.0</td>\n",
       "      <td>84.0</td>\n",
       "      <td>84.0</td>\n",
       "      <td>96.0</td>\n",
       "      <td>88.0</td>\n",
       "      <td>87.0</td>\n",
       "      <td>78.0</td>\n",
       "      <td>95.0</td>\n",
       "      <td>...</td>\n",
       "      <td>81.0</td>\n",
       "      <td>94.0</td>\n",
       "      <td>27.0</td>\n",
       "      <td>24.0</td>\n",
       "      <td>33.0</td>\n",
       "      <td>9.0</td>\n",
       "      <td>9.0</td>\n",
       "      <td>15.0</td>\n",
       "      <td>15.0</td>\n",
       "      <td>11.0</td>\n",
       "    </tr>\n",
       "    <tr>\n",
       "      <th>3</th>\n",
       "      <td>0</td>\n",
       "      <td>13.0</td>\n",
       "      <td>21.0</td>\n",
       "      <td>50.0</td>\n",
       "      <td>13.0</td>\n",
       "      <td>18.0</td>\n",
       "      <td>21.0</td>\n",
       "      <td>19.0</td>\n",
       "      <td>51.0</td>\n",
       "      <td>42.0</td>\n",
       "      <td>...</td>\n",
       "      <td>40.0</td>\n",
       "      <td>68.0</td>\n",
       "      <td>15.0</td>\n",
       "      <td>21.0</td>\n",
       "      <td>13.0</td>\n",
       "      <td>90.0</td>\n",
       "      <td>85.0</td>\n",
       "      <td>87.0</td>\n",
       "      <td>88.0</td>\n",
       "      <td>94.0</td>\n",
       "    </tr>\n",
       "    <tr>\n",
       "      <th>4</th>\n",
       "      <td>2</td>\n",
       "      <td>82.0</td>\n",
       "      <td>55.0</td>\n",
       "      <td>92.0</td>\n",
       "      <td>82.0</td>\n",
       "      <td>86.0</td>\n",
       "      <td>85.0</td>\n",
       "      <td>83.0</td>\n",
       "      <td>91.0</td>\n",
       "      <td>91.0</td>\n",
       "      <td>...</td>\n",
       "      <td>79.0</td>\n",
       "      <td>88.0</td>\n",
       "      <td>68.0</td>\n",
       "      <td>58.0</td>\n",
       "      <td>51.0</td>\n",
       "      <td>15.0</td>\n",
       "      <td>13.0</td>\n",
       "      <td>5.0</td>\n",
       "      <td>10.0</td>\n",
       "      <td>13.0</td>\n",
       "    </tr>\n",
       "  </tbody>\n",
       "</table>\n",
       "<p>5 rows × 34 columns</p>\n",
       "</div>"
      ],
      "text/plain": [
       "   Position  Finishing  HeadingAccuracy  ShortPassing  Volleys  Dribbling  \\\n",
       "0         3       95.0             70.0          90.0     86.0       97.0   \n",
       "1         3       94.0             89.0          81.0     87.0       88.0   \n",
       "2         3       87.0             62.0          84.0     84.0       96.0   \n",
       "3         0       13.0             21.0          50.0     13.0       18.0   \n",
       "4         2       82.0             55.0          92.0     82.0       86.0   \n",
       "\n",
       "   Curve  FKAccuracy  LongPassing  BallControl  ...  Penalties  Composure  \\\n",
       "0   93.0        94.0         87.0         96.0  ...       75.0       96.0   \n",
       "1   81.0        76.0         77.0         94.0  ...       85.0       95.0   \n",
       "2   88.0        87.0         78.0         95.0  ...       81.0       94.0   \n",
       "3   21.0        19.0         51.0         42.0  ...       40.0       68.0   \n",
       "4   85.0        83.0         91.0         91.0  ...       79.0       88.0   \n",
       "\n",
       "   Marking  StandingTackle  SlidingTackle  GKDiving  GKHandling  GKKicking  \\\n",
       "0     33.0            28.0           26.0       6.0        11.0       15.0   \n",
       "1     28.0            31.0           23.0       7.0        11.0       15.0   \n",
       "2     27.0            24.0           33.0       9.0         9.0       15.0   \n",
       "3     15.0            21.0           13.0      90.0        85.0       87.0   \n",
       "4     68.0            58.0           51.0      15.0        13.0        5.0   \n",
       "\n",
       "   GKPositioning  GKReflexes  \n",
       "0           14.0         8.0  \n",
       "1           14.0        11.0  \n",
       "2           15.0        11.0  \n",
       "3           88.0        94.0  \n",
       "4           10.0        13.0  \n",
       "\n",
       "[5 rows x 34 columns]"
      ]
     },
     "execution_count": 14,
     "metadata": {},
     "output_type": "execute_result"
    }
   ],
   "source": [
    "data_df.head()"
   ]
  },
  {
   "cell_type": "code",
   "execution_count": null,
   "metadata": {
    "id": "TGXOaIxbE_m0",
    "outputId": "6d2b7e49-4f9f-45e1-e785-72ec0f4e0f25"
   },
   "outputs": [
    {
     "data": {
      "text/plain": [
       "array([3, 0, 2, 1], dtype=int8)"
      ]
     },
     "execution_count": 15,
     "metadata": {},
     "output_type": "execute_result"
    }
   ],
   "source": [
    "data_df['Position'].unique()"
   ]
  },
  {
   "cell_type": "code",
   "execution_count": null,
   "metadata": {
    "id": "v8Lq9YYjE_m0"
   },
   "outputs": [],
   "source": [
    "labels = { 0 : 'Goal Keepers', 1: 'Defence', 2: 'Mid-fielders', 3: 'Forward'}"
   ]
  },
  {
   "cell_type": "code",
   "execution_count": null,
   "metadata": {
    "id": "idFWxFJbE_m0",
    "outputId": "8d0b5991-ede9-4cbf-aa3e-8d94d2395fad"
   },
   "outputs": [
    {
     "data": {
      "text/plain": [
       "((18147, 33), (18147,))"
      ]
     },
     "execution_count": 17,
     "metadata": {},
     "output_type": "execute_result"
    }
   ],
   "source": [
    "features_df = data_df.drop('Position', axis = 1) # drop label col\n",
    "\n",
    "label_df = data_df['Position'] # labels\n",
    "\n",
    "features_df.shape, label_df.shape"
   ]
  },
  {
   "cell_type": "code",
   "execution_count": null,
   "metadata": {
    "id": "gbYaT60mE_m0",
    "outputId": "1ad022e4-0bda-41c9-de21-550de411cdf8"
   },
   "outputs": [
    {
     "data": {
      "text/plain": [
       "(18147, 4)"
      ]
     },
     "execution_count": 18,
     "metadata": {},
     "output_type": "execute_result"
    }
   ],
   "source": [
    "label_df = pd.get_dummies(label_df)\n",
    "label_df.shape"
   ]
  },
  {
   "cell_type": "code",
   "execution_count": null,
   "metadata": {
    "id": "lETXVDivE_m0",
    "outputId": "81723fbe-c775-4de9-db72-f24e01c5558c"
   },
   "outputs": [
    {
     "data": {
      "text/html": [
       "<div>\n",
       "<style scoped>\n",
       "    .dataframe tbody tr th:only-of-type {\n",
       "        vertical-align: middle;\n",
       "    }\n",
       "\n",
       "    .dataframe tbody tr th {\n",
       "        vertical-align: top;\n",
       "    }\n",
       "\n",
       "    .dataframe thead th {\n",
       "        text-align: right;\n",
       "    }\n",
       "</style>\n",
       "<table border=\"1\" class=\"dataframe\">\n",
       "  <thead>\n",
       "    <tr style=\"text-align: right;\">\n",
       "      <th></th>\n",
       "      <th>0</th>\n",
       "      <th>1</th>\n",
       "      <th>2</th>\n",
       "      <th>3</th>\n",
       "    </tr>\n",
       "  </thead>\n",
       "  <tbody>\n",
       "    <tr>\n",
       "      <th>0</th>\n",
       "      <td>False</td>\n",
       "      <td>False</td>\n",
       "      <td>False</td>\n",
       "      <td>True</td>\n",
       "    </tr>\n",
       "    <tr>\n",
       "      <th>1</th>\n",
       "      <td>False</td>\n",
       "      <td>False</td>\n",
       "      <td>False</td>\n",
       "      <td>True</td>\n",
       "    </tr>\n",
       "    <tr>\n",
       "      <th>2</th>\n",
       "      <td>False</td>\n",
       "      <td>False</td>\n",
       "      <td>False</td>\n",
       "      <td>True</td>\n",
       "    </tr>\n",
       "    <tr>\n",
       "      <th>3</th>\n",
       "      <td>True</td>\n",
       "      <td>False</td>\n",
       "      <td>False</td>\n",
       "      <td>False</td>\n",
       "    </tr>\n",
       "    <tr>\n",
       "      <th>4</th>\n",
       "      <td>False</td>\n",
       "      <td>False</td>\n",
       "      <td>True</td>\n",
       "      <td>False</td>\n",
       "    </tr>\n",
       "  </tbody>\n",
       "</table>\n",
       "</div>"
      ],
      "text/plain": [
       "       0      1      2      3\n",
       "0  False  False  False   True\n",
       "1  False  False  False   True\n",
       "2  False  False  False   True\n",
       "3   True  False  False  False\n",
       "4  False  False   True  False"
      ]
     },
     "execution_count": 19,
     "metadata": {},
     "output_type": "execute_result"
    }
   ],
   "source": [
    "label_df.head()"
   ]
  },
  {
   "cell_type": "code",
   "execution_count": null,
   "metadata": {
    "id": "DvXCs663E_m0",
    "outputId": "9e032bb4-d6e7-47ed-c73e-ccd8ab812274"
   },
   "outputs": [
    {
     "name": "stdout",
     "output_type": "stream",
     "text": [
      "(14517, 33) (14517, 4) (3630, 33) (3630, 4)\n"
     ]
    }
   ],
   "source": [
    "#  Split the data in training and test sets to measure performance of the model.\n",
    "X_train, X_test, y_train, y_test = train_test_split(features_df, label_df,\n",
    "                                                    stratify=label_df,\n",
    "                                                    test_size=TEST_SIZE,\n",
    "                                                    random_state=RANDOM_STATE )\n",
    "\n",
    "print (X_train.shape, y_train.shape, X_test.shape, y_test.shape)"
   ]
  },
  {
   "cell_type": "code",
   "execution_count": null,
   "metadata": {
    "id": "aFtF2UtVE_m1"
   },
   "outputs": [],
   "source": [
    "scaler = StandardScaler() # get the scaler\n",
    "\n",
    "X_train = scaler.fit_transform(X_train) # train\n",
    "X_test = scaler.transform(X_test) # test\n",
    "\n",
    "y_train = y_train.to_numpy() # array\n",
    "y_test = y_test.to_numpy() # convert to array"
   ]
  },
  {
   "cell_type": "code",
   "execution_count": null,
   "metadata": {
    "id": "rPqdLSHGE_m1",
    "outputId": "5efd74d1-ba19-4664-e064-84a366f356d6"
   },
   "outputs": [
    {
     "data": {
      "text/plain": [
       "array([[False,  True, False, False],\n",
       "       [False, False,  True, False],\n",
       "       [False,  True, False, False],\n",
       "       ...,\n",
       "       [False, False,  True, False],\n",
       "       [False, False, False,  True],\n",
       "       [ True, False, False, False]])"
      ]
     },
     "execution_count": 22,
     "metadata": {},
     "output_type": "execute_result"
    }
   ],
   "source": [
    "y_train"
   ]
  },
  {
   "cell_type": "markdown",
   "metadata": {
    "id": "c7w9j7Yo02pX"
   },
   "source": [
    "## Neural Network\n",
    "\n",
    "Let's start with simple network. Our data has **two** features. Hence size of input layer will also be two. Lets code our output as two classes. The hidden layer could be of **any size**. One need to execute a handful of iterations to arrive at right size of hidden layer. For purpose of today's discussions, size of hidden layer is taken as shown below."
   ]
  },
  {
   "cell_type": "markdown",
   "metadata": {
    "id": "TV2hxN-702pX"
   },
   "source": [
    "We will be using $\\tanh$ function for layer 1 (hidden layer) as it fits in majority of cases and its derivative can simply be represented as 1 -$\\tanh^2(z_1)$. Our output is multi-class. We will change our activation function to $\\text{Softmax}$ from $\\text{Sigmoid}$ in the last layer.\n"
   ]
  },
  {
   "cell_type": "markdown",
   "metadata": {
    "id": "HnyzmhlK02pY"
   },
   "source": [
    "## Activation Functions\n",
    "\n",
    "### Softmax Function\n",
    "\n"
   ]
  },
  {
   "cell_type": "markdown",
   "metadata": {
    "id": "FuqOhD9dLZta"
   },
   "source": [
    "![image.png](data:image/png;base64,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)"
   ]
  },
  {
   "cell_type": "code",
   "execution_count": null,
   "metadata": {
    "id": "I5prCl_I02pZ"
   },
   "outputs": [],
   "source": [
    "def fn_softmax(z : np.ndarray) -> np.ndarray:\n",
    "    '''\n",
    "        Args:\n",
    "           z : array, Aggregated values\n",
    "       Return:\n",
    "           probs. of each class\n",
    "    '''\n",
    "\n",
    "    exp_sc = np.exp(z)\n",
    "\n",
    "    return exp_sc / np.sum( exp_sc, axis = 1, keepdims= True)"
   ]
  },
  {
   "cell_type": "code",
   "execution_count": null,
   "metadata": {
    "colab": {
     "base_uri": "https://localhost:8080/"
    },
    "id": "iB-FU1yD02pa",
    "outputId": "d9bc602a-09be-4642-f0a9-ded12a831850"
   },
   "outputs": [
    {
     "name": "stdout",
     "output_type": "stream",
     "text": [
      "[[9.52269826e-01 4.74107229e-02 3.19450938e-04]\n",
      " [2.06106005e-09 4.53978686e-05 9.99954600e-01]] \n",
      "\n",
      "Total of all values [1. 1.]\n"
     ]
    }
   ],
   "source": [
    "sm = fn_softmax(np.asarray([[8, 5, 0], [-10, 0., 10]]))\n",
    "print (sm, '\\n\\nTotal of all values', sm.sum(axis = 1))"
   ]
  },
  {
   "cell_type": "markdown",
   "metadata": {
    "id": "RvrkEyzLE_m1"
   },
   "source": [
    "### Tanh\n"
   ]
  },
  {
   "cell_type": "markdown",
   "metadata": {
    "id": "tQtn0eOOLeb9"
   },
   "source": [
    "![tanh.png](data:image/png;base64,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)"
   ]
  },
  {
   "cell_type": "code",
   "execution_count": null,
   "metadata": {
    "id": "exufhbJE02pb"
   },
   "outputs": [],
   "source": [
    "def fn_activ(x: np.ndarray)-> np.ndarray:\n",
    "\n",
    "    return np.tanh(x)\n",
    "\n",
    "def fn_activ_prime(x: np.ndarray)-> np.ndarray:\n",
    "\n",
    "    return 1.0 - np.tanh(x)**2"
   ]
  },
  {
   "cell_type": "markdown",
   "metadata": {
    "id": "vGX8zkRMMF2t"
   },
   "source": [
    "## Adam\n",
    "\n",
    "Let t be the iteration step, **α** be the learning rate, **1β1** and  **2β2** be the exponential decay rates for moment estimates, and **ϵ** be a small constant to prevent division by zero.\n",
    "The update rules for the parameters**mt** (first moment estimate) and **vt** (second moment estimate) are as follows:\n",
    "\n",
    "$\n",
    "\\begin{align*}\n",
    "m_t & = \\beta_1 \\cdot m_{t-1} + (1 - \\beta_1) \\cdot g_t\\\\\n",
    "v_t & = \\beta_2 \\cdot v_{t-1} + (1 - \\beta_2) \\cdot g_t^2\\\\\n",
    "\\end{align*}\n",
    "$\n",
    "\n",
    "\n",
    "\n",
    "Here, **gt** is the gradient of the loss with respect to the parameters at time step **t**.\n",
    "The bias-corrected estimates **m_cap_t** and **v_cat_t** are calculated as:\n",
    "\n",
    "$\n",
    "\\begin{align*}\n",
    "\\hat{m}_t & = \\frac{m_t}{1 - \\beta_1^t} \\\\\n",
    "\\hat{v}_t & = \\frac{v_t}{1 - \\beta_2^t} \\\\\n",
    "\\end{align*}\n",
    "$\n",
    "\n",
    "\n",
    "**Finally, the parameters are updated using:**\n",
    "$\n",
    "\\begin{align*}\n",
    "\\theta_t & = \\theta_{t-1} - \\alpha \\cdot \\frac{\\hat{m}_t}{\\sqrt{\\hat{v}_t} + \\epsilon}\n",
    "\\end{align*}\n",
    "$"
   ]
  },
  {
   "cell_type": "code",
   "execution_count": null,
   "metadata": {
    "id": "v439jxqLE_m2"
   },
   "outputs": [],
   "source": [
    "# Implimentation of Adam Optimizer\n",
    "def adam_optimizer(dW,m_t,v_t,t, alpha = ALPHA, beta1=0.9, beta2=0.999, eps=1e-8):\n",
    "\n",
    "    '''\n",
    "    Args:\n",
    "        dW:weight gradient\n",
    "        m_t: first momentum\n",
    "        v_t: second momentum\n",
    "        t: time step,\n",
    "    '''\n",
    "    t+=1\n",
    "    # m(t) = beta1 * m(t-1) + (1 - beta1) * g(t)\n",
    "    m_t = beta1 * m_t + (1.0 - beta1) * dW\n",
    "\n",
    "    # v(t) = beta2 * v(t-1) + (1 - beta2) * g(t)^2\n",
    "    v_t = beta2 * v_t + (1.0 - beta2) * dW**2\n",
    "\n",
    "    # m_cap(t) = m(t) / (1 - beta1(t))\n",
    "    m_cap = m_t / (1.0 - beta1**(t))\n",
    "\n",
    "    # vhat(t) = v(t) / (1 - beta2(t))\n",
    "    v_cap = v_t / (1.0 - beta2**(t))\n",
    "\n",
    "    # theta_0 = theta_0 - ( alpha * m_cap ) / ( np.sqrt( v_cap ) + epsilon )    #updates the parameters\n",
    "    return alpha * m_cap / (np.sqrt(v_cap) + eps)\n"
   ]
  },
  {
   "cell_type": "code",
   "execution_count": null,
   "metadata": {
    "id": "5zlXMoVuE_m2"
   },
   "outputs": [],
   "source": []
  },
  {
   "cell_type": "markdown",
   "metadata": {
    "id": "t0LlxhWX02pe"
   },
   "source": [
    "## Loss Function\n",
    "### Loss function will change for Multiclass\n",
    "\n",
    "We need to minimize the error by adjusting ($Ws, bs$). We call the function that measures our error the <b>loss function</b>. A common choice with the sigmoid output is the cross-entropy loss. The loss for predictions $\\hat{y}$ with respect to the true labels $y$ is given by:\n",
    "\n",
    "$\n",
    "\\begin{aligned}\n",
    "L(\\hat{y_i}, y_i) =  -[y_i.log(\\hat{y_i}) + (1 - y_i) . log(1-\\hat{y_i})]\n",
    "\\end{aligned}\n",
    "$\n",
    "\n",
    "For all samples:\n",
    "\n",
    "$\n",
    "\\begin{aligned}\n",
    "J(\\hat{y}, y) =  -\\frac{1}{m}\\sum_{i=1}^{m}[y_i.log(\\hat{y}_i) + (1-y_i) . log(1-\\hat{y}_i)]\n",
    "\\end{aligned}\n",
    "$\n",
    "\n",
    "\n",
    "We can use gradient descent to find its minimum. For purpose of this Session, let's use it in its simplest form - <b>batch gradient descent with fixed learning rate</b>."
   ]
  },
  {
   "cell_type": "markdown",
   "metadata": {
    "id": "nyCFgmBx02pf"
   },
   "source": [
    "### Loss Function"
   ]
  },
  {
   "cell_type": "code",
   "execution_count": null,
   "metadata": {
    "id": "YcH2EYDw02pf"
   },
   "outputs": [],
   "source": [
    "# function to evaluate the total loss on the dataset\n",
    "\n",
    "def calculate_loss(model : dict, X: np.ndarray, y: np.ndarray) -> np.float64:\n",
    "    '''\n",
    "    Args:\n",
    "        model: dictionay object containing weights and biases\n",
    "        X: Feature Matrix\n",
    "        y: Labels array\n",
    "    Returns:\n",
    "        Average loss\n",
    "    '''\n",
    "\n",
    "    # extract weights and biases from the model\n",
    "    W1, b1, W2, b2 = model['W1'], model['b1'], model['W2'], model['b2']\n",
    "\n",
    "    # number of examples\n",
    "    m = X.shape[0]\n",
    "\n",
    "    # Forward propagation to calculate our predictions\n",
    "    # Layer 1\n",
    "    z1 = X.dot(W1) + b1\n",
    "\n",
    "    # Activation\n",
    "    a1 = fn_activ(z1)\n",
    "\n",
    "    # Layer 2\n",
    "    z2 = a1.dot(W2) + b2\n",
    "\n",
    "    ###############################\n",
    "    ### Changes for multi class ###\n",
    "    ###############################\n",
    "    # Softmax  Activation\n",
    "    a2 = fn_softmax(z2)\n",
    "\n",
    "\n",
    "    # Calculating the loss\n",
    "    data_loss = -(y * np.log(a2) + (1 - y) * np.log(1 - a2)).sum() +(LAMBDA/2.0)*((W1**2).sum()+(W2**2).sum()) #L2 Regularizer\n",
    "\n",
    "    return 1./m * data_loss"
   ]
  },
  {
   "cell_type": "markdown",
   "metadata": {
    "id": "Ts1K_8ry02pg"
   },
   "source": [
    "## Predict Function\n",
    "\n",
    "For predictions, we will simply be using the forward propagation."
   ]
  },
  {
   "cell_type": "code",
   "execution_count": null,
   "metadata": {
    "id": "jKgB1fF002pg"
   },
   "outputs": [],
   "source": [
    "# Helper function to predict an output (0 or 1)\n",
    "\n",
    "def predict(model : dict, X: np.ndarray) -> np.ndarray:\n",
    "    '''\n",
    "     Args:\n",
    "         model\n",
    "         X: input features\n",
    "    Returns:\n",
    "        Predictions against the instances\n",
    "\n",
    "    '''\n",
    "    W1, b1, W2, b2 = model['W1'], model['b1'], model['W2'], model['b2']\n",
    "\n",
    "    # Forward propagation\n",
    "    z1 = X.dot(W1) + b1\n",
    "\n",
    "    a1 = fn_activ(z1)\n",
    "\n",
    "    z2 = a1.dot(W2) + b2\n",
    "\n",
    "    ###############################\n",
    "    ### Changes for multi class ###\n",
    "    ###############################\n",
    "    # Softmax Activation\n",
    "    a2 = fn_softmax(z2)\n",
    "\n",
    "    return np.argmax(a2, axis =1) # pick with one with highest probabilities"
   ]
  },
  {
   "cell_type": "markdown",
   "metadata": {
    "id": "RbKpIxSd02pi"
   },
   "source": [
    "## Back-propagation for all Rows\n",
    "For all rows, equations will remain same and the values will be divided by <b><i>'m'</i></b>; number of samples.\n",
    "\n",
    "$\n",
    "\\begin{aligned}\n",
    "\\partial{z^{[2]}}  & = a^{[2]} - y  \\\\\n",
    "\\partial{W^{[2]}}  & = \\frac{1}{m} a^{[1]T}\\circ \\partial{z^{[2]}} \\\\\n",
    "\\partial{b^{[2]}}  & = \\frac{1}{m} \\mathrm{np.sum}(\\partial{z^{[2]}}, axis = 0, keepdims = True) \\\\\n",
    "\\\\\n",
    "\\partial{z^{[1]}}  & = \\partial{z^{[2]}}\\circ  W^{[2]T} * ( 1-a^{[1]}**2)\\\\\n",
    "\\partial{W^{[1]}}  & = \\frac{1}{m} X^{T}\\circ \\partial{z^{[1]}} \\\\\n",
    "\\partial{b^{[1]}}  & = \\frac{1}{m} \\mathrm{np.sum}(\\partial{z^{[1]}}, axis = 0, keepdims = True) \\\\\n",
    "\\\\\n",
    "\\end{aligned}\n",
    "$"
   ]
  },
  {
   "cell_type": "markdown",
   "metadata": {
    "id": "AO0dREm202pj"
   },
   "source": [
    "## Prepare Model:"
   ]
  },
  {
   "cell_type": "code",
   "execution_count": null,
   "metadata": {
    "id": "ylYPQygT02pj"
   },
   "outputs": [],
   "source": [
    "def build_model(nn_hdim : np.int64,\n",
    "                X : np.ndarray,\n",
    "                y : np.ndarray,\n",
    "                X_ts : np.ndarray,\n",
    "                y_ts : np.ndarray,\n",
    "                epochs: np.int64 = EPOCHS,\n",
    "                alpha: np.float64 = ALPHA) -> dict:\n",
    "\n",
    "    '''\n",
    "    Args:\n",
    "        nn_hdim : Number of nodes in the hidden layer\n",
    "        X : Training features to train\n",
    "        y : Trainig targets (labels)\n",
    "        epochs : Number of passes through the training data for gradient descent\n",
    "        alpha : learning rate\n",
    "        print_loss : If True, print the loss every nnn iterations\n",
    "\n",
    "    Returns:\n",
    "        Model: Dictionary object containing weights and biases\n",
    "    '''\n",
    "\n",
    "    # Initialize the parameters to random values. We need to learn these.\n",
    "    # Weights\n",
    "    W1 = np.random.randn(nn_input_dim, nn_hdim) / np.sqrt(nn_input_dim)\n",
    "    m_t_W1=np.zeros_like(W1)                                             #\n",
    "    v_t_W1=np.zeros_like(W1)\n",
    "\n",
    "    W2 = np.random.randn(nn_hdim, nn_output_dim) / np.sqrt(nn_hdim)\n",
    "    m_t_W2=np.zeros_like(W2)\n",
    "    v_t_W2=np.zeros_like(W2)\n",
    "\n",
    "    # Bias\n",
    "    b1 = np.zeros((1, nn_hdim))\n",
    "    m_t_b1=np.zeros_like(b1)\n",
    "    v_t_b1=np.zeros_like(b1)\n",
    "\n",
    "    b2 = np.zeros((1, nn_output_dim))\n",
    "    m_t_b2=np.zeros_like(b2)\n",
    "    v_t_b2=np.zeros_like(b2)\n",
    "\n",
    "    curr_loss = 0\n",
    "    loss = []\n",
    "    t_loss = []\n",
    "    acc= []\n",
    "    t_acc = []\n",
    "    epoch = []\n",
    "\n",
    "\n",
    "    batch_size = 64\n",
    "    # Gradient descent. For each batch...\n",
    "\n",
    "    for i in range(0, epochs):\n",
    "        n_batches = X.shape[0] // batch_size\n",
    "\n",
    "        for batch in range(n_batches):\n",
    "\n",
    "            a0=X[batch*batch_size: (batch+1)*batch_size]\n",
    "            y0=y[batch*batch_size: (batch+1)*batch_size]\n",
    "\n",
    "            # number of examples\n",
    "            m = a0.shape[0]\n",
    "\n",
    "            ##########################\n",
    "            #   Forward propagation  #\n",
    "            ##########################\n",
    "\n",
    "            # Layer 1\n",
    "            z1 = a0.dot(W1) + b1\n",
    "\n",
    "            # Activation function for layer 1\n",
    "            a1 = fn_activ(z1)\n",
    "\n",
    "            # Layer 2\n",
    "            z2 = a1.dot(W2) + b2\n",
    "\n",
    "            ###############################\n",
    "            ### Changes for multi class ###\n",
    "            ###############################\n",
    "            a2 = fn_softmax(z2)\n",
    "\n",
    "            #######################\n",
    "            #   Back propagation  #\n",
    "            #######################\n",
    "            # Layer 2\n",
    "            dz2 = a2-y0\n",
    "\n",
    "            dW2 = (a1.T).dot(dz2)\n",
    "            assert(W2.shape == dW2.shape), 'Shape of W2 {} and dW2 {} do not match'.format(W2.shape, dW2.shape)\n",
    "\n",
    "            db2 = np.sum(dz2, axis=0, keepdims=True) # db2 is sum along axis 0\n",
    "            assert(b2.shape == db2.shape), 'Shape of b2 {} and db2 {} do not match'.format(b2.shape, db2.shape)\n",
    "\n",
    "            dz1 = dz2.dot(W2.T) * fn_activ_prime(z1)  #derivative of Activation Function\n",
    "            #                                        '*' indicates element wise multiplication\n",
    "            assert(z1.shape == dz1.shape), 'Shape of z1 {} and dz1 {} do not match'.format(W2.shape, dW2.shape)\n",
    "\n",
    "            dW1 = np.dot(a0.T, dz1)\n",
    "            assert(W1.shape == dW1.shape), 'Shape of W1 {} and dW1 {} do not match'.format(W1.shape, dW1.shape)\n",
    "            db1 = np.sum(dz1, axis=0, keepdims=True)\n",
    "            assert(b1.shape == db1.shape), 'Shape of b1 {} and db1 {} do not match'.format(b1.shape, db1.shape)\n",
    "\n",
    "            #regularization L2 updates\n",
    "            dW1=dW1+LAMBDA*(W1)\n",
    "\n",
    "            dW2=dW2+LAMBDA*(W2)\n",
    "\n",
    "            t=i*n_batches+n_batches\n",
    "\n",
    "\n",
    "            # Gradient descent parameter update\n",
    "            W1 += -adam_optimizer(dW1,m_t_W1,v_t_W1,t) / m\n",
    "            b1 += -adam_optimizer(db1,m_t_b1,v_t_b1,t) / m\n",
    "            W2 += -adam_optimizer(dW2,m_t_W2,v_t_W2,t) / m\n",
    "            b2 += -adam_optimizer(db2,m_t_b2,v_t_b2,t) / m\n",
    "\n",
    "            #  Model as a Dict object to be return.\n",
    "            # Assign new parameters to the model\n",
    "            model = { 'W1': W1, 'b1': b1, 'W2': W2,'b2': b2}\n",
    "\n",
    "            batch=(batch+1)*batch_size\n",
    "\n",
    "        if i % 100:\n",
    "            curr_loss = calculate_loss(model, X, y)\n",
    "            loss.append(curr_loss)\n",
    "\n",
    "            #### Loss on test data\n",
    "            curr_loss = calculate_loss(model, X_ts, y_ts)\n",
    "\n",
    "            t_loss.append(curr_loss)\n",
    "\n",
    "            epoch.append(i)\n",
    "\n",
    "        # Print the loss.\n",
    "        if i % 1000 == 0:\n",
    "            print(\"Loss after iteration %i: %f\" %(i, curr_loss))\n",
    "\n",
    "    loss_hist['epoch'] = epoch\n",
    "    loss_hist['loss'] = loss\n",
    "    loss_hist['t_loss'] = t_loss\n",
    "\n",
    "    return model"
   ]
  },
  {
   "cell_type": "code",
   "execution_count": null,
   "metadata": {
    "id": "2LRT_Uql02pk"
   },
   "outputs": [],
   "source": [
    "num_examples, nn_input_dim = X_train.shape # training set size (rows and cols)\n",
    "nn_output_dim = y_train.shape[1] # output layer dimensionality\n",
    "\n",
    "# lists to facilitate plotting\n",
    "loss_hist = {}"
   ]
  },
  {
   "cell_type": "code",
   "execution_count": null,
   "metadata": {
    "id": "NI33rLJtE_nE",
    "outputId": "02d5856b-41ad-4f52-d729-0f912915b6d4"
   },
   "outputs": [
    {
     "data": {
      "text/plain": [
       "(14517, 33)"
      ]
     },
     "execution_count": 31,
     "metadata": {},
     "output_type": "execute_result"
    }
   ],
   "source": [
    "X_train.shape"
   ]
  },
  {
   "cell_type": "code",
   "execution_count": null,
   "metadata": {
    "colab": {
     "base_uri": "https://localhost:8080/"
    },
    "id": "NWA64gB802pl",
    "outputId": "872231a9-fafd-4dc1-a71a-7e149630ab06"
   },
   "outputs": [
    {
     "name": "stdout",
     "output_type": "stream",
     "text": [
      "Loss after iteration 0: 0.000000\n",
      "Loss after iteration 1000: 0.564456\n",
      "Loss after iteration 2000: 0.575740\n",
      "Loss after iteration 3000: 0.582331\n",
      "Loss after iteration 4000: 0.581239\n",
      "Loss after iteration 5000: 0.585316\n",
      "Loss after iteration 6000: 0.591316\n",
      "Loss after iteration 7000: 0.586414\n",
      "Loss after iteration 8000: 0.584760\n",
      "Loss after iteration 9000: 0.582205\n",
      "Loss after iteration 10000: 0.576262\n"
     ]
    }
   ],
   "source": [
    "# Build a model with a 18-dimensional hidden layer\n",
    "model = build_model(18, X_train, y_train,\n",
    "                    X_test, y_test,\n",
    "                    epochs = EPOCHS,\n",
    "                    alpha = ALPHA)   # test data in"
   ]
  },
  {
   "cell_type": "code",
   "execution_count": null,
   "metadata": {
    "colab": {
     "base_uri": "https://localhost:8080/"
    },
    "id": "ySgcvDEA02pm",
    "outputId": "ebd9e235-1c7a-4692-9b8a-4355d3eee050"
   },
   "outputs": [
    {
     "data": {
      "text/plain": [
       "{'W1': array([[ 1.52622228e+00, -2.90109167e-01, -2.39829109e+00,\n",
       "         -4.31154356e-01,  7.03497059e-01,  7.21371358e-01,\n",
       "          3.08789090e-01, -1.31846564e+00, -2.09894267e+00,\n",
       "          1.37499184e+00,  3.63083540e-01,  5.21627450e-01,\n",
       "          1.31071619e+00,  2.05766625e-01, -6.66943653e-01,\n",
       "          1.00407209e+00, -8.39682852e-01,  1.12555702e+00],\n",
       "        [ 1.89555910e+00,  1.63435454e+00, -2.29782698e+00,\n",
       "         -1.04424105e+00, -9.08828674e-01, -3.27205003e-01,\n",
       "          4.19602367e+00,  6.30630432e-01,  9.81639275e-01,\n",
       "         -2.72809562e-01, -3.78402866e-01,  1.05401243e+00,\n",
       "          1.60503430e+00, -2.59959461e-01,  1.43458738e+00,\n",
       "         -2.51938233e-01,  1.18784232e-01,  5.13498288e-01],\n",
       "        [-1.44459390e+00, -1.19336303e+00,  1.62503065e+00,\n",
       "         -1.09163922e-01,  1.59426604e-01,  1.28713494e+00,\n",
       "         -1.47723236e+00, -1.63200692e+00,  6.36639338e-01,\n",
       "         -2.11847499e+00,  2.32066545e+00, -2.93235975e-01,\n",
       "         -1.12295109e+00, -5.30714454e-01, -3.72604494e+00,\n",
       "          4.49044071e-01,  5.90011609e-01, -5.36691335e-01],\n",
       "        [-4.44219318e-01, -9.01827146e-01,  9.48200923e-01,\n",
       "          7.43765133e-02,  5.78220239e-01,  1.41888197e+00,\n",
       "          6.82928452e-01, -5.70060063e-02, -7.57049522e-01,\n",
       "          2.85421502e-01, -3.11288307e-01,  1.55553896e+00,\n",
       "          8.37862067e-01, -5.50424162e-01,  9.70078078e-01,\n",
       "         -4.01560613e-01,  7.53132852e-02,  2.39303029e+00],\n",
       "        [ 2.14945811e-01,  1.92104857e+00, -9.23221681e-01,\n",
       "          7.82770898e-01,  4.43382557e-01, -1.95738854e+00,\n",
       "         -2.01257035e+00,  2.27733095e+00,  2.40411015e-01,\n",
       "          9.91360456e-01,  3.95712755e-01, -6.51459616e-01,\n",
       "          3.82376971e-01,  2.52086368e-01,  1.76895007e+00,\n",
       "          8.66028958e-02,  1.12353772e-01, -7.62235231e-01],\n",
       "        [-5.29201769e-01,  1.75716537e+00,  3.09599618e-02,\n",
       "         -7.13516118e-01, -1.69169425e+00,  3.18166716e-02,\n",
       "         -6.69185525e-01,  2.36052417e+00, -5.80850850e-01,\n",
       "          1.18961967e+00, -1.83431579e-01,  2.58059232e-01,\n",
       "          2.00625526e-01,  9.12492958e-01,  8.73897771e-01,\n",
       "          3.07688150e-01,  1.51498200e-01, -3.90475540e-01],\n",
       "        [ 1.99025667e-01,  9.14723002e-04,  2.16904565e+00,\n",
       "          2.17048567e-01, -1.08468253e+00, -1.96659894e+00,\n",
       "         -1.05143345e-01, -1.68611119e+00,  1.58739201e+00,\n",
       "         -1.94468734e+00,  2.86326880e-01, -5.30371547e-02,\n",
       "         -4.09828962e-01,  8.16272330e-01, -1.13211647e+00,\n",
       "         -1.46131449e-01, -1.30229455e+00,  3.12396194e-01],\n",
       "        [-2.09029321e-01, -1.52902934e+00,  1.83348450e+00,\n",
       "          1.08655332e+00, -8.52733236e-01,  2.64668324e+00,\n",
       "         -6.34027302e-01, -3.60876851e+00,  1.33489202e+00,\n",
       "         -3.03063846e+00, -3.45889529e-01, -1.20173742e+00,\n",
       "         -1.07565148e+00,  5.10457249e-01, -1.46508559e+00,\n",
       "          2.15807367e-02,  4.49240440e-01, -2.84543071e+00],\n",
       "        [-8.01316241e-01, -3.46846728e-01,  5.61447729e-01,\n",
       "          8.02444842e-01,  2.72268408e-02,  2.60480276e-01,\n",
       "          5.52420488e-01,  3.10398090e-01,  9.40744448e-01,\n",
       "         -4.04672192e-01,  5.89717787e-01,  1.02250741e-01,\n",
       "          3.45602363e-01, -1.59413407e-01, -1.82356255e+00,\n",
       "          9.10595839e-03, -2.72313693e-01, -1.86946285e+00],\n",
       "        [-1.32158513e+00,  3.42387798e-01, -1.22225675e+00,\n",
       "         -9.25920906e-01, -1.16943713e+00, -5.81833581e-01,\n",
       "          5.76614437e-01, -5.89746491e-01, -2.68563288e-01,\n",
       "          9.55921292e-01,  5.00444549e-01,  1.74894776e-01,\n",
       "          9.30290848e-02,  2.41872299e-01,  2.95129964e-01,\n",
       "          4.16515288e-01,  1.59245999e+00, -6.18454983e-01],\n",
       "        [-2.89616424e-01,  6.76452222e-01,  7.63800029e-01,\n",
       "         -8.44950833e-01, -7.23848603e-01,  1.08036772e+00,\n",
       "         -2.39299740e-01,  1.15267226e-01,  8.14766301e-01,\n",
       "          3.58983227e+00, -1.61801753e+00, -6.43992380e-01,\n",
       "         -6.05468422e-01,  1.25915914e+00,  4.18145342e-02,\n",
       "          3.63325035e-01,  1.52753080e+00,  1.07055628e-01],\n",
       "        [ 3.61419252e-01,  1.24964313e-01,  3.50176669e-01,\n",
       "          5.01785729e-01, -6.62142030e-02, -1.16043912e+00,\n",
       "          8.88046432e-02, -3.34681714e-01, -6.94944144e-01,\n",
       "          6.53351012e-01,  3.58334565e-01,  4.86682567e-01,\n",
       "         -2.51900871e-02, -4.38408280e-01, -7.84957067e-01,\n",
       "         -6.30005821e-01,  8.31763005e-01, -8.29126453e-02],\n",
       "        [ 2.52671942e-01,  6.19686835e-01, -6.31933543e-01,\n",
       "          4.12113075e-01,  2.97223955e-01,  4.53355119e-01,\n",
       "          7.00510437e-03,  4.00042958e-01, -6.07828196e-01,\n",
       "          1.16447798e+00, -6.01635251e-01,  3.88162108e-02,\n",
       "         -5.72301167e-01, -6.28286947e-02,  4.99897559e-01,\n",
       "          2.21530281e-01,  3.17393005e-01,  4.37400877e-01],\n",
       "        [-1.30293521e-01, -2.98698816e-01, -3.11604599e-01,\n",
       "         -1.18556447e-01,  9.12928380e-01, -3.65498663e-01,\n",
       "          3.63032565e-01, -7.84399962e-01,  1.63273359e+00,\n",
       "         -1.23115842e+00,  1.60557066e+00,  7.00143731e-02,\n",
       "          5.28925922e-01,  1.67563355e-01, -3.03661834e-01,\n",
       "         -4.49606404e-01,  1.38699231e-01, -1.13115762e-01],\n",
       "        [-3.54934660e-01, -4.49611369e-02,  2.18646784e-01,\n",
       "         -1.78314398e-02,  8.01358825e-04, -8.32655666e-01,\n",
       "          2.43229817e-01,  1.13726565e+00, -1.30984800e+00,\n",
       "         -1.29484593e+00,  8.79054465e-02,  1.40012207e-02,\n",
       "          2.48383981e-01,  3.34863012e-02, -2.21461634e+00,\n",
       "          5.26750532e-01, -1.55373695e+00,  7.88426931e-01],\n",
       "        [ 5.87422220e-01,  7.73782844e-01,  1.80338258e-01,\n",
       "         -1.79889402e-01,  6.28171849e-02, -2.55683332e-01,\n",
       "          5.71934413e-01, -1.68169292e+00,  1.60503845e-01,\n",
       "          4.57519545e-01,  6.33309460e-04, -4.55005334e-01,\n",
       "         -2.42454109e-01,  1.95217342e-01,  4.75846725e-01,\n",
       "          1.51447736e-01, -2.98329531e-01,  4.28624106e-01],\n",
       "        [-3.77161196e-01, -1.52330044e+00, -6.02667311e-01,\n",
       "          5.66953758e-01,  4.53931958e-01, -7.14518250e-01,\n",
       "         -2.25069555e+00,  8.59821634e-01,  2.82562910e-01,\n",
       "         -3.17064933e-01, -1.91015876e-01, -1.48064691e-02,\n",
       "          5.34822843e-01, -6.08181353e-02, -9.35020846e-01,\n",
       "         -1.19682709e+00, -1.02074667e-01, -4.41846904e-01],\n",
       "        [ 6.85902513e-02,  1.27005987e-01, -9.13350182e-01,\n",
       "          6.26431320e-01,  9.46466954e-01,  2.00642251e-02,\n",
       "          1.15900046e+00, -1.06296771e+00, -8.76402835e-01,\n",
       "          9.01539011e-01,  2.15926926e-02,  7.51866135e-01,\n",
       "         -1.44291612e-01,  2.26178770e-01, -4.40788033e-01,\n",
       "         -2.89668943e-01, -9.49352140e-01, -1.22207940e+00],\n",
       "        [-5.31832911e-01, -2.06782979e+00, -8.11480827e-01,\n",
       "          1.67401063e-02,  6.40153780e-01,  1.00315337e+00,\n",
       "         -3.00328956e-01, -7.36596154e-01,  9.02580898e-01,\n",
       "         -1.70737322e-01,  3.81678140e-01, -1.69914814e+00,\n",
       "          4.20654634e-01, -8.77700946e-01,  1.71918515e+00,\n",
       "         -2.81692108e-01, -1.79777991e+00,  1.73312020e+00],\n",
       "        [-2.13439036e-01, -9.77687260e-01,  6.89716135e-01,\n",
       "          3.19384259e-01, -1.33068341e-01,  1.24316249e+00,\n",
       "          5.29738392e-02, -6.64233316e-01, -9.74370659e-01,\n",
       "          3.92078683e-01,  9.23344227e-01,  1.34101811e+00,\n",
       "         -8.48061399e-01, -1.75424124e-01, -6.49435031e-01,\n",
       "         -1.30418309e-01, -6.48654995e-01, -7.03712647e-01],\n",
       "        [ 8.97741985e-01, -2.27535301e+00,  1.28888295e+00,\n",
       "          8.66773539e-01,  1.13608316e-02,  2.87903709e-01,\n",
       "          2.12321485e-01,  1.26270015e+00,  6.09357918e-01,\n",
       "         -6.12453292e-01, -1.02692492e+00, -7.97119730e-01,\n",
       "         -5.47467167e-02, -1.63879717e-01,  5.17082968e-02,\n",
       "         -6.32750476e-01,  3.12651214e-01, -2.99343082e-01],\n",
       "        [ 1.05636398e+00,  1.68853357e-01, -1.33057763e+00,\n",
       "          1.35255173e+00,  9.08772143e-01, -1.47659517e+00,\n",
       "         -1.01322887e+00,  7.85542927e-01,  1.15182923e-01,\n",
       "          1.18645399e+00, -7.98476082e-01, -7.00706732e-01,\n",
       "         -5.07941169e-01,  1.04777573e+00,  8.48209560e-01,\n",
       "          4.76059282e-01, -1.50016018e+00,  3.04546282e-01],\n",
       "        [-2.61120095e+00, -1.44354614e+00, -1.25451581e+00,\n",
       "          7.55091508e-01,  1.06580930e+00,  6.98714453e-01,\n",
       "         -1.28325586e+00, -1.45380351e+00,  1.41234997e+00,\n",
       "         -2.23047539e+00,  5.46423606e-01,  4.21542944e-02,\n",
       "          8.85119250e-01, -7.28591835e-01,  5.29078426e-01,\n",
       "          3.80686781e-01, -8.26956931e-01, -3.01035955e-01],\n",
       "        [ 2.00513392e+00, -7.15353562e-01,  8.30728373e-01,\n",
       "          8.44547678e-02,  1.19221547e+00, -1.58878318e-01,\n",
       "         -6.03411849e-01,  2.16969468e-02,  2.16506900e-02,\n",
       "          2.45947773e-01, -7.90103987e-01,  2.06795721e-02,\n",
       "          1.14549928e-01, -2.23206709e-01,  1.26923139e-01,\n",
       "          3.78406814e-01, -7.38914495e-01, -1.02238881e+00],\n",
       "        [ 3.69462355e-01, -1.21299880e+00, -2.11976781e-01,\n",
       "          4.06033854e-01,  1.06222306e+00, -6.94076771e-01,\n",
       "          8.18174343e-01,  1.12234748e+00, -1.08136010e+00,\n",
       "          7.85675212e-01,  7.54046233e-01,  1.15590733e-01,\n",
       "          9.06900704e-01, -6.27416337e-01,  1.31363319e+00,\n",
       "         -4.64256813e-01,  9.85092185e-01,  1.09302355e+00],\n",
       "        [-1.18172054e+00,  1.41832854e+00, -9.29431042e-01,\n",
       "         -1.04067467e-01, -3.25260059e-01, -6.96957386e-01,\n",
       "          1.20516189e+00,  2.06319794e+00,  1.21920599e+00,\n",
       "         -6.07949804e-01, -5.09993576e-01, -1.47063901e+00,\n",
       "         -2.09012731e+00,  1.85186434e-01, -5.23261693e-01,\n",
       "         -1.18796981e+00,  9.33670450e-01,  2.08247285e-01],\n",
       "        [-2.50360923e-01,  9.84872027e-01,  7.07319841e-01,\n",
       "         -1.15595049e+00, -3.33995308e-01, -8.58584962e-01,\n",
       "         -2.03232538e+00, -8.42359710e-01,  9.94695709e-01,\n",
       "          3.67567301e-01, -2.12243228e+00,  1.12398909e-01,\n",
       "          1.11682149e-01,  8.36984867e-01,  6.93973739e-01,\n",
       "         -1.28366863e+00, -7.03504009e-01,  2.77418488e-01],\n",
       "        [-2.01012683e-01,  2.97805230e+00, -5.78858774e-01,\n",
       "         -2.61625191e+00, -1.76234657e+00, -1.33034788e+00,\n",
       "          4.43711263e-01,  1.60555157e+00, -3.12804936e-01,\n",
       "          1.86158110e-01, -2.61219514e+00, -9.74030273e-01,\n",
       "          2.75326768e-01,  1.06107131e+00,  2.56738154e+00,\n",
       "          4.40500418e-01, -9.62946118e-02, -7.49849903e-01],\n",
       "        [-1.58083135e+00, -2.72513460e+00, -2.05708527e-01,\n",
       "          2.14691669e+00,  8.60833109e-01, -6.49096617e-02,\n",
       "          9.38312210e-01,  2.52182419e-01,  1.39382587e+00,\n",
       "         -1.03100975e+00, -1.98049148e+00,  6.06636519e-01,\n",
       "         -3.42562776e-01,  1.54962035e+00,  1.03255967e-01,\n",
       "          6.74492551e-01,  5.59975691e-01,  9.29267821e-01],\n",
       "        [-5.42538067e-01,  1.05463522e+00, -8.87925815e-01,\n",
       "          8.65448845e-01,  2.00570566e-01, -3.92828137e-01,\n",
       "          6.25229226e-01,  3.96135301e-01,  5.22518306e-01,\n",
       "         -9.72423010e-01,  8.99354713e-01, -1.97450510e-03,\n",
       "          7.50175241e-01, -4.54357988e-01,  4.88941576e-01,\n",
       "         -7.29703306e-02,  6.19992271e-01, -1.12962903e+00],\n",
       "        [-1.21773571e+00, -8.77739075e-01, -8.57952036e-01,\n",
       "          7.90349931e-01,  5.60781981e-01,  4.40320042e-01,\n",
       "          1.31119881e+00, -1.17354305e-01, -9.01576300e-01,\n",
       "         -1.72715345e+00,  3.35016236e-01,  1.73680215e-01,\n",
       "         -1.20471476e-01,  7.01477758e-01,  1.54078938e-02,\n",
       "         -9.63758469e-01,  3.44891003e-01,  2.07313134e+00],\n",
       "        [-3.90186018e-01, -4.15357599e-01, -1.01835705e+00,\n",
       "          1.77736889e-01,  6.66337361e-01,  9.10412771e-01,\n",
       "          5.37934268e-01, -6.40236575e-01,  1.21537798e+00,\n",
       "         -6.01055746e-01, -6.61210409e-01,  1.27508978e+00,\n",
       "         -1.93920150e+00,  5.74200270e-02, -1.24039417e+00,\n",
       "         -1.21195969e+00, -1.72667074e-01,  5.62927625e-01],\n",
       "        [-3.27979994e-01, -5.15405031e-01, -9.68479112e-01,\n",
       "          1.17989137e+00,  4.32479850e-01, -1.43154165e+00,\n",
       "         -1.65345727e+00,  4.11434735e-02, -9.02955602e-01,\n",
       "         -3.46927088e-02, -5.97652339e-01, -1.11192819e+00,\n",
       "          3.98825570e-01,  5.74294349e-01,  1.66558992e+00,\n",
       "          1.01481225e+00,  5.02625070e-01, -2.34380897e-01]]),\n",
       " 'b1': array([[-3.14280269, -0.05847077, -1.40138722,  1.88562393,  1.89374552,\n",
       "          1.29813394, -1.67073861, -2.59214661,  2.60124565,  0.40544971,\n",
       "          1.07403244, -1.96662161, -2.27676721, -2.03476835,  1.30429314,\n",
       "          0.38414663, -2.3824783 , -2.40257434]]),\n",
       " 'W2': array([[-0.95097379, -0.21341586, -0.40807687,  0.49905534],\n",
       "        [ 0.15151281,  3.34530925,  3.02115068,  2.77407311],\n",
       "        [-0.04822814,  1.56093055,  1.18661888,  0.83782865],\n",
       "        [-0.03968829, -3.51151311, -2.95726657, -3.32475022],\n",
       "        [-0.05487603, -1.38845906, -1.17424062, -0.92499727],\n",
       "        [-0.14789999, -1.68686272, -1.29769298, -1.11619326],\n",
       "        [ 0.07469161, -1.89370309, -3.41093596, -2.93399552],\n",
       "        [ 0.08559589,  0.17110826, -0.40289177,  0.07485276],\n",
       "        [-0.1511021 , -0.12419626, -0.2003641 , -0.45705912],\n",
       "        [-0.67062067,  1.22243218,  0.82654348,  1.39926259],\n",
       "        [-0.51964272, -0.61918205,  0.02184143,  0.95023592],\n",
       "        [ 0.31324249, -1.60673461, -1.86808374, -1.50313006],\n",
       "        [-0.95100578, -0.32773551,  0.46461783,  0.85838006],\n",
       "        [ 0.36334207, -0.55682879, -1.46576447, -0.53635886],\n",
       "        [ 0.24807379,  0.55515319, -0.22396537, -0.41388309],\n",
       "        [ 0.20901661, -0.13587392,  1.33209117,  2.15305635],\n",
       "        [ 1.37897252, -1.21844679, -1.33834487, -1.47541758],\n",
       "        [ 0.2989931 , -2.27544663, -1.95886551, -1.47797475]]),\n",
       " 'b2': array([[-10.04201483,   0.7242466 ,   1.2896438 ,   0.78852848]])}"
      ]
     },
     "execution_count": 33,
     "metadata": {},
     "output_type": "execute_result"
    }
   ],
   "source": [
    "model"
   ]
  },
  {
   "cell_type": "code",
   "execution_count": null,
   "metadata": {
    "id": "oa8WtTI202pn"
   },
   "outputs": [],
   "source": [
    "loss_df = pd.DataFrame(loss_hist)"
   ]
  },
  {
   "cell_type": "code",
   "execution_count": null,
   "metadata": {
    "id": "TogIxv-ME_nF",
    "outputId": "7526bb86-646a-43ae-bab9-e299c9035290"
   },
   "outputs": [
    {
     "data": {
      "text/html": [
       "<div>\n",
       "<style scoped>\n",
       "    .dataframe tbody tr th:only-of-type {\n",
       "        vertical-align: middle;\n",
       "    }\n",
       "\n",
       "    .dataframe tbody tr th {\n",
       "        vertical-align: top;\n",
       "    }\n",
       "\n",
       "    .dataframe thead th {\n",
       "        text-align: right;\n",
       "    }\n",
       "</style>\n",
       "<table border=\"1\" class=\"dataframe\">\n",
       "  <thead>\n",
       "    <tr style=\"text-align: right;\">\n",
       "      <th></th>\n",
       "      <th>epoch</th>\n",
       "      <th>loss</th>\n",
       "      <th>t_loss</th>\n",
       "    </tr>\n",
       "  </thead>\n",
       "  <tbody>\n",
       "    <tr>\n",
       "      <th>0</th>\n",
       "      <td>1</td>\n",
       "      <td>1.761854</td>\n",
       "      <td>1.751764</td>\n",
       "    </tr>\n",
       "    <tr>\n",
       "      <th>1</th>\n",
       "      <td>2</td>\n",
       "      <td>1.597285</td>\n",
       "      <td>1.586484</td>\n",
       "    </tr>\n",
       "    <tr>\n",
       "      <th>2</th>\n",
       "      <td>3</td>\n",
       "      <td>1.451833</td>\n",
       "      <td>1.441214</td>\n",
       "    </tr>\n",
       "    <tr>\n",
       "      <th>3</th>\n",
       "      <td>4</td>\n",
       "      <td>1.329308</td>\n",
       "      <td>1.319614</td>\n",
       "    </tr>\n",
       "    <tr>\n",
       "      <th>4</th>\n",
       "      <td>5</td>\n",
       "      <td>1.230199</td>\n",
       "      <td>1.221735</td>\n",
       "    </tr>\n",
       "  </tbody>\n",
       "</table>\n",
       "</div>"
      ],
      "text/plain": [
       "   epoch      loss    t_loss\n",
       "0      1  1.761854  1.751764\n",
       "1      2  1.597285  1.586484\n",
       "2      3  1.451833  1.441214\n",
       "3      4  1.329308  1.319614\n",
       "4      5  1.230199  1.221735"
      ]
     },
     "execution_count": 35,
     "metadata": {},
     "output_type": "execute_result"
    }
   ],
   "source": [
    "loss_df.head()"
   ]
  },
  {
   "cell_type": "code",
   "execution_count": null,
   "metadata": {
    "colab": {
     "base_uri": "https://localhost:8080/",
     "height": 441
    },
    "id": "Y5CC6P4F02pn",
    "outputId": "706ee179-8e88-4084-c0be-14c5872fa3e4"
   },
   "outputs": [
    {
     "data": {
      "image/png": "[encoded data removed]",
      "text/plain": [
       "<Figure size 1500x600 with 2 Axes>"
      ]
     },
     "metadata": {},
     "output_type": "display_data"
    }
   ],
   "source": [
    "fig, axes = plt.subplots(1,2 , figsize = (15,6))\n",
    "\n",
    "l_range = 50\n",
    "\n",
    "ax = axes[0]\n",
    "\n",
    "loss_df.plot(x = 'epoch', y = ['loss', 't_loss'], ax = ax)\n",
    "\n",
    "# little beautification\n",
    "txtstr = \"Errors: \\n  Start : {:7.4f}\\n   End : {:7.4f}\".format(loss_df.iloc[0]['loss'],\n",
    "                                                                loss_df.iloc[-1]['loss']) #text to plot\n",
    "\n",
    "# properties  matplotlib.patch.Patch\n",
    "props = dict(boxstyle='round', facecolor='aqua', alpha=0.5)\n",
    "\n",
    "# place a text box in upper left in axes coords\n",
    "\n",
    "ax.text(0.6, 0.95, txtstr, transform=ax.transAxes, fontsize=14,\n",
    "        verticalalignment='top', bbox=props)\n",
    "\n",
    "ax.set_xlabel(\"Epochs\")\n",
    "ax.set_ylabel(\"Error\")\n",
    "ax.set_title('Overall')\n",
    "ax.grid();\n",
    "\n",
    "ax = axes[1]\n",
    "\n",
    "loss_df[-l_range:].plot(x = 'epoch', y = ['loss', 't_loss'], ax = ax)\n",
    "\n",
    "# little beautification\n",
    "txtstr = \"Errors: \\n  Start : {:7.4f}\\n   End : {:7.4f}\".format(loss_df.iloc[-l_range]['loss'],\n",
    "                                                                loss_df.iloc[-1]['loss']) #text to plot\n",
    "# place a text box in upper left in axes coords\n",
    "\n",
    "ax.text(0.6, 0.95, txtstr, transform=ax.transAxes, fontsize=14,\n",
    "        verticalalignment='top', bbox=props)\n",
    "\n",
    "ax.set_xlabel(\"Epochs\")\n",
    "ax.set_ylabel(\"Error\")\n",
    "ax.set_title('Last {} records'.format(l_range))\n",
    "ax.grid();\n",
    "plt.tight_layout()"
   ]
  },
  {
   "cell_type": "code",
   "execution_count": null,
   "metadata": {
    "id": "qgijAjtoE_nG",
    "outputId": "05266099-2bf2-44fe-f8bc-85c1ad495c45"
   },
   "outputs": [
    {
     "data": {
      "text/html": [
       "<div>\n",
       "<style scoped>\n",
       "    .dataframe tbody tr th:only-of-type {\n",
       "        vertical-align: middle;\n",
       "    }\n",
       "\n",
       "    .dataframe tbody tr th {\n",
       "        vertical-align: top;\n",
       "    }\n",
       "\n",
       "    .dataframe thead th {\n",
       "        text-align: right;\n",
       "    }\n",
       "</style>\n",
       "<table border=\"1\" class=\"dataframe\">\n",
       "  <thead>\n",
       "    <tr style=\"text-align: right;\">\n",
       "      <th></th>\n",
       "      <th>epoch</th>\n",
       "      <th>loss</th>\n",
       "      <th>t_loss</th>\n",
       "    </tr>\n",
       "  </thead>\n",
       "  <tbody>\n",
       "    <tr>\n",
       "      <th>603</th>\n",
       "      <td>610</td>\n",
       "      <td>0.564898</td>\n",
       "      <td>0.555813</td>\n",
       "    </tr>\n",
       "  </tbody>\n",
       "</table>\n",
       "</div>"
      ],
      "text/plain": [
       "     epoch      loss    t_loss\n",
       "603    610  0.564898  0.555813"
      ]
     },
     "execution_count": 37,
     "metadata": {},
     "output_type": "execute_result"
    }
   ],
   "source": [
    "loss_df[loss_df['t_loss'] == loss_df['t_loss'].min()]"
   ]
  },
  {
   "cell_type": "markdown",
   "metadata": {
    "id": "fJQkxKJfE_nG"
   },
   "source": [
    "## Predictions"
   ]
  },
  {
   "cell_type": "code",
   "execution_count": null,
   "metadata": {
    "colab": {
     "base_uri": "https://localhost:8080/"
    },
    "id": "TpTJ41pP02po",
    "outputId": "f3bda5d5-1d08-4307-ca44-ff1354e9d676"
   },
   "outputs": [
    {
     "name": "stdout",
     "output_type": "stream",
     "text": [
      "Accuracy score on Train Data : 0.886615691947372\n"
     ]
    }
   ],
   "source": [
    "y_pred = predict(model, X_train)\n",
    "print('Accuracy score on Train Data :', accuracy_score(np.argmax(y_train, axis =1), y_pred))"
   ]
  },
  {
   "cell_type": "code",
   "execution_count": null,
   "metadata": {
    "colab": {
     "base_uri": "https://localhost:8080/"
    },
    "id": "MJhVHaoe17Kx",
    "outputId": "f54ec5b6-ad6b-4537-97ac-b3eae4326364"
   },
   "outputs": [
    {
     "name": "stdout",
     "output_type": "stream",
     "text": [
      "              precision    recall  f1-score   support\n",
      "\n",
      "           0       1.00      1.00      1.00      1620\n",
      "           1       0.92      0.93      0.93      4693\n",
      "           2       0.84      0.87      0.85      5470\n",
      "           3       0.85      0.78      0.82      2734\n",
      "\n",
      "    accuracy                           0.89     14517\n",
      "   macro avg       0.90      0.90      0.90     14517\n",
      "weighted avg       0.89      0.89      0.89     14517\n",
      "\n"
     ]
    }
   ],
   "source": [
    "print(classification_report(np.argmax(y_train, axis =1), y_pred))"
   ]
  },
  {
   "cell_type": "markdown",
   "metadata": {
    "id": "syuOkjNvE_nH"
   },
   "source": [
    "### Test Data"
   ]
  },
  {
   "cell_type": "code",
   "execution_count": null,
   "metadata": {
    "colab": {
     "base_uri": "https://localhost:8080/"
    },
    "id": "ALSrXj1y02pp",
    "outputId": "85d712a1-a35e-4f4f-9075-10c6013b8b48"
   },
   "outputs": [
    {
     "name": "stdout",
     "output_type": "stream",
     "text": [
      "Accuracy score on Test Data : 0.8815426997245179\n"
     ]
    }
   ],
   "source": [
    "y_pred = predict(model,X_test)\n",
    "\n",
    "print('Accuracy score on Test Data :', accuracy_score(np.argmax(y_test, axis = 1), y_pred))"
   ]
  },
  {
   "cell_type": "code",
   "execution_count": null,
   "metadata": {
    "colab": {
     "base_uri": "https://localhost:8080/"
    },
    "id": "2-9J2srK02pp",
    "outputId": "d53e6cdf-9108-48f1-a812-8a8d32529912"
   },
   "outputs": [
    {
     "name": "stdout",
     "output_type": "stream",
     "text": [
      "              precision    recall  f1-score   support\n",
      "\n",
      "           0       1.00      1.00      1.00       405\n",
      "           1       0.91      0.93      0.92      1173\n",
      "           2       0.83      0.86      0.85      1368\n",
      "           3       0.85      0.77      0.81       684\n",
      "\n",
      "    accuracy                           0.88      3630\n",
      "   macro avg       0.90      0.89      0.89      3630\n",
      "weighted avg       0.88      0.88      0.88      3630\n",
      "\n"
     ]
    }
   ],
   "source": [
    "print(classification_report(np.argmax(y_test, axis = 1), y_pred))"
   ]
  },
  {
   "cell_type": "code",
   "execution_count": null,
   "metadata": {
    "id": "jm3Dj2-FE_nI",
    "outputId": "9a74b3ad-56a6-407c-a136-d6d755433652"
   },
   "outputs": [
    {
     "data": {
      "text/plain": [
       "array([[ 405,    0,    0,    0],\n",
       "       [   0, 1087,   84,    2],\n",
       "       [   0,  100, 1178,   90],\n",
       "       [   0,    2,  152,  530]])"
      ]
     },
     "execution_count": 42,
     "metadata": {},
     "output_type": "execute_result"
    }
   ],
   "source": [
    "## Confusion Matrix helps\n",
    "\n",
    "cm  = confusion_matrix(np.argmax(y_test, axis = 1), y_pred)\n",
    "cm"
   ]
  },
  {
   "cell_type": "code",
   "execution_count": null,
   "metadata": {
    "id": "O8ZleMXoE_nI",
    "outputId": "ddfdfd38-260c-4973-ff6d-4d1c11013033"
   },
   "outputs": [
    {
     "data": {
      "image/png": "[encoded data removed]",
      "text/plain": [
       "<Figure size 400x400 with 1 Axes>"
      ]
     },
     "metadata": {},
     "output_type": "display_data"
    }
   ],
   "source": [
    "disp = ConfusionMatrixDisplay(confusion_matrix=cm,\n",
    "                              display_labels = labels.values())\n",
    "\n",
    "fig, ax = plt.subplots(figsize = (4,4))\n",
    "\n",
    "disp.plot(ax = ax, cmap = 'Blues', colorbar=False)\n",
    "plt.xticks(rotation=90)\n",
    "plt.show();"
   ]
  }
 ],
 "metadata": {
  "accelerator": "GPU",
  "colab": {
   "provenance": []
  },
  "kernelspec": {
   "display_name": "Python 3 (ipykernel)",
   "language": "python",
   "name": "python3"
  },
  "language_info": {
   "codemirror_mode": {
    "name": "ipython",
    "version": 3
   },
   "file_extension": ".py",
   "mimetype": "text/x-python",
   "name": "python",
   "nbconvert_exporter": "python",
   "pygments_lexer": "ipython3",
   "version": "3.11.5"
  }
 },
 "nbformat": 4,
 "nbformat_minor": 1
}
